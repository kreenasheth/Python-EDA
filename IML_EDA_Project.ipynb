{
 "cells": [
  {
   "cell_type": "code",
   "execution_count": 1,
   "id": "7f11cf31",
   "metadata": {
    "id": "7f11cf31"
   },
   "outputs": [],
   "source": [
    "import pandas as pd\n",
    "import matplotlib.pyplot as plt\n",
    "import seaborn as sns\n"
   ]
  },
  {
   "cell_type": "code",
   "execution_count": 2,
   "id": "099db155",
   "metadata": {
    "id": "099db155"
   },
   "outputs": [],
   "source": [
    "data = pd.read_csv('attrition.csv')"
   ]
  },
  {
   "cell_type": "code",
   "execution_count": 3,
   "id": "de1547bc",
   "metadata": {
    "colab": {
     "base_uri": "https://localhost:8080/",
     "height": 340
    },
    "id": "de1547bc",
    "outputId": "881ce077-ad8d-4792-b836-5c77948f8d0d"
   },
   "outputs": [
    {
     "data": {
      "text/html": [
       "<div>\n",
       "<style scoped>\n",
       "    .dataframe tbody tr th:only-of-type {\n",
       "        vertical-align: middle;\n",
       "    }\n",
       "\n",
       "    .dataframe tbody tr th {\n",
       "        vertical-align: top;\n",
       "    }\n",
       "\n",
       "    .dataframe thead th {\n",
       "        text-align: right;\n",
       "    }\n",
       "</style>\n",
       "<table border=\"1\" class=\"dataframe\">\n",
       "  <thead>\n",
       "    <tr style=\"text-align: right;\">\n",
       "      <th></th>\n",
       "      <th>Age</th>\n",
       "      <th>Attrition</th>\n",
       "      <th>BusinessTravel</th>\n",
       "      <th>Department</th>\n",
       "      <th>EducationField</th>\n",
       "      <th>EnvironmentSatisfaction</th>\n",
       "      <th>Gender</th>\n",
       "      <th>JobInvolvement</th>\n",
       "      <th>JobLevel</th>\n",
       "      <th>JobSatisfaction</th>\n",
       "      <th>MaritalStatus</th>\n",
       "      <th>MonthlyIncome</th>\n",
       "      <th>OverTime</th>\n",
       "      <th>TotalWorkingYears</th>\n",
       "      <th>WorkLifeBalance</th>\n",
       "      <th>YearsAtCompany</th>\n",
       "      <th>YearsInCurrentRole</th>\n",
       "      <th>YearsSinceLastPromotion</th>\n",
       "      <th>YearsWithCurrManager</th>\n",
       "      <th>DistanceFromHome</th>\n",
       "    </tr>\n",
       "  </thead>\n",
       "  <tbody>\n",
       "    <tr>\n",
       "      <th>0</th>\n",
       "      <td>41</td>\n",
       "      <td>1</td>\n",
       "      <td>Travel_Rarely</td>\n",
       "      <td>Sales</td>\n",
       "      <td>Life Sciences</td>\n",
       "      <td>2</td>\n",
       "      <td>Female</td>\n",
       "      <td>3</td>\n",
       "      <td>2</td>\n",
       "      <td>4</td>\n",
       "      <td>Single</td>\n",
       "      <td>5993</td>\n",
       "      <td>Yes</td>\n",
       "      <td>8</td>\n",
       "      <td>1</td>\n",
       "      <td>6</td>\n",
       "      <td>4</td>\n",
       "      <td>0</td>\n",
       "      <td>5</td>\n",
       "      <td>1</td>\n",
       "    </tr>\n",
       "    <tr>\n",
       "      <th>1</th>\n",
       "      <td>49</td>\n",
       "      <td>0</td>\n",
       "      <td>Travel_Frequently</td>\n",
       "      <td>Research &amp; Development</td>\n",
       "      <td>Life Sciences</td>\n",
       "      <td>3</td>\n",
       "      <td>Male</td>\n",
       "      <td>2</td>\n",
       "      <td>2</td>\n",
       "      <td>2</td>\n",
       "      <td>Married</td>\n",
       "      <td>5130</td>\n",
       "      <td>No</td>\n",
       "      <td>10</td>\n",
       "      <td>3</td>\n",
       "      <td>10</td>\n",
       "      <td>7</td>\n",
       "      <td>1</td>\n",
       "      <td>7</td>\n",
       "      <td>8</td>\n",
       "    </tr>\n",
       "    <tr>\n",
       "      <th>2</th>\n",
       "      <td>37</td>\n",
       "      <td>1</td>\n",
       "      <td>Travel_Rarely</td>\n",
       "      <td>Research &amp; Development</td>\n",
       "      <td>Other</td>\n",
       "      <td>4</td>\n",
       "      <td>Male</td>\n",
       "      <td>2</td>\n",
       "      <td>1</td>\n",
       "      <td>3</td>\n",
       "      <td>Single</td>\n",
       "      <td>2090</td>\n",
       "      <td>Yes</td>\n",
       "      <td>7</td>\n",
       "      <td>3</td>\n",
       "      <td>0</td>\n",
       "      <td>0</td>\n",
       "      <td>0</td>\n",
       "      <td>0</td>\n",
       "      <td>2</td>\n",
       "    </tr>\n",
       "    <tr>\n",
       "      <th>3</th>\n",
       "      <td>33</td>\n",
       "      <td>0</td>\n",
       "      <td>Travel_Frequently</td>\n",
       "      <td>Research &amp; Development</td>\n",
       "      <td>Life Sciences</td>\n",
       "      <td>4</td>\n",
       "      <td>Female</td>\n",
       "      <td>3</td>\n",
       "      <td>1</td>\n",
       "      <td>3</td>\n",
       "      <td>Married</td>\n",
       "      <td>2909</td>\n",
       "      <td>Yes</td>\n",
       "      <td>8</td>\n",
       "      <td>3</td>\n",
       "      <td>8</td>\n",
       "      <td>7</td>\n",
       "      <td>3</td>\n",
       "      <td>0</td>\n",
       "      <td>3</td>\n",
       "    </tr>\n",
       "    <tr>\n",
       "      <th>4</th>\n",
       "      <td>27</td>\n",
       "      <td>0</td>\n",
       "      <td>Travel_Rarely</td>\n",
       "      <td>Research &amp; Development</td>\n",
       "      <td>Medical</td>\n",
       "      <td>1</td>\n",
       "      <td>Male</td>\n",
       "      <td>3</td>\n",
       "      <td>1</td>\n",
       "      <td>2</td>\n",
       "      <td>Married</td>\n",
       "      <td>3468</td>\n",
       "      <td>No</td>\n",
       "      <td>6</td>\n",
       "      <td>3</td>\n",
       "      <td>2</td>\n",
       "      <td>2</td>\n",
       "      <td>2</td>\n",
       "      <td>2</td>\n",
       "      <td>2</td>\n",
       "    </tr>\n",
       "  </tbody>\n",
       "</table>\n",
       "</div>"
      ],
      "text/plain": [
       "   Age  Attrition     BusinessTravel              Department EducationField  \\\n",
       "0   41          1      Travel_Rarely                   Sales  Life Sciences   \n",
       "1   49          0  Travel_Frequently  Research & Development  Life Sciences   \n",
       "2   37          1      Travel_Rarely  Research & Development          Other   \n",
       "3   33          0  Travel_Frequently  Research & Development  Life Sciences   \n",
       "4   27          0      Travel_Rarely  Research & Development        Medical   \n",
       "\n",
       "   EnvironmentSatisfaction  Gender  JobInvolvement  JobLevel  JobSatisfaction  \\\n",
       "0                        2  Female               3         2                4   \n",
       "1                        3    Male               2         2                2   \n",
       "2                        4    Male               2         1                3   \n",
       "3                        4  Female               3         1                3   \n",
       "4                        1    Male               3         1                2   \n",
       "\n",
       "  MaritalStatus  MonthlyIncome OverTime  TotalWorkingYears  WorkLifeBalance  \\\n",
       "0        Single           5993      Yes                  8                1   \n",
       "1       Married           5130       No                 10                3   \n",
       "2        Single           2090      Yes                  7                3   \n",
       "3       Married           2909      Yes                  8                3   \n",
       "4       Married           3468       No                  6                3   \n",
       "\n",
       "   YearsAtCompany  YearsInCurrentRole  YearsSinceLastPromotion  \\\n",
       "0               6                   4                        0   \n",
       "1              10                   7                        1   \n",
       "2               0                   0                        0   \n",
       "3               8                   7                        3   \n",
       "4               2                   2                        2   \n",
       "\n",
       "   YearsWithCurrManager  DistanceFromHome  \n",
       "0                     5                 1  \n",
       "1                     7                 8  \n",
       "2                     0                 2  \n",
       "3                     0                 3  \n",
       "4                     2                 2  "
      ]
     },
     "execution_count": 3,
     "metadata": {},
     "output_type": "execute_result"
    }
   ],
   "source": [
    "data.head()"
   ]
  },
  {
   "cell_type": "code",
   "execution_count": 4,
   "id": "WNxwCBSpbalW",
   "metadata": {
    "id": "WNxwCBSpbalW"
   },
   "outputs": [],
   "source": [
    "n=len(data)"
   ]
  },
  {
   "cell_type": "code",
   "execution_count": 5,
   "id": "fa5d39ad",
   "metadata": {
    "colab": {
     "base_uri": "https://localhost:8080/"
    },
    "id": "fa5d39ad",
    "outputId": "4e2e3b15-368d-46a4-ab3d-42c4fc1e09d3"
   },
   "outputs": [
    {
     "data": {
      "text/plain": [
       "0    1233\n",
       "1     237\n",
       "Name: Attrition, dtype: int64"
      ]
     },
     "execution_count": 5,
     "metadata": {},
     "output_type": "execute_result"
    }
   ],
   "source": [
    "data.Attrition.value_counts()  \n",
    "# Attrition count"
   ]
  },
  {
   "cell_type": "code",
   "execution_count": 7,
   "id": "9c27af00",
   "metadata": {
    "colab": {
     "base_uri": "https://localhost:8080/",
     "height": 483
    },
    "id": "9c27af00",
    "outputId": "748e3ea1-ab53-44fb-998e-0bf00eccc533"
   },
   "outputs": [
    {
     "data": {
      "image/png": "[encoded data removed]",
      "text/plain": [
       "<Figure size 1080x576 with 1 Axes>"
      ]
     },
     "metadata": {},
     "output_type": "display_data"
    }
   ],
   "source": [
    "mylab=data.Attrition.value_counts().index\n",
    "data.Attrition.value_counts().plot(kind='pie',figsize=(15,8),\n",
    "                                  startangle=90,shadow=True,labels=mylab,autopct='%1.1f%%',fontsize=13)\n",
    "plt.show()"
   ]
  },
  {
   "cell_type": "code",
   "execution_count": 8,
   "id": "a48b435c",
   "metadata": {
    "colab": {
     "base_uri": "https://localhost:8080/",
     "height": 364
    },
    "id": "a48b435c",
    "outputId": "7f1853d4-130f-4c1d-d304-d1282087190f"
   },
   "outputs": [
    {
     "data": {
      "text/html": [
       "<div>\n",
       "<style scoped>\n",
       "    .dataframe tbody tr th:only-of-type {\n",
       "        vertical-align: middle;\n",
       "    }\n",
       "\n",
       "    .dataframe tbody tr th {\n",
       "        vertical-align: top;\n",
       "    }\n",
       "\n",
       "    .dataframe thead th {\n",
       "        text-align: right;\n",
       "    }\n",
       "</style>\n",
       "<table border=\"1\" class=\"dataframe\">\n",
       "  <thead>\n",
       "    <tr style=\"text-align: right;\">\n",
       "      <th></th>\n",
       "      <th>Age</th>\n",
       "      <th>Attrition</th>\n",
       "      <th>EnvironmentSatisfaction</th>\n",
       "      <th>JobInvolvement</th>\n",
       "      <th>JobLevel</th>\n",
       "      <th>JobSatisfaction</th>\n",
       "      <th>MonthlyIncome</th>\n",
       "      <th>TotalWorkingYears</th>\n",
       "      <th>WorkLifeBalance</th>\n",
       "      <th>YearsAtCompany</th>\n",
       "      <th>YearsInCurrentRole</th>\n",
       "      <th>YearsSinceLastPromotion</th>\n",
       "      <th>YearsWithCurrManager</th>\n",
       "      <th>DistanceFromHome</th>\n",
       "    </tr>\n",
       "  </thead>\n",
       "  <tbody>\n",
       "    <tr>\n",
       "      <th>count</th>\n",
       "      <td>1470.000000</td>\n",
       "      <td>1470.000000</td>\n",
       "      <td>1470.000000</td>\n",
       "      <td>1470.000000</td>\n",
       "      <td>1470.000000</td>\n",
       "      <td>1470.000000</td>\n",
       "      <td>1470.000000</td>\n",
       "      <td>1470.000000</td>\n",
       "      <td>1470.000000</td>\n",
       "      <td>1470.000000</td>\n",
       "      <td>1470.000000</td>\n",
       "      <td>1470.000000</td>\n",
       "      <td>1470.000000</td>\n",
       "      <td>1470.000000</td>\n",
       "    </tr>\n",
       "    <tr>\n",
       "      <th>mean</th>\n",
       "      <td>36.923810</td>\n",
       "      <td>0.161224</td>\n",
       "      <td>2.721769</td>\n",
       "      <td>2.729932</td>\n",
       "      <td>2.063946</td>\n",
       "      <td>2.728571</td>\n",
       "      <td>6502.931293</td>\n",
       "      <td>11.279592</td>\n",
       "      <td>2.761224</td>\n",
       "      <td>7.008163</td>\n",
       "      <td>4.229252</td>\n",
       "      <td>2.187755</td>\n",
       "      <td>4.123129</td>\n",
       "      <td>9.192517</td>\n",
       "    </tr>\n",
       "    <tr>\n",
       "      <th>std</th>\n",
       "      <td>9.135373</td>\n",
       "      <td>0.367863</td>\n",
       "      <td>1.093082</td>\n",
       "      <td>0.711561</td>\n",
       "      <td>1.106940</td>\n",
       "      <td>1.102846</td>\n",
       "      <td>4707.956783</td>\n",
       "      <td>7.780782</td>\n",
       "      <td>0.706476</td>\n",
       "      <td>6.126525</td>\n",
       "      <td>3.623137</td>\n",
       "      <td>3.222430</td>\n",
       "      <td>3.568136</td>\n",
       "      <td>8.106864</td>\n",
       "    </tr>\n",
       "    <tr>\n",
       "      <th>min</th>\n",
       "      <td>18.000000</td>\n",
       "      <td>0.000000</td>\n",
       "      <td>1.000000</td>\n",
       "      <td>1.000000</td>\n",
       "      <td>1.000000</td>\n",
       "      <td>1.000000</td>\n",
       "      <td>1009.000000</td>\n",
       "      <td>0.000000</td>\n",
       "      <td>1.000000</td>\n",
       "      <td>0.000000</td>\n",
       "      <td>0.000000</td>\n",
       "      <td>0.000000</td>\n",
       "      <td>0.000000</td>\n",
       "      <td>1.000000</td>\n",
       "    </tr>\n",
       "    <tr>\n",
       "      <th>25%</th>\n",
       "      <td>30.000000</td>\n",
       "      <td>0.000000</td>\n",
       "      <td>2.000000</td>\n",
       "      <td>2.000000</td>\n",
       "      <td>1.000000</td>\n",
       "      <td>2.000000</td>\n",
       "      <td>2911.000000</td>\n",
       "      <td>6.000000</td>\n",
       "      <td>2.000000</td>\n",
       "      <td>3.000000</td>\n",
       "      <td>2.000000</td>\n",
       "      <td>0.000000</td>\n",
       "      <td>2.000000</td>\n",
       "      <td>2.000000</td>\n",
       "    </tr>\n",
       "    <tr>\n",
       "      <th>50%</th>\n",
       "      <td>36.000000</td>\n",
       "      <td>0.000000</td>\n",
       "      <td>3.000000</td>\n",
       "      <td>3.000000</td>\n",
       "      <td>2.000000</td>\n",
       "      <td>3.000000</td>\n",
       "      <td>4919.000000</td>\n",
       "      <td>10.000000</td>\n",
       "      <td>3.000000</td>\n",
       "      <td>5.000000</td>\n",
       "      <td>3.000000</td>\n",
       "      <td>1.000000</td>\n",
       "      <td>3.000000</td>\n",
       "      <td>7.000000</td>\n",
       "    </tr>\n",
       "    <tr>\n",
       "      <th>75%</th>\n",
       "      <td>43.000000</td>\n",
       "      <td>0.000000</td>\n",
       "      <td>4.000000</td>\n",
       "      <td>3.000000</td>\n",
       "      <td>3.000000</td>\n",
       "      <td>4.000000</td>\n",
       "      <td>8379.000000</td>\n",
       "      <td>15.000000</td>\n",
       "      <td>3.000000</td>\n",
       "      <td>9.000000</td>\n",
       "      <td>7.000000</td>\n",
       "      <td>3.000000</td>\n",
       "      <td>7.000000</td>\n",
       "      <td>14.000000</td>\n",
       "    </tr>\n",
       "    <tr>\n",
       "      <th>max</th>\n",
       "      <td>60.000000</td>\n",
       "      <td>1.000000</td>\n",
       "      <td>4.000000</td>\n",
       "      <td>4.000000</td>\n",
       "      <td>5.000000</td>\n",
       "      <td>4.000000</td>\n",
       "      <td>19999.000000</td>\n",
       "      <td>40.000000</td>\n",
       "      <td>4.000000</td>\n",
       "      <td>40.000000</td>\n",
       "      <td>18.000000</td>\n",
       "      <td>15.000000</td>\n",
       "      <td>17.000000</td>\n",
       "      <td>29.000000</td>\n",
       "    </tr>\n",
       "  </tbody>\n",
       "</table>\n",
       "</div>"
      ],
      "text/plain": [
       "               Age    Attrition  EnvironmentSatisfaction  JobInvolvement  \\\n",
       "count  1470.000000  1470.000000              1470.000000     1470.000000   \n",
       "mean     36.923810     0.161224                 2.721769        2.729932   \n",
       "std       9.135373     0.367863                 1.093082        0.711561   \n",
       "min      18.000000     0.000000                 1.000000        1.000000   \n",
       "25%      30.000000     0.000000                 2.000000        2.000000   \n",
       "50%      36.000000     0.000000                 3.000000        3.000000   \n",
       "75%      43.000000     0.000000                 4.000000        3.000000   \n",
       "max      60.000000     1.000000                 4.000000        4.000000   \n",
       "\n",
       "          JobLevel  JobSatisfaction  MonthlyIncome  TotalWorkingYears  \\\n",
       "count  1470.000000      1470.000000    1470.000000        1470.000000   \n",
       "mean      2.063946         2.728571    6502.931293          11.279592   \n",
       "std       1.106940         1.102846    4707.956783           7.780782   \n",
       "min       1.000000         1.000000    1009.000000           0.000000   \n",
       "25%       1.000000         2.000000    2911.000000           6.000000   \n",
       "50%       2.000000         3.000000    4919.000000          10.000000   \n",
       "75%       3.000000         4.000000    8379.000000          15.000000   \n",
       "max       5.000000         4.000000   19999.000000          40.000000   \n",
       "\n",
       "       WorkLifeBalance  YearsAtCompany  YearsInCurrentRole  \\\n",
       "count      1470.000000     1470.000000         1470.000000   \n",
       "mean          2.761224        7.008163            4.229252   \n",
       "std           0.706476        6.126525            3.623137   \n",
       "min           1.000000        0.000000            0.000000   \n",
       "25%           2.000000        3.000000            2.000000   \n",
       "50%           3.000000        5.000000            3.000000   \n",
       "75%           3.000000        9.000000            7.000000   \n",
       "max           4.000000       40.000000           18.000000   \n",
       "\n",
       "       YearsSinceLastPromotion  YearsWithCurrManager  DistanceFromHome  \n",
       "count              1470.000000           1470.000000       1470.000000  \n",
       "mean                  2.187755              4.123129          9.192517  \n",
       "std                   3.222430              3.568136          8.106864  \n",
       "min                   0.000000              0.000000          1.000000  \n",
       "25%                   0.000000              2.000000          2.000000  \n",
       "50%                   1.000000              3.000000          7.000000  \n",
       "75%                   3.000000              7.000000         14.000000  \n",
       "max                  15.000000             17.000000         29.000000  "
      ]
     },
     "execution_count": 8,
     "metadata": {},
     "output_type": "execute_result"
    }
   ],
   "source": [
    "data.describe()"
   ]
  },
  {
   "cell_type": "code",
   "execution_count": 9,
   "id": "92610577",
   "metadata": {
    "id": "92610577"
   },
   "outputs": [],
   "source": [
    "ratings = ['EnvironmentSatisfaction','JobSatisfaction','WorkLifeBalance','JobLevel','JobInvolvement']\n",
    "category  = ['BusinessTravel','Department','EducationField','Gender','MaritalStatus','OverTime']\n",
    "numbers  = ['Age','MonthlyIncome','TotalWorkingYears','YearsInCurrentRole','YearsSinceLastPromotion','YearsWithCurrManager','DistanceFromHome']"
   ]
  },
  {
   "cell_type": "markdown",
   "id": "b50829dc",
   "metadata": {
    "id": "b50829dc"
   },
   "source": [
    "# univariate analysis of Ratings"
   ]
  },
  {
   "cell_type": "code",
   "execution_count": 10,
   "id": "5c3958ca",
   "metadata": {
    "colab": {
     "base_uri": "https://localhost:8080/",
     "height": 300
    },
    "id": "5c3958ca",
    "outputId": "895aef61-677d-4122-a501-ab28239556a3"
   },
   "outputs": [
    {
     "data": {
      "text/html": [
       "<div>\n",
       "<style scoped>\n",
       "    .dataframe tbody tr th:only-of-type {\n",
       "        vertical-align: middle;\n",
       "    }\n",
       "\n",
       "    .dataframe tbody tr th {\n",
       "        vertical-align: top;\n",
       "    }\n",
       "\n",
       "    .dataframe thead th {\n",
       "        text-align: right;\n",
       "    }\n",
       "</style>\n",
       "<table border=\"1\" class=\"dataframe\">\n",
       "  <thead>\n",
       "    <tr style=\"text-align: right;\">\n",
       "      <th></th>\n",
       "      <th>EnvironmentSatisfaction</th>\n",
       "      <th>JobSatisfaction</th>\n",
       "      <th>WorkLifeBalance</th>\n",
       "      <th>JobLevel</th>\n",
       "      <th>JobInvolvement</th>\n",
       "    </tr>\n",
       "  </thead>\n",
       "  <tbody>\n",
       "    <tr>\n",
       "      <th>count</th>\n",
       "      <td>1470.000000</td>\n",
       "      <td>1470.000000</td>\n",
       "      <td>1470.000000</td>\n",
       "      <td>1470.000000</td>\n",
       "      <td>1470.000000</td>\n",
       "    </tr>\n",
       "    <tr>\n",
       "      <th>mean</th>\n",
       "      <td>2.721769</td>\n",
       "      <td>2.728571</td>\n",
       "      <td>2.761224</td>\n",
       "      <td>2.063946</td>\n",
       "      <td>2.729932</td>\n",
       "    </tr>\n",
       "    <tr>\n",
       "      <th>std</th>\n",
       "      <td>1.093082</td>\n",
       "      <td>1.102846</td>\n",
       "      <td>0.706476</td>\n",
       "      <td>1.106940</td>\n",
       "      <td>0.711561</td>\n",
       "    </tr>\n",
       "    <tr>\n",
       "      <th>min</th>\n",
       "      <td>1.000000</td>\n",
       "      <td>1.000000</td>\n",
       "      <td>1.000000</td>\n",
       "      <td>1.000000</td>\n",
       "      <td>1.000000</td>\n",
       "    </tr>\n",
       "    <tr>\n",
       "      <th>25%</th>\n",
       "      <td>2.000000</td>\n",
       "      <td>2.000000</td>\n",
       "      <td>2.000000</td>\n",
       "      <td>1.000000</td>\n",
       "      <td>2.000000</td>\n",
       "    </tr>\n",
       "    <tr>\n",
       "      <th>50%</th>\n",
       "      <td>3.000000</td>\n",
       "      <td>3.000000</td>\n",
       "      <td>3.000000</td>\n",
       "      <td>2.000000</td>\n",
       "      <td>3.000000</td>\n",
       "    </tr>\n",
       "    <tr>\n",
       "      <th>75%</th>\n",
       "      <td>4.000000</td>\n",
       "      <td>4.000000</td>\n",
       "      <td>3.000000</td>\n",
       "      <td>3.000000</td>\n",
       "      <td>3.000000</td>\n",
       "    </tr>\n",
       "    <tr>\n",
       "      <th>max</th>\n",
       "      <td>4.000000</td>\n",
       "      <td>4.000000</td>\n",
       "      <td>4.000000</td>\n",
       "      <td>5.000000</td>\n",
       "      <td>4.000000</td>\n",
       "    </tr>\n",
       "  </tbody>\n",
       "</table>\n",
       "</div>"
      ],
      "text/plain": [
       "       EnvironmentSatisfaction  JobSatisfaction  WorkLifeBalance     JobLevel  \\\n",
       "count              1470.000000      1470.000000      1470.000000  1470.000000   \n",
       "mean                  2.721769         2.728571         2.761224     2.063946   \n",
       "std                   1.093082         1.102846         0.706476     1.106940   \n",
       "min                   1.000000         1.000000         1.000000     1.000000   \n",
       "25%                   2.000000         2.000000         2.000000     1.000000   \n",
       "50%                   3.000000         3.000000         3.000000     2.000000   \n",
       "75%                   4.000000         4.000000         3.000000     3.000000   \n",
       "max                   4.000000         4.000000         4.000000     5.000000   \n",
       "\n",
       "       JobInvolvement  \n",
       "count     1470.000000  \n",
       "mean         2.729932  \n",
       "std          0.711561  \n",
       "min          1.000000  \n",
       "25%          2.000000  \n",
       "50%          3.000000  \n",
       "75%          3.000000  \n",
       "max          4.000000  "
      ]
     },
     "execution_count": 10,
     "metadata": {},
     "output_type": "execute_result"
    }
   ],
   "source": [
    "data[ratings].describe()"
   ]
  },
  {
   "cell_type": "markdown",
   "id": "0d961be3",
   "metadata": {
    "id": "0d961be3"
   },
   "source": [
    "# Univariate analysis of numbers"
   ]
  },
  {
   "cell_type": "code",
   "execution_count": 11,
   "id": "3de8c4cd",
   "metadata": {
    "colab": {
     "base_uri": "https://localhost:8080/",
     "height": 300
    },
    "id": "3de8c4cd",
    "outputId": "1299c911-d70b-4cfa-9461-61f8cbce8d5a",
    "scrolled": false
   },
   "outputs": [
    {
     "data": {
      "text/html": [
       "<div>\n",
       "<style scoped>\n",
       "    .dataframe tbody tr th:only-of-type {\n",
       "        vertical-align: middle;\n",
       "    }\n",
       "\n",
       "    .dataframe tbody tr th {\n",
       "        vertical-align: top;\n",
       "    }\n",
       "\n",
       "    .dataframe thead th {\n",
       "        text-align: right;\n",
       "    }\n",
       "</style>\n",
       "<table border=\"1\" class=\"dataframe\">\n",
       "  <thead>\n",
       "    <tr style=\"text-align: right;\">\n",
       "      <th></th>\n",
       "      <th>Age</th>\n",
       "      <th>MonthlyIncome</th>\n",
       "      <th>TotalWorkingYears</th>\n",
       "      <th>YearsInCurrentRole</th>\n",
       "      <th>YearsSinceLastPromotion</th>\n",
       "      <th>YearsWithCurrManager</th>\n",
       "      <th>DistanceFromHome</th>\n",
       "    </tr>\n",
       "  </thead>\n",
       "  <tbody>\n",
       "    <tr>\n",
       "      <th>count</th>\n",
       "      <td>1470.000000</td>\n",
       "      <td>1470.000000</td>\n",
       "      <td>1470.000000</td>\n",
       "      <td>1470.000000</td>\n",
       "      <td>1470.000000</td>\n",
       "      <td>1470.000000</td>\n",
       "      <td>1470.000000</td>\n",
       "    </tr>\n",
       "    <tr>\n",
       "      <th>mean</th>\n",
       "      <td>36.923810</td>\n",
       "      <td>6502.931293</td>\n",
       "      <td>11.279592</td>\n",
       "      <td>4.229252</td>\n",
       "      <td>2.187755</td>\n",
       "      <td>4.123129</td>\n",
       "      <td>9.192517</td>\n",
       "    </tr>\n",
       "    <tr>\n",
       "      <th>std</th>\n",
       "      <td>9.135373</td>\n",
       "      <td>4707.956783</td>\n",
       "      <td>7.780782</td>\n",
       "      <td>3.623137</td>\n",
       "      <td>3.222430</td>\n",
       "      <td>3.568136</td>\n",
       "      <td>8.106864</td>\n",
       "    </tr>\n",
       "    <tr>\n",
       "      <th>min</th>\n",
       "      <td>18.000000</td>\n",
       "      <td>1009.000000</td>\n",
       "      <td>0.000000</td>\n",
       "      <td>0.000000</td>\n",
       "      <td>0.000000</td>\n",
       "      <td>0.000000</td>\n",
       "      <td>1.000000</td>\n",
       "    </tr>\n",
       "    <tr>\n",
       "      <th>25%</th>\n",
       "      <td>30.000000</td>\n",
       "      <td>2911.000000</td>\n",
       "      <td>6.000000</td>\n",
       "      <td>2.000000</td>\n",
       "      <td>0.000000</td>\n",
       "      <td>2.000000</td>\n",
       "      <td>2.000000</td>\n",
       "    </tr>\n",
       "    <tr>\n",
       "      <th>50%</th>\n",
       "      <td>36.000000</td>\n",
       "      <td>4919.000000</td>\n",
       "      <td>10.000000</td>\n",
       "      <td>3.000000</td>\n",
       "      <td>1.000000</td>\n",
       "      <td>3.000000</td>\n",
       "      <td>7.000000</td>\n",
       "    </tr>\n",
       "    <tr>\n",
       "      <th>75%</th>\n",
       "      <td>43.000000</td>\n",
       "      <td>8379.000000</td>\n",
       "      <td>15.000000</td>\n",
       "      <td>7.000000</td>\n",
       "      <td>3.000000</td>\n",
       "      <td>7.000000</td>\n",
       "      <td>14.000000</td>\n",
       "    </tr>\n",
       "    <tr>\n",
       "      <th>max</th>\n",
       "      <td>60.000000</td>\n",
       "      <td>19999.000000</td>\n",
       "      <td>40.000000</td>\n",
       "      <td>18.000000</td>\n",
       "      <td>15.000000</td>\n",
       "      <td>17.000000</td>\n",
       "      <td>29.000000</td>\n",
       "    </tr>\n",
       "  </tbody>\n",
       "</table>\n",
       "</div>"
      ],
      "text/plain": [
       "               Age  MonthlyIncome  TotalWorkingYears  YearsInCurrentRole  \\\n",
       "count  1470.000000    1470.000000        1470.000000         1470.000000   \n",
       "mean     36.923810    6502.931293          11.279592            4.229252   \n",
       "std       9.135373    4707.956783           7.780782            3.623137   \n",
       "min      18.000000    1009.000000           0.000000            0.000000   \n",
       "25%      30.000000    2911.000000           6.000000            2.000000   \n",
       "50%      36.000000    4919.000000          10.000000            3.000000   \n",
       "75%      43.000000    8379.000000          15.000000            7.000000   \n",
       "max      60.000000   19999.000000          40.000000           18.000000   \n",
       "\n",
       "       YearsSinceLastPromotion  YearsWithCurrManager  DistanceFromHome  \n",
       "count              1470.000000           1470.000000       1470.000000  \n",
       "mean                  2.187755              4.123129          9.192517  \n",
       "std                   3.222430              3.568136          8.106864  \n",
       "min                   0.000000              0.000000          1.000000  \n",
       "25%                   0.000000              2.000000          2.000000  \n",
       "50%                   1.000000              3.000000          7.000000  \n",
       "75%                   3.000000              7.000000         14.000000  \n",
       "max                  15.000000             17.000000         29.000000  "
      ]
     },
     "execution_count": 11,
     "metadata": {},
     "output_type": "execute_result"
    }
   ],
   "source": [
    "data[numbers].describe()"
   ]
  },
  {
   "cell_type": "code",
   "execution_count": 12,
   "id": "86d18fec",
   "metadata": {
    "colab": {
     "base_uri": "https://localhost:8080/",
     "height": 206
    },
    "id": "86d18fec",
    "outputId": "75cabaa9-b483-43c7-e1a2-f279fe7fec55"
   },
   "outputs": [
    {
     "data": {
      "text/html": [
       "<div>\n",
       "<style scoped>\n",
       "    .dataframe tbody tr th:only-of-type {\n",
       "        vertical-align: middle;\n",
       "    }\n",
       "\n",
       "    .dataframe tbody tr th {\n",
       "        vertical-align: top;\n",
       "    }\n",
       "\n",
       "    .dataframe thead th {\n",
       "        text-align: right;\n",
       "    }\n",
       "</style>\n",
       "<table border=\"1\" class=\"dataframe\">\n",
       "  <thead>\n",
       "    <tr style=\"text-align: right;\">\n",
       "      <th></th>\n",
       "      <th>Age</th>\n",
       "      <th>DistanceFromHome</th>\n",
       "      <th>YearsAtCompany</th>\n",
       "      <th>MonthlyIncome</th>\n",
       "    </tr>\n",
       "    <tr>\n",
       "      <th>JobSatisfaction</th>\n",
       "      <th></th>\n",
       "      <th></th>\n",
       "      <th></th>\n",
       "      <th></th>\n",
       "    </tr>\n",
       "  </thead>\n",
       "  <tbody>\n",
       "    <tr>\n",
       "      <th>1</th>\n",
       "      <td>33.227273</td>\n",
       "      <td>10.742424</td>\n",
       "      <td>4.651515</td>\n",
       "      <td>4752.803030</td>\n",
       "    </tr>\n",
       "    <tr>\n",
       "      <th>2</th>\n",
       "      <td>33.347826</td>\n",
       "      <td>11.869565</td>\n",
       "      <td>5.000000</td>\n",
       "      <td>4962.760870</td>\n",
       "    </tr>\n",
       "    <tr>\n",
       "      <th>3</th>\n",
       "      <td>33.863014</td>\n",
       "      <td>10.205479</td>\n",
       "      <td>4.534247</td>\n",
       "      <td>4595.986301</td>\n",
       "    </tr>\n",
       "    <tr>\n",
       "      <th>4</th>\n",
       "      <td>33.961538</td>\n",
       "      <td>10.000000</td>\n",
       "      <td>6.692308</td>\n",
       "      <td>4943.500000</td>\n",
       "    </tr>\n",
       "  </tbody>\n",
       "</table>\n",
       "</div>"
      ],
      "text/plain": [
       "                       Age  DistanceFromHome  YearsAtCompany  MonthlyIncome\n",
       "JobSatisfaction                                                            \n",
       "1                33.227273         10.742424        4.651515    4752.803030\n",
       "2                33.347826         11.869565        5.000000    4962.760870\n",
       "3                33.863014         10.205479        4.534247    4595.986301\n",
       "4                33.961538         10.000000        6.692308    4943.500000"
      ]
     },
     "execution_count": 12,
     "metadata": {},
     "output_type": "execute_result"
    }
   ],
   "source": [
    "data[['Age','DistanceFromHome','YearsAtCompany','MonthlyIncome','JobSatisfaction']].loc[data.Attrition==1].groupby('JobSatisfaction').mean()"
   ]
  },
  {
   "cell_type": "code",
   "execution_count": 13,
   "id": "729c9979",
   "metadata": {
    "colab": {
     "base_uri": "https://localhost:8080/",
     "height": 206
    },
    "id": "729c9979",
    "outputId": "57a80776-4346-423b-97ab-e2e12f84d54c"
   },
   "outputs": [
    {
     "data": {
      "text/html": [
       "<div>\n",
       "<style scoped>\n",
       "    .dataframe tbody tr th:only-of-type {\n",
       "        vertical-align: middle;\n",
       "    }\n",
       "\n",
       "    .dataframe tbody tr th {\n",
       "        vertical-align: top;\n",
       "    }\n",
       "\n",
       "    .dataframe thead th {\n",
       "        text-align: right;\n",
       "    }\n",
       "</style>\n",
       "<table border=\"1\" class=\"dataframe\">\n",
       "  <thead>\n",
       "    <tr style=\"text-align: right;\">\n",
       "      <th></th>\n",
       "      <th>Age</th>\n",
       "      <th>DistanceFromHome</th>\n",
       "      <th>YearsAtCompany</th>\n",
       "      <th>MonthlyIncome</th>\n",
       "    </tr>\n",
       "    <tr>\n",
       "      <th>JobSatisfaction</th>\n",
       "      <th></th>\n",
       "      <th></th>\n",
       "      <th></th>\n",
       "      <th></th>\n",
       "    </tr>\n",
       "  </thead>\n",
       "  <tbody>\n",
       "    <tr>\n",
       "      <th>1</th>\n",
       "      <td>38.008969</td>\n",
       "      <td>8.730942</td>\n",
       "      <td>7.681614</td>\n",
       "      <td>7096.901345</td>\n",
       "    </tr>\n",
       "    <tr>\n",
       "      <th>2</th>\n",
       "      <td>37.700855</td>\n",
       "      <td>8.559829</td>\n",
       "      <td>7.521368</td>\n",
       "      <td>6834.893162</td>\n",
       "    </tr>\n",
       "    <tr>\n",
       "      <th>3</th>\n",
       "      <td>37.647696</td>\n",
       "      <td>9.262873</td>\n",
       "      <td>7.493225</td>\n",
       "      <td>6853.311653</td>\n",
       "    </tr>\n",
       "    <tr>\n",
       "      <th>4</th>\n",
       "      <td>37.157248</td>\n",
       "      <td>8.906634</td>\n",
       "      <td>6.997543</td>\n",
       "      <td>6668.113022</td>\n",
       "    </tr>\n",
       "  </tbody>\n",
       "</table>\n",
       "</div>"
      ],
      "text/plain": [
       "                       Age  DistanceFromHome  YearsAtCompany  MonthlyIncome\n",
       "JobSatisfaction                                                            \n",
       "1                38.008969          8.730942        7.681614    7096.901345\n",
       "2                37.700855          8.559829        7.521368    6834.893162\n",
       "3                37.647696          9.262873        7.493225    6853.311653\n",
       "4                37.157248          8.906634        6.997543    6668.113022"
      ]
     },
     "execution_count": 13,
     "metadata": {},
     "output_type": "execute_result"
    }
   ],
   "source": [
    "data[['Age','DistanceFromHome','YearsAtCompany','MonthlyIncome','JobSatisfaction']].loc[data.Attrition==0].groupby('JobSatisfaction').mean()"
   ]
  },
  {
   "cell_type": "code",
   "execution_count": 14,
   "id": "7fcb7759",
   "metadata": {
    "colab": {
     "base_uri": "https://localhost:8080/",
     "height": 175
    },
    "id": "7fcb7759",
    "outputId": "a8c8596d-144b-4544-f105-579bc4a685ea"
   },
   "outputs": [
    {
     "data": {
      "text/html": [
       "<div>\n",
       "<style scoped>\n",
       "    .dataframe tbody tr th:only-of-type {\n",
       "        vertical-align: middle;\n",
       "    }\n",
       "\n",
       "    .dataframe tbody tr th {\n",
       "        vertical-align: top;\n",
       "    }\n",
       "\n",
       "    .dataframe thead th {\n",
       "        text-align: right;\n",
       "    }\n",
       "</style>\n",
       "<table border=\"1\" class=\"dataframe\">\n",
       "  <thead>\n",
       "    <tr style=\"text-align: right;\">\n",
       "      <th></th>\n",
       "      <th>Age</th>\n",
       "      <th>DistanceFromHome</th>\n",
       "      <th>YearsAtCompany</th>\n",
       "      <th>MonthlyIncome</th>\n",
       "      <th>JobSatisfaction</th>\n",
       "    </tr>\n",
       "    <tr>\n",
       "      <th>Department</th>\n",
       "      <th></th>\n",
       "      <th></th>\n",
       "      <th></th>\n",
       "      <th></th>\n",
       "      <th></th>\n",
       "    </tr>\n",
       "  </thead>\n",
       "  <tbody>\n",
       "    <tr>\n",
       "      <th>Human Resources</th>\n",
       "      <td>39.627451</td>\n",
       "      <td>7.588235</td>\n",
       "      <td>7.960784</td>\n",
       "      <td>7345.980392</td>\n",
       "      <td>2.705882</td>\n",
       "    </tr>\n",
       "    <tr>\n",
       "      <th>Research &amp; Development</th>\n",
       "      <td>37.615942</td>\n",
       "      <td>8.964976</td>\n",
       "      <td>7.171498</td>\n",
       "      <td>6630.326087</td>\n",
       "      <td>2.769324</td>\n",
       "    </tr>\n",
       "    <tr>\n",
       "      <th>Sales</th>\n",
       "      <td>37.135593</td>\n",
       "      <td>8.991525</td>\n",
       "      <td>7.745763</td>\n",
       "      <td>7232.240113</td>\n",
       "      <td>2.810734</td>\n",
       "    </tr>\n",
       "  </tbody>\n",
       "</table>\n",
       "</div>"
      ],
      "text/plain": [
       "                              Age  DistanceFromHome  YearsAtCompany  \\\n",
       "Department                                                            \n",
       "Human Resources         39.627451          7.588235        7.960784   \n",
       "Research & Development  37.615942          8.964976        7.171498   \n",
       "Sales                   37.135593          8.991525        7.745763   \n",
       "\n",
       "                        MonthlyIncome  JobSatisfaction  \n",
       "Department                                              \n",
       "Human Resources           7345.980392         2.705882  \n",
       "Research & Development    6630.326087         2.769324  \n",
       "Sales                     7232.240113         2.810734  "
      ]
     },
     "execution_count": 14,
     "metadata": {},
     "output_type": "execute_result"
    }
   ],
   "source": [
    "data[['Age','Department','DistanceFromHome','YearsAtCompany','MonthlyIncome','JobSatisfaction']].loc[data.Attrition==0].groupby('Department').mean()"
   ]
  },
  {
   "cell_type": "code",
   "execution_count": 15,
   "id": "f1077625",
   "metadata": {
    "colab": {
     "base_uri": "https://localhost:8080/",
     "height": 175
    },
    "id": "f1077625",
    "outputId": "3be201a5-61ea-453a-9d11-fa2359ae552c"
   },
   "outputs": [
    {
     "data": {
      "text/html": [
       "<div>\n",
       "<style scoped>\n",
       "    .dataframe tbody tr th:only-of-type {\n",
       "        vertical-align: middle;\n",
       "    }\n",
       "\n",
       "    .dataframe tbody tr th {\n",
       "        vertical-align: top;\n",
       "    }\n",
       "\n",
       "    .dataframe thead th {\n",
       "        text-align: right;\n",
       "    }\n",
       "</style>\n",
       "<table border=\"1\" class=\"dataframe\">\n",
       "  <thead>\n",
       "    <tr style=\"text-align: right;\">\n",
       "      <th></th>\n",
       "      <th>Age</th>\n",
       "      <th>DistanceFromHome</th>\n",
       "      <th>YearsAtCompany</th>\n",
       "      <th>MonthlyIncome</th>\n",
       "      <th>JobSatisfaction</th>\n",
       "    </tr>\n",
       "    <tr>\n",
       "      <th>Department</th>\n",
       "      <th></th>\n",
       "      <th></th>\n",
       "      <th></th>\n",
       "      <th></th>\n",
       "      <th></th>\n",
       "    </tr>\n",
       "  </thead>\n",
       "  <tbody>\n",
       "    <tr>\n",
       "      <th>Human Resources</th>\n",
       "      <td>30.083333</td>\n",
       "      <td>13.416667</td>\n",
       "      <td>4.166667</td>\n",
       "      <td>3715.750000</td>\n",
       "      <td>2.166667</td>\n",
       "    </tr>\n",
       "    <tr>\n",
       "      <th>Research &amp; Development</th>\n",
       "      <td>33.473684</td>\n",
       "      <td>10.263158</td>\n",
       "      <td>4.954887</td>\n",
       "      <td>4108.075188</td>\n",
       "      <td>2.458647</td>\n",
       "    </tr>\n",
       "    <tr>\n",
       "      <th>Sales</th>\n",
       "      <td>34.260870</td>\n",
       "      <td>10.804348</td>\n",
       "      <td>5.510870</td>\n",
       "      <td>5908.456522</td>\n",
       "      <td>2.521739</td>\n",
       "    </tr>\n",
       "  </tbody>\n",
       "</table>\n",
       "</div>"
      ],
      "text/plain": [
       "                              Age  DistanceFromHome  YearsAtCompany  \\\n",
       "Department                                                            \n",
       "Human Resources         30.083333         13.416667        4.166667   \n",
       "Research & Development  33.473684         10.263158        4.954887   \n",
       "Sales                   34.260870         10.804348        5.510870   \n",
       "\n",
       "                        MonthlyIncome  JobSatisfaction  \n",
       "Department                                              \n",
       "Human Resources           3715.750000         2.166667  \n",
       "Research & Development    4108.075188         2.458647  \n",
       "Sales                     5908.456522         2.521739  "
      ]
     },
     "execution_count": 15,
     "metadata": {},
     "output_type": "execute_result"
    }
   ],
   "source": [
    "data[['Age','Department','DistanceFromHome','YearsAtCompany','MonthlyIncome','JobSatisfaction']].loc[data.Attrition==1].groupby('Department').mean()"
   ]
  },
  {
   "cell_type": "code",
   "execution_count": 16,
   "id": "8ca21f15",
   "metadata": {
    "colab": {
     "base_uri": "https://localhost:8080/",
     "height": 508
    },
    "id": "8ca21f15",
    "outputId": "02d91677-4866-4b40-a12f-cc4510562a06"
   },
   "outputs": [
    {
     "data": {
      "text/html": [
       "<style type=\"text/css\">\n",
       "#T_5fe4c_row0_col0, #T_5fe4c_row1_col1, #T_5fe4c_row2_col2, #T_5fe4c_row3_col3, #T_5fe4c_row4_col4, #T_5fe4c_row5_col5, #T_5fe4c_row6_col6, #T_5fe4c_row7_col7, #T_5fe4c_row8_col8, #T_5fe4c_row9_col9, #T_5fe4c_row10_col10, #T_5fe4c_row11_col11, #T_5fe4c_row12_col12, #T_5fe4c_row13_col13 {\n",
       "  background-color: #023858;\n",
       "  color: #f1f1f1;\n",
       "}\n",
       "#T_5fe4c_row0_col1, #T_5fe4c_row2_col13, #T_5fe4c_row3_col11, #T_5fe4c_row6_col1, #T_5fe4c_row6_col13, #T_5fe4c_row10_col1 {\n",
       "  background-color: #fef6fa;\n",
       "  color: #000000;\n",
       "}\n",
       "#T_5fe4c_row0_col2, #T_5fe4c_row1_col13, #T_5fe4c_row3_col9, #T_5fe4c_row4_col3, #T_5fe4c_row6_col3, #T_5fe4c_row8_col3 {\n",
       "  background-color: #f0eaf4;\n",
       "  color: #000000;\n",
       "}\n",
       "#T_5fe4c_row0_col3, #T_5fe4c_row2_col7, #T_5fe4c_row3_col7, #T_5fe4c_row5_col4 {\n",
       "  background-color: #e8e4f0;\n",
       "  color: #000000;\n",
       "}\n",
       "#T_5fe4c_row0_col4, #T_5fe4c_row9_col6 {\n",
       "  background-color: #4c99c5;\n",
       "  color: #f1f1f1;\n",
       "}\n",
       "#T_5fe4c_row0_col5, #T_5fe4c_row2_col5, #T_5fe4c_row2_col8, #T_5fe4c_row3_col2, #T_5fe4c_row5_col2, #T_5fe4c_row6_col2, #T_5fe4c_row6_col5, #T_5fe4c_row6_col8, #T_5fe4c_row12_col2 {\n",
       "  background-color: #f2ecf5;\n",
       "  color: #000000;\n",
       "}\n",
       "#T_5fe4c_row0_col6, #T_5fe4c_row6_col0 {\n",
       "  background-color: #529bc7;\n",
       "  color: #f1f1f1;\n",
       "}\n",
       "#T_5fe4c_row0_col7 {\n",
       "  background-color: #0d75b3;\n",
       "  color: #f1f1f1;\n",
       "}\n",
       "#T_5fe4c_row0_col8, #T_5fe4c_row5_col8, #T_5fe4c_row8_col11, #T_5fe4c_row12_col13, #T_5fe4c_row13_col11 {\n",
       "  background-color: #f9f2f8;\n",
       "  color: #000000;\n",
       "}\n",
       "#T_5fe4c_row0_col9 {\n",
       "  background-color: #9fbad9;\n",
       "  color: #000000;\n",
       "}\n",
       "#T_5fe4c_row0_col10, #T_5fe4c_row10_col0, #T_5fe4c_row11_col0 {\n",
       "  background-color: #b8c6e0;\n",
       "  color: #000000;\n",
       "}\n",
       "#T_5fe4c_row0_col11 {\n",
       "  background-color: #d2d3e7;\n",
       "  color: #000000;\n",
       "}\n",
       "#T_5fe4c_row0_col12, #T_5fe4c_row12_col0 {\n",
       "  background-color: #bcc7e1;\n",
       "  color: #000000;\n",
       "}\n",
       "#T_5fe4c_row0_col13 {\n",
       "  background-color: #fbf4f9;\n",
       "  color: #000000;\n",
       "}\n",
       "#T_5fe4c_row1_col0, #T_5fe4c_row1_col2, #T_5fe4c_row1_col3, #T_5fe4c_row1_col4, #T_5fe4c_row1_col5, #T_5fe4c_row1_col6, #T_5fe4c_row1_col7, #T_5fe4c_row1_col8, #T_5fe4c_row1_col9, #T_5fe4c_row1_col10, #T_5fe4c_row1_col11, #T_5fe4c_row1_col12, #T_5fe4c_row4_col1, #T_5fe4c_row7_col1, #T_5fe4c_row8_col13 {\n",
       "  background-color: #fff7fb;\n",
       "  color: #000000;\n",
       "}\n",
       "#T_5fe4c_row2_col0, #T_5fe4c_row2_col4, #T_5fe4c_row3_col10, #T_5fe4c_row8_col7, #T_5fe4c_row13_col4, #T_5fe4c_row13_col7, #T_5fe4c_row13_col12 {\n",
       "  background-color: #e7e3f0;\n",
       "  color: #000000;\n",
       "}\n",
       "#T_5fe4c_row2_col1, #T_5fe4c_row5_col1 {\n",
       "  background-color: #f7f0f7;\n",
       "  color: #000000;\n",
       "}\n",
       "#T_5fe4c_row2_col3, #T_5fe4c_row10_col8, #T_5fe4c_row11_col2 {\n",
       "  background-color: #efe9f3;\n",
       "  color: #000000;\n",
       "}\n",
       "#T_5fe4c_row2_col6, #T_5fe4c_row2_col12, #T_5fe4c_row5_col6, #T_5fe4c_row8_col9 {\n",
       "  background-color: #ebe6f2;\n",
       "  color: #000000;\n",
       "}\n",
       "#T_5fe4c_row2_col9, #T_5fe4c_row8_col0, #T_5fe4c_row8_col2, #T_5fe4c_row11_col1 {\n",
       "  background-color: #ede8f3;\n",
       "  color: #000000;\n",
       "}\n",
       "#T_5fe4c_row2_col10, #T_5fe4c_row13_col10 {\n",
       "  background-color: #e6e2ef;\n",
       "  color: #000000;\n",
       "}\n",
       "#T_5fe4c_row2_col11, #T_5fe4c_row3_col8, #T_5fe4c_row10_col13 {\n",
       "  background-color: #f8f1f8;\n",
       "  color: #000000;\n",
       "}\n",
       "#T_5fe4c_row3_col0 {\n",
       "  background-color: #e4e1ef;\n",
       "  color: #000000;\n",
       "}\n",
       "#T_5fe4c_row3_col1, #T_5fe4c_row3_col13, #T_5fe4c_row9_col1, #T_5fe4c_row9_col13, #T_5fe4c_row13_col8 {\n",
       "  background-color: #faf3f9;\n",
       "  color: #000000;\n",
       "}\n",
       "#T_5fe4c_row3_col4, #T_5fe4c_row5_col0, #T_5fe4c_row5_col10, #T_5fe4c_row13_col0 {\n",
       "  background-color: #eae6f1;\n",
       "  color: #000000;\n",
       "}\n",
       "#T_5fe4c_row3_col5, #T_5fe4c_row7_col5, #T_5fe4c_row8_col5, #T_5fe4c_row11_col5 {\n",
       "  background-color: #f4edf6;\n",
       "  color: #000000;\n",
       "}\n",
       "#T_5fe4c_row3_col6, #T_5fe4c_row10_col3, #T_5fe4c_row13_col3, #T_5fe4c_row13_col6 {\n",
       "  background-color: #ede7f2;\n",
       "  color: #000000;\n",
       "}\n",
       "#T_5fe4c_row3_col12 {\n",
       "  background-color: #e5e1ef;\n",
       "  color: #000000;\n",
       "}\n",
       "#T_5fe4c_row4_col0, #T_5fe4c_row11_col12 {\n",
       "  background-color: #4e9ac6;\n",
       "  color: #f1f1f1;\n",
       "}\n",
       "#T_5fe4c_row4_col2, #T_5fe4c_row4_col8, #T_5fe4c_row5_col3, #T_5fe4c_row9_col2, #T_5fe4c_row9_col3 {\n",
       "  background-color: #f1ebf4;\n",
       "  color: #000000;\n",
       "}\n",
       "#T_5fe4c_row4_col5, #T_5fe4c_row7_col2, #T_5fe4c_row8_col1, #T_5fe4c_row9_col5, #T_5fe4c_row10_col5, #T_5fe4c_row11_col3, #T_5fe4c_row13_col5 {\n",
       "  background-color: #f1ebf5;\n",
       "  color: #000000;\n",
       "}\n",
       "#T_5fe4c_row4_col6, #T_5fe4c_row6_col4 {\n",
       "  background-color: #034369;\n",
       "  color: #f1f1f1;\n",
       "}\n",
       "#T_5fe4c_row4_col7, #T_5fe4c_row7_col4 {\n",
       "  background-color: #04649e;\n",
       "  color: #f1f1f1;\n",
       "}\n",
       "#T_5fe4c_row4_col9 {\n",
       "  background-color: #4697c4;\n",
       "  color: #f1f1f1;\n",
       "}\n",
       "#T_5fe4c_row4_col10 {\n",
       "  background-color: #7eadd1;\n",
       "  color: #f1f1f1;\n",
       "}\n",
       "#T_5fe4c_row4_col11 {\n",
       "  background-color: #a7bddb;\n",
       "  color: #000000;\n",
       "}\n",
       "#T_5fe4c_row4_col12 {\n",
       "  background-color: #84b0d3;\n",
       "  color: #f1f1f1;\n",
       "}\n",
       "#T_5fe4c_row4_col13, #T_5fe4c_row7_col13 {\n",
       "  background-color: #fbf3f9;\n",
       "  color: #000000;\n",
       "}\n",
       "#T_5fe4c_row5_col7, #T_5fe4c_row13_col9 {\n",
       "  background-color: #ece7f2;\n",
       "  color: #000000;\n",
       "}\n",
       "#T_5fe4c_row5_col9 {\n",
       "  background-color: #eee8f3;\n",
       "  color: #000000;\n",
       "}\n",
       "#T_5fe4c_row5_col11, #T_5fe4c_row12_col1 {\n",
       "  background-color: #fdf5fa;\n",
       "  color: #000000;\n",
       "}\n",
       "#T_5fe4c_row5_col12, #T_5fe4c_row7_col3, #T_5fe4c_row10_col2 {\n",
       "  background-color: #eee9f3;\n",
       "  color: #000000;\n",
       "}\n",
       "#T_5fe4c_row5_col13 {\n",
       "  background-color: #fcf4fa;\n",
       "  color: #000000;\n",
       "}\n",
       "#T_5fe4c_row6_col7 {\n",
       "  background-color: #0566a0;\n",
       "  color: #f1f1f1;\n",
       "}\n",
       "#T_5fe4c_row6_col9 {\n",
       "  background-color: #509ac6;\n",
       "  color: #f1f1f1;\n",
       "}\n",
       "#T_5fe4c_row6_col10, #T_5fe4c_row10_col6 {\n",
       "  background-color: #88b1d4;\n",
       "  color: #000000;\n",
       "}\n",
       "#T_5fe4c_row6_col11 {\n",
       "  background-color: #a9bfdc;\n",
       "  color: #000000;\n",
       "}\n",
       "#T_5fe4c_row6_col12 {\n",
       "  background-color: #8fb4d6;\n",
       "  color: #000000;\n",
       "}\n",
       "#T_5fe4c_row7_col0 {\n",
       "  background-color: #0f76b3;\n",
       "  color: #f1f1f1;\n",
       "}\n",
       "#T_5fe4c_row7_col6 {\n",
       "  background-color: #0567a1;\n",
       "  color: #f1f1f1;\n",
       "}\n",
       "#T_5fe4c_row7_col8 {\n",
       "  background-color: #f6eff7;\n",
       "  color: #000000;\n",
       "}\n",
       "#T_5fe4c_row7_col9 {\n",
       "  background-color: #2383ba;\n",
       "  color: #f1f1f1;\n",
       "}\n",
       "#T_5fe4c_row7_col10, #T_5fe4c_row7_col12 {\n",
       "  background-color: #63a2cb;\n",
       "  color: #f1f1f1;\n",
       "}\n",
       "#T_5fe4c_row7_col11 {\n",
       "  background-color: #93b5d6;\n",
       "  color: #000000;\n",
       "}\n",
       "#T_5fe4c_row8_col4 {\n",
       "  background-color: #e0deed;\n",
       "  color: #000000;\n",
       "}\n",
       "#T_5fe4c_row8_col6 {\n",
       "  background-color: #e3e0ee;\n",
       "  color: #000000;\n",
       "}\n",
       "#T_5fe4c_row8_col10 {\n",
       "  background-color: #e0dded;\n",
       "  color: #000000;\n",
       "}\n",
       "#T_5fe4c_row8_col12, #T_5fe4c_row12_col3 {\n",
       "  background-color: #e9e5f1;\n",
       "  color: #000000;\n",
       "}\n",
       "#T_5fe4c_row9_col0 {\n",
       "  background-color: #9ab8d8;\n",
       "  color: #000000;\n",
       "}\n",
       "#T_5fe4c_row9_col4 {\n",
       "  background-color: #4094c3;\n",
       "  color: #f1f1f1;\n",
       "}\n",
       "#T_5fe4c_row9_col7 {\n",
       "  background-color: #2081b9;\n",
       "  color: #f1f1f1;\n",
       "}\n",
       "#T_5fe4c_row9_col8 {\n",
       "  background-color: #f4eef6;\n",
       "  color: #000000;\n",
       "}\n",
       "#T_5fe4c_row9_col10 {\n",
       "  background-color: #0569a4;\n",
       "  color: #f1f1f1;\n",
       "}\n",
       "#T_5fe4c_row9_col11 {\n",
       "  background-color: #348ebf;\n",
       "  color: #f1f1f1;\n",
       "}\n",
       "#T_5fe4c_row9_col12 {\n",
       "  background-color: #0567a2;\n",
       "  color: #f1f1f1;\n",
       "}\n",
       "#T_5fe4c_row10_col4 {\n",
       "  background-color: #7dacd1;\n",
       "  color: #f1f1f1;\n",
       "}\n",
       "#T_5fe4c_row10_col7 {\n",
       "  background-color: #60a1ca;\n",
       "  color: #f1f1f1;\n",
       "}\n",
       "#T_5fe4c_row10_col9 {\n",
       "  background-color: #0569a5;\n",
       "  color: #f1f1f1;\n",
       "}\n",
       "#T_5fe4c_row10_col11 {\n",
       "  background-color: #549cc7;\n",
       "  color: #f1f1f1;\n",
       "}\n",
       "#T_5fe4c_row10_col12, #T_5fe4c_row12_col10 {\n",
       "  background-color: #056faf;\n",
       "  color: #f1f1f1;\n",
       "}\n",
       "#T_5fe4c_row11_col4 {\n",
       "  background-color: #89b1d4;\n",
       "  color: #000000;\n",
       "}\n",
       "#T_5fe4c_row11_col6, #T_5fe4c_row12_col6 {\n",
       "  background-color: #8eb3d5;\n",
       "  color: #000000;\n",
       "}\n",
       "#T_5fe4c_row11_col7 {\n",
       "  background-color: #78abd0;\n",
       "  color: #f1f1f1;\n",
       "}\n",
       "#T_5fe4c_row11_col8, #T_5fe4c_row12_col5 {\n",
       "  background-color: #f5eef6;\n",
       "  color: #000000;\n",
       "}\n",
       "#T_5fe4c_row11_col9 {\n",
       "  background-color: #2786bb;\n",
       "  color: #f1f1f1;\n",
       "}\n",
       "#T_5fe4c_row11_col10 {\n",
       "  background-color: #3d93c2;\n",
       "  color: #f1f1f1;\n",
       "}\n",
       "#T_5fe4c_row11_col13 {\n",
       "  background-color: #faf2f8;\n",
       "  color: #000000;\n",
       "}\n",
       "#T_5fe4c_row12_col4 {\n",
       "  background-color: #81aed2;\n",
       "  color: #f1f1f1;\n",
       "}\n",
       "#T_5fe4c_row12_col7 {\n",
       "  background-color: #62a2cb;\n",
       "  color: #f1f1f1;\n",
       "}\n",
       "#T_5fe4c_row12_col8 {\n",
       "  background-color: #f5eff6;\n",
       "  color: #000000;\n",
       "}\n",
       "#T_5fe4c_row12_col9 {\n",
       "  background-color: #0568a3;\n",
       "  color: #f1f1f1;\n",
       "}\n",
       "#T_5fe4c_row12_col11 {\n",
       "  background-color: #67a4cc;\n",
       "  color: #f1f1f1;\n",
       "}\n",
       "#T_5fe4c_row13_col1 {\n",
       "  background-color: #d9d8ea;\n",
       "  color: #000000;\n",
       "}\n",
       "#T_5fe4c_row13_col2 {\n",
       "  background-color: #f3edf5;\n",
       "  color: #000000;\n",
       "}\n",
       "</style>\n",
       "<table id=\"T_5fe4c\">\n",
       "  <thead>\n",
       "    <tr>\n",
       "      <th class=\"blank level0\" >&nbsp;</th>\n",
       "      <th id=\"T_5fe4c_level0_col0\" class=\"col_heading level0 col0\" >Age</th>\n",
       "      <th id=\"T_5fe4c_level0_col1\" class=\"col_heading level0 col1\" >Attrition</th>\n",
       "      <th id=\"T_5fe4c_level0_col2\" class=\"col_heading level0 col2\" >EnvironmentSatisfaction</th>\n",
       "      <th id=\"T_5fe4c_level0_col3\" class=\"col_heading level0 col3\" >JobInvolvement</th>\n",
       "      <th id=\"T_5fe4c_level0_col4\" class=\"col_heading level0 col4\" >JobLevel</th>\n",
       "      <th id=\"T_5fe4c_level0_col5\" class=\"col_heading level0 col5\" >JobSatisfaction</th>\n",
       "      <th id=\"T_5fe4c_level0_col6\" class=\"col_heading level0 col6\" >MonthlyIncome</th>\n",
       "      <th id=\"T_5fe4c_level0_col7\" class=\"col_heading level0 col7\" >TotalWorkingYears</th>\n",
       "      <th id=\"T_5fe4c_level0_col8\" class=\"col_heading level0 col8\" >WorkLifeBalance</th>\n",
       "      <th id=\"T_5fe4c_level0_col9\" class=\"col_heading level0 col9\" >YearsAtCompany</th>\n",
       "      <th id=\"T_5fe4c_level0_col10\" class=\"col_heading level0 col10\" >YearsInCurrentRole</th>\n",
       "      <th id=\"T_5fe4c_level0_col11\" class=\"col_heading level0 col11\" >YearsSinceLastPromotion</th>\n",
       "      <th id=\"T_5fe4c_level0_col12\" class=\"col_heading level0 col12\" >YearsWithCurrManager</th>\n",
       "      <th id=\"T_5fe4c_level0_col13\" class=\"col_heading level0 col13\" >DistanceFromHome</th>\n",
       "    </tr>\n",
       "  </thead>\n",
       "  <tbody>\n",
       "    <tr>\n",
       "      <th id=\"T_5fe4c_level0_row0\" class=\"row_heading level0 row0\" >Age</th>\n",
       "      <td id=\"T_5fe4c_row0_col0\" class=\"data row0 col0\" >1.000000</td>\n",
       "      <td id=\"T_5fe4c_row0_col1\" class=\"data row0 col1\" >-0.159205</td>\n",
       "      <td id=\"T_5fe4c_row0_col2\" class=\"data row0 col2\" >0.010146</td>\n",
       "      <td id=\"T_5fe4c_row0_col3\" class=\"data row0 col3\" >0.029820</td>\n",
       "      <td id=\"T_5fe4c_row0_col4\" class=\"data row0 col4\" >0.509604</td>\n",
       "      <td id=\"T_5fe4c_row0_col5\" class=\"data row0 col5\" >-0.004892</td>\n",
       "      <td id=\"T_5fe4c_row0_col6\" class=\"data row0 col6\" >0.497855</td>\n",
       "      <td id=\"T_5fe4c_row0_col7\" class=\"data row0 col7\" >0.680381</td>\n",
       "      <td id=\"T_5fe4c_row0_col8\" class=\"data row0 col8\" >-0.021490</td>\n",
       "      <td id=\"T_5fe4c_row0_col9\" class=\"data row0 col9\" >0.311309</td>\n",
       "      <td id=\"T_5fe4c_row0_col10\" class=\"data row0 col10\" >0.212901</td>\n",
       "      <td id=\"T_5fe4c_row0_col11\" class=\"data row0 col11\" >0.216513</td>\n",
       "      <td id=\"T_5fe4c_row0_col12\" class=\"data row0 col12\" >0.202089</td>\n",
       "      <td id=\"T_5fe4c_row0_col13\" class=\"data row0 col13\" >-0.001686</td>\n",
       "    </tr>\n",
       "    <tr>\n",
       "      <th id=\"T_5fe4c_level0_row1\" class=\"row_heading level0 row1\" >Attrition</th>\n",
       "      <td id=\"T_5fe4c_row1_col0\" class=\"data row1 col0\" >-0.159205</td>\n",
       "      <td id=\"T_5fe4c_row1_col1\" class=\"data row1 col1\" >1.000000</td>\n",
       "      <td id=\"T_5fe4c_row1_col2\" class=\"data row1 col2\" >-0.103369</td>\n",
       "      <td id=\"T_5fe4c_row1_col3\" class=\"data row1 col3\" >-0.130016</td>\n",
       "      <td id=\"T_5fe4c_row1_col4\" class=\"data row1 col4\" >-0.169105</td>\n",
       "      <td id=\"T_5fe4c_row1_col5\" class=\"data row1 col5\" >-0.103481</td>\n",
       "      <td id=\"T_5fe4c_row1_col6\" class=\"data row1 col6\" >-0.159840</td>\n",
       "      <td id=\"T_5fe4c_row1_col7\" class=\"data row1 col7\" >-0.171063</td>\n",
       "      <td id=\"T_5fe4c_row1_col8\" class=\"data row1 col8\" >-0.063939</td>\n",
       "      <td id=\"T_5fe4c_row1_col9\" class=\"data row1 col9\" >-0.134392</td>\n",
       "      <td id=\"T_5fe4c_row1_col10\" class=\"data row1 col10\" >-0.160545</td>\n",
       "      <td id=\"T_5fe4c_row1_col11\" class=\"data row1 col11\" >-0.033019</td>\n",
       "      <td id=\"T_5fe4c_row1_col12\" class=\"data row1 col12\" >-0.156199</td>\n",
       "      <td id=\"T_5fe4c_row1_col13\" class=\"data row1 col13\" >0.077924</td>\n",
       "    </tr>\n",
       "    <tr>\n",
       "      <th id=\"T_5fe4c_level0_row2\" class=\"row_heading level0 row2\" >EnvironmentSatisfaction</th>\n",
       "      <td id=\"T_5fe4c_row2_col0\" class=\"data row2 col0\" >0.010146</td>\n",
       "      <td id=\"T_5fe4c_row2_col1\" class=\"data row2 col1\" >-0.103369</td>\n",
       "      <td id=\"T_5fe4c_row2_col2\" class=\"data row2 col2\" >1.000000</td>\n",
       "      <td id=\"T_5fe4c_row2_col3\" class=\"data row2 col3\" >-0.008278</td>\n",
       "      <td id=\"T_5fe4c_row2_col4\" class=\"data row2 col4\" >0.001212</td>\n",
       "      <td id=\"T_5fe4c_row2_col5\" class=\"data row2 col5\" >-0.006784</td>\n",
       "      <td id=\"T_5fe4c_row2_col6\" class=\"data row2 col6\" >-0.006259</td>\n",
       "      <td id=\"T_5fe4c_row2_col7\" class=\"data row2 col7\" >-0.002693</td>\n",
       "      <td id=\"T_5fe4c_row2_col8\" class=\"data row2 col8\" >0.027627</td>\n",
       "      <td id=\"T_5fe4c_row2_col9\" class=\"data row2 col9\" >0.001458</td>\n",
       "      <td id=\"T_5fe4c_row2_col10\" class=\"data row2 col10\" >0.018007</td>\n",
       "      <td id=\"T_5fe4c_row2_col11\" class=\"data row2 col11\" >0.016194</td>\n",
       "      <td id=\"T_5fe4c_row2_col12\" class=\"data row2 col12\" >-0.004999</td>\n",
       "      <td id=\"T_5fe4c_row2_col13\" class=\"data row2 col13\" >-0.016075</td>\n",
       "    </tr>\n",
       "    <tr>\n",
       "      <th id=\"T_5fe4c_level0_row3\" class=\"row_heading level0 row3\" >JobInvolvement</th>\n",
       "      <td id=\"T_5fe4c_row3_col0\" class=\"data row3 col0\" >0.029820</td>\n",
       "      <td id=\"T_5fe4c_row3_col1\" class=\"data row3 col1\" >-0.130016</td>\n",
       "      <td id=\"T_5fe4c_row3_col2\" class=\"data row3 col2\" >-0.008278</td>\n",
       "      <td id=\"T_5fe4c_row3_col3\" class=\"data row3 col3\" >1.000000</td>\n",
       "      <td id=\"T_5fe4c_row3_col4\" class=\"data row3 col4\" >-0.012630</td>\n",
       "      <td id=\"T_5fe4c_row3_col5\" class=\"data row3 col5\" >-0.021476</td>\n",
       "      <td id=\"T_5fe4c_row3_col6\" class=\"data row3 col6\" >-0.015271</td>\n",
       "      <td id=\"T_5fe4c_row3_col7\" class=\"data row3 col7\" >-0.005533</td>\n",
       "      <td id=\"T_5fe4c_row3_col8\" class=\"data row3 col8\" >-0.014617</td>\n",
       "      <td id=\"T_5fe4c_row3_col9\" class=\"data row3 col9\" >-0.021355</td>\n",
       "      <td id=\"T_5fe4c_row3_col10\" class=\"data row3 col10\" >0.008717</td>\n",
       "      <td id=\"T_5fe4c_row3_col11\" class=\"data row3 col11\" >-0.024184</td>\n",
       "      <td id=\"T_5fe4c_row3_col12\" class=\"data row3 col12\" >0.025976</td>\n",
       "      <td id=\"T_5fe4c_row3_col13\" class=\"data row3 col13\" >0.008783</td>\n",
       "    </tr>\n",
       "    <tr>\n",
       "      <th id=\"T_5fe4c_level0_row4\" class=\"row_heading level0 row4\" >JobLevel</th>\n",
       "      <td id=\"T_5fe4c_row4_col0\" class=\"data row4 col0\" >0.509604</td>\n",
       "      <td id=\"T_5fe4c_row4_col1\" class=\"data row4 col1\" >-0.169105</td>\n",
       "      <td id=\"T_5fe4c_row4_col2\" class=\"data row4 col2\" >0.001212</td>\n",
       "      <td id=\"T_5fe4c_row4_col3\" class=\"data row4 col3\" >-0.012630</td>\n",
       "      <td id=\"T_5fe4c_row4_col4\" class=\"data row4 col4\" >1.000000</td>\n",
       "      <td id=\"T_5fe4c_row4_col5\" class=\"data row4 col5\" >-0.001944</td>\n",
       "      <td id=\"T_5fe4c_row4_col6\" class=\"data row4 col6\" >0.950300</td>\n",
       "      <td id=\"T_5fe4c_row4_col7\" class=\"data row4 col7\" >0.782208</td>\n",
       "      <td id=\"T_5fe4c_row4_col8\" class=\"data row4 col8\" >0.037818</td>\n",
       "      <td id=\"T_5fe4c_row4_col9\" class=\"data row4 col9\" >0.534739</td>\n",
       "      <td id=\"T_5fe4c_row4_col10\" class=\"data row4 col10\" >0.389447</td>\n",
       "      <td id=\"T_5fe4c_row4_col11\" class=\"data row4 col11\" >0.353885</td>\n",
       "      <td id=\"T_5fe4c_row4_col12\" class=\"data row4 col12\" >0.375281</td>\n",
       "      <td id=\"T_5fe4c_row4_col13\" class=\"data row4 col13\" >0.005303</td>\n",
       "    </tr>\n",
       "    <tr>\n",
       "      <th id=\"T_5fe4c_level0_row5\" class=\"row_heading level0 row5\" >JobSatisfaction</th>\n",
       "      <td id=\"T_5fe4c_row5_col0\" class=\"data row5 col0\" >-0.004892</td>\n",
       "      <td id=\"T_5fe4c_row5_col1\" class=\"data row5 col1\" >-0.103481</td>\n",
       "      <td id=\"T_5fe4c_row5_col2\" class=\"data row5 col2\" >-0.006784</td>\n",
       "      <td id=\"T_5fe4c_row5_col3\" class=\"data row5 col3\" >-0.021476</td>\n",
       "      <td id=\"T_5fe4c_row5_col4\" class=\"data row5 col4\" >-0.001944</td>\n",
       "      <td id=\"T_5fe4c_row5_col5\" class=\"data row5 col5\" >1.000000</td>\n",
       "      <td id=\"T_5fe4c_row5_col6\" class=\"data row5 col6\" >-0.007157</td>\n",
       "      <td id=\"T_5fe4c_row5_col7\" class=\"data row5 col7\" >-0.020185</td>\n",
       "      <td id=\"T_5fe4c_row5_col8\" class=\"data row5 col8\" >-0.019459</td>\n",
       "      <td id=\"T_5fe4c_row5_col9\" class=\"data row5 col9\" >-0.003803</td>\n",
       "      <td id=\"T_5fe4c_row5_col10\" class=\"data row5 col10\" >-0.002305</td>\n",
       "      <td id=\"T_5fe4c_row5_col11\" class=\"data row5 col11\" >-0.018214</td>\n",
       "      <td id=\"T_5fe4c_row5_col12\" class=\"data row5 col12\" >-0.027656</td>\n",
       "      <td id=\"T_5fe4c_row5_col13\" class=\"data row5 col13\" >-0.003669</td>\n",
       "    </tr>\n",
       "    <tr>\n",
       "      <th id=\"T_5fe4c_level0_row6\" class=\"row_heading level0 row6\" >MonthlyIncome</th>\n",
       "      <td id=\"T_5fe4c_row6_col0\" class=\"data row6 col0\" >0.497855</td>\n",
       "      <td id=\"T_5fe4c_row6_col1\" class=\"data row6 col1\" >-0.159840</td>\n",
       "      <td id=\"T_5fe4c_row6_col2\" class=\"data row6 col2\" >-0.006259</td>\n",
       "      <td id=\"T_5fe4c_row6_col3\" class=\"data row6 col3\" >-0.015271</td>\n",
       "      <td id=\"T_5fe4c_row6_col4\" class=\"data row6 col4\" >0.950300</td>\n",
       "      <td id=\"T_5fe4c_row6_col5\" class=\"data row6 col5\" >-0.007157</td>\n",
       "      <td id=\"T_5fe4c_row6_col6\" class=\"data row6 col6\" >1.000000</td>\n",
       "      <td id=\"T_5fe4c_row6_col7\" class=\"data row6 col7\" >0.772893</td>\n",
       "      <td id=\"T_5fe4c_row6_col8\" class=\"data row6 col8\" >0.030683</td>\n",
       "      <td id=\"T_5fe4c_row6_col9\" class=\"data row6 col9\" >0.514285</td>\n",
       "      <td id=\"T_5fe4c_row6_col10\" class=\"data row6 col10\" >0.363818</td>\n",
       "      <td id=\"T_5fe4c_row6_col11\" class=\"data row6 col11\" >0.344978</td>\n",
       "      <td id=\"T_5fe4c_row6_col12\" class=\"data row6 col12\" >0.344079</td>\n",
       "      <td id=\"T_5fe4c_row6_col13\" class=\"data row6 col13\" >-0.017014</td>\n",
       "    </tr>\n",
       "    <tr>\n",
       "      <th id=\"T_5fe4c_level0_row7\" class=\"row_heading level0 row7\" >TotalWorkingYears</th>\n",
       "      <td id=\"T_5fe4c_row7_col0\" class=\"data row7 col0\" >0.680381</td>\n",
       "      <td id=\"T_5fe4c_row7_col1\" class=\"data row7 col1\" >-0.171063</td>\n",
       "      <td id=\"T_5fe4c_row7_col2\" class=\"data row7 col2\" >-0.002693</td>\n",
       "      <td id=\"T_5fe4c_row7_col3\" class=\"data row7 col3\" >-0.005533</td>\n",
       "      <td id=\"T_5fe4c_row7_col4\" class=\"data row7 col4\" >0.782208</td>\n",
       "      <td id=\"T_5fe4c_row7_col5\" class=\"data row7 col5\" >-0.020185</td>\n",
       "      <td id=\"T_5fe4c_row7_col6\" class=\"data row7 col6\" >0.772893</td>\n",
       "      <td id=\"T_5fe4c_row7_col7\" class=\"data row7 col7\" >1.000000</td>\n",
       "      <td id=\"T_5fe4c_row7_col8\" class=\"data row7 col8\" >0.001008</td>\n",
       "      <td id=\"T_5fe4c_row7_col9\" class=\"data row7 col9\" >0.628133</td>\n",
       "      <td id=\"T_5fe4c_row7_col10\" class=\"data row7 col10\" >0.460365</td>\n",
       "      <td id=\"T_5fe4c_row7_col11\" class=\"data row7 col11\" >0.404858</td>\n",
       "      <td id=\"T_5fe4c_row7_col12\" class=\"data row7 col12\" >0.459188</td>\n",
       "      <td id=\"T_5fe4c_row7_col13\" class=\"data row7 col13\" >0.004628</td>\n",
       "    </tr>\n",
       "    <tr>\n",
       "      <th id=\"T_5fe4c_level0_row8\" class=\"row_heading level0 row8\" >WorkLifeBalance</th>\n",
       "      <td id=\"T_5fe4c_row8_col0\" class=\"data row8 col0\" >-0.021490</td>\n",
       "      <td id=\"T_5fe4c_row8_col1\" class=\"data row8 col1\" >-0.063939</td>\n",
       "      <td id=\"T_5fe4c_row8_col2\" class=\"data row8 col2\" >0.027627</td>\n",
       "      <td id=\"T_5fe4c_row8_col3\" class=\"data row8 col3\" >-0.014617</td>\n",
       "      <td id=\"T_5fe4c_row8_col4\" class=\"data row8 col4\" >0.037818</td>\n",
       "      <td id=\"T_5fe4c_row8_col5\" class=\"data row8 col5\" >-0.019459</td>\n",
       "      <td id=\"T_5fe4c_row8_col6\" class=\"data row8 col6\" >0.030683</td>\n",
       "      <td id=\"T_5fe4c_row8_col7\" class=\"data row8 col7\" >0.001008</td>\n",
       "      <td id=\"T_5fe4c_row8_col8\" class=\"data row8 col8\" >1.000000</td>\n",
       "      <td id=\"T_5fe4c_row8_col9\" class=\"data row8 col9\" >0.012089</td>\n",
       "      <td id=\"T_5fe4c_row8_col10\" class=\"data row8 col10\" >0.049856</td>\n",
       "      <td id=\"T_5fe4c_row8_col11\" class=\"data row8 col11\" >0.008941</td>\n",
       "      <td id=\"T_5fe4c_row8_col12\" class=\"data row8 col12\" >0.002759</td>\n",
       "      <td id=\"T_5fe4c_row8_col13\" class=\"data row8 col13\" >-0.026556</td>\n",
       "    </tr>\n",
       "    <tr>\n",
       "      <th id=\"T_5fe4c_level0_row9\" class=\"row_heading level0 row9\" >YearsAtCompany</th>\n",
       "      <td id=\"T_5fe4c_row9_col0\" class=\"data row9 col0\" >0.311309</td>\n",
       "      <td id=\"T_5fe4c_row9_col1\" class=\"data row9 col1\" >-0.134392</td>\n",
       "      <td id=\"T_5fe4c_row9_col2\" class=\"data row9 col2\" >0.001458</td>\n",
       "      <td id=\"T_5fe4c_row9_col3\" class=\"data row9 col3\" >-0.021355</td>\n",
       "      <td id=\"T_5fe4c_row9_col4\" class=\"data row9 col4\" >0.534739</td>\n",
       "      <td id=\"T_5fe4c_row9_col5\" class=\"data row9 col5\" >-0.003803</td>\n",
       "      <td id=\"T_5fe4c_row9_col6\" class=\"data row9 col6\" >0.514285</td>\n",
       "      <td id=\"T_5fe4c_row9_col7\" class=\"data row9 col7\" >0.628133</td>\n",
       "      <td id=\"T_5fe4c_row9_col8\" class=\"data row9 col8\" >0.012089</td>\n",
       "      <td id=\"T_5fe4c_row9_col9\" class=\"data row9 col9\" >1.000000</td>\n",
       "      <td id=\"T_5fe4c_row9_col10\" class=\"data row9 col10\" >0.758754</td>\n",
       "      <td id=\"T_5fe4c_row9_col11\" class=\"data row9 col11\" >0.618409</td>\n",
       "      <td id=\"T_5fe4c_row9_col12\" class=\"data row9 col12\" >0.769212</td>\n",
       "      <td id=\"T_5fe4c_row9_col13\" class=\"data row9 col13\" >0.009508</td>\n",
       "    </tr>\n",
       "    <tr>\n",
       "      <th id=\"T_5fe4c_level0_row10\" class=\"row_heading level0 row10\" >YearsInCurrentRole</th>\n",
       "      <td id=\"T_5fe4c_row10_col0\" class=\"data row10 col0\" >0.212901</td>\n",
       "      <td id=\"T_5fe4c_row10_col1\" class=\"data row10 col1\" >-0.160545</td>\n",
       "      <td id=\"T_5fe4c_row10_col2\" class=\"data row10 col2\" >0.018007</td>\n",
       "      <td id=\"T_5fe4c_row10_col3\" class=\"data row10 col3\" >0.008717</td>\n",
       "      <td id=\"T_5fe4c_row10_col4\" class=\"data row10 col4\" >0.389447</td>\n",
       "      <td id=\"T_5fe4c_row10_col5\" class=\"data row10 col5\" >-0.002305</td>\n",
       "      <td id=\"T_5fe4c_row10_col6\" class=\"data row10 col6\" >0.363818</td>\n",
       "      <td id=\"T_5fe4c_row10_col7\" class=\"data row10 col7\" >0.460365</td>\n",
       "      <td id=\"T_5fe4c_row10_col8\" class=\"data row10 col8\" >0.049856</td>\n",
       "      <td id=\"T_5fe4c_row10_col9\" class=\"data row10 col9\" >0.758754</td>\n",
       "      <td id=\"T_5fe4c_row10_col10\" class=\"data row10 col10\" >1.000000</td>\n",
       "      <td id=\"T_5fe4c_row10_col11\" class=\"data row10 col11\" >0.548056</td>\n",
       "      <td id=\"T_5fe4c_row10_col12\" class=\"data row10 col12\" >0.714365</td>\n",
       "      <td id=\"T_5fe4c_row10_col13\" class=\"data row10 col13\" >0.018845</td>\n",
       "    </tr>\n",
       "    <tr>\n",
       "      <th id=\"T_5fe4c_level0_row11\" class=\"row_heading level0 row11\" >YearsSinceLastPromotion</th>\n",
       "      <td id=\"T_5fe4c_row11_col0\" class=\"data row11 col0\" >0.216513</td>\n",
       "      <td id=\"T_5fe4c_row11_col1\" class=\"data row11 col1\" >-0.033019</td>\n",
       "      <td id=\"T_5fe4c_row11_col2\" class=\"data row11 col2\" >0.016194</td>\n",
       "      <td id=\"T_5fe4c_row11_col3\" class=\"data row11 col3\" >-0.024184</td>\n",
       "      <td id=\"T_5fe4c_row11_col4\" class=\"data row11 col4\" >0.353885</td>\n",
       "      <td id=\"T_5fe4c_row11_col5\" class=\"data row11 col5\" >-0.018214</td>\n",
       "      <td id=\"T_5fe4c_row11_col6\" class=\"data row11 col6\" >0.344978</td>\n",
       "      <td id=\"T_5fe4c_row11_col7\" class=\"data row11 col7\" >0.404858</td>\n",
       "      <td id=\"T_5fe4c_row11_col8\" class=\"data row11 col8\" >0.008941</td>\n",
       "      <td id=\"T_5fe4c_row11_col9\" class=\"data row11 col9\" >0.618409</td>\n",
       "      <td id=\"T_5fe4c_row11_col10\" class=\"data row11 col10\" >0.548056</td>\n",
       "      <td id=\"T_5fe4c_row11_col11\" class=\"data row11 col11\" >1.000000</td>\n",
       "      <td id=\"T_5fe4c_row11_col12\" class=\"data row11 col12\" >0.510224</td>\n",
       "      <td id=\"T_5fe4c_row11_col13\" class=\"data row11 col13\" >0.010029</td>\n",
       "    </tr>\n",
       "    <tr>\n",
       "      <th id=\"T_5fe4c_level0_row12\" class=\"row_heading level0 row12\" >YearsWithCurrManager</th>\n",
       "      <td id=\"T_5fe4c_row12_col0\" class=\"data row12 col0\" >0.202089</td>\n",
       "      <td id=\"T_5fe4c_row12_col1\" class=\"data row12 col1\" >-0.156199</td>\n",
       "      <td id=\"T_5fe4c_row12_col2\" class=\"data row12 col2\" >-0.004999</td>\n",
       "      <td id=\"T_5fe4c_row12_col3\" class=\"data row12 col3\" >0.025976</td>\n",
       "      <td id=\"T_5fe4c_row12_col4\" class=\"data row12 col4\" >0.375281</td>\n",
       "      <td id=\"T_5fe4c_row12_col5\" class=\"data row12 col5\" >-0.027656</td>\n",
       "      <td id=\"T_5fe4c_row12_col6\" class=\"data row12 col6\" >0.344079</td>\n",
       "      <td id=\"T_5fe4c_row12_col7\" class=\"data row12 col7\" >0.459188</td>\n",
       "      <td id=\"T_5fe4c_row12_col8\" class=\"data row12 col8\" >0.002759</td>\n",
       "      <td id=\"T_5fe4c_row12_col9\" class=\"data row12 col9\" >0.769212</td>\n",
       "      <td id=\"T_5fe4c_row12_col10\" class=\"data row12 col10\" >0.714365</td>\n",
       "      <td id=\"T_5fe4c_row12_col11\" class=\"data row12 col11\" >0.510224</td>\n",
       "      <td id=\"T_5fe4c_row12_col12\" class=\"data row12 col12\" >1.000000</td>\n",
       "      <td id=\"T_5fe4c_row12_col13\" class=\"data row12 col13\" >0.014406</td>\n",
       "    </tr>\n",
       "    <tr>\n",
       "      <th id=\"T_5fe4c_level0_row13\" class=\"row_heading level0 row13\" >DistanceFromHome</th>\n",
       "      <td id=\"T_5fe4c_row13_col0\" class=\"data row13 col0\" >-0.001686</td>\n",
       "      <td id=\"T_5fe4c_row13_col1\" class=\"data row13 col1\" >0.077924</td>\n",
       "      <td id=\"T_5fe4c_row13_col2\" class=\"data row13 col2\" >-0.016075</td>\n",
       "      <td id=\"T_5fe4c_row13_col3\" class=\"data row13 col3\" >0.008783</td>\n",
       "      <td id=\"T_5fe4c_row13_col4\" class=\"data row13 col4\" >0.005303</td>\n",
       "      <td id=\"T_5fe4c_row13_col5\" class=\"data row13 col5\" >-0.003669</td>\n",
       "      <td id=\"T_5fe4c_row13_col6\" class=\"data row13 col6\" >-0.017014</td>\n",
       "      <td id=\"T_5fe4c_row13_col7\" class=\"data row13 col7\" >0.004628</td>\n",
       "      <td id=\"T_5fe4c_row13_col8\" class=\"data row13 col8\" >-0.026556</td>\n",
       "      <td id=\"T_5fe4c_row13_col9\" class=\"data row13 col9\" >0.009508</td>\n",
       "      <td id=\"T_5fe4c_row13_col10\" class=\"data row13 col10\" >0.018845</td>\n",
       "      <td id=\"T_5fe4c_row13_col11\" class=\"data row13 col11\" >0.010029</td>\n",
       "      <td id=\"T_5fe4c_row13_col12\" class=\"data row13 col12\" >0.014406</td>\n",
       "      <td id=\"T_5fe4c_row13_col13\" class=\"data row13 col13\" >1.000000</td>\n",
       "    </tr>\n",
       "  </tbody>\n",
       "</table>\n"
      ],
      "text/plain": [
       "<pandas.io.formats.style.Styler at 0x19e437eee50>"
      ]
     },
     "execution_count": 16,
     "metadata": {},
     "output_type": "execute_result"
    }
   ],
   "source": [
    "corr = data.corr()\n",
    "corr.style.background_gradient()"
   ]
  },
  {
   "cell_type": "markdown",
   "id": "561c669f",
   "metadata": {
    "id": "561c669f"
   },
   "source": [
    "# Bivariate Analysis "
   ]
  },
  {
   "cell_type": "markdown",
   "id": "f5bcf28f",
   "metadata": {
    "id": "f5bcf28f"
   },
   "source": [
    "# ---------------------------BusinessTravel---------------------------"
   ]
  },
  {
   "cell_type": "code",
   "execution_count": 17,
   "id": "53f07471",
   "metadata": {
    "colab": {
     "base_uri": "https://localhost:8080/",
     "height": 175
    },
    "id": "53f07471",
    "outputId": "b3a50e4b-f41b-4821-9f25-48855f10a34e"
   },
   "outputs": [
    {
     "data": {
      "text/html": [
       "<div>\n",
       "<style scoped>\n",
       "    .dataframe tbody tr th:only-of-type {\n",
       "        vertical-align: middle;\n",
       "    }\n",
       "\n",
       "    .dataframe tbody tr th {\n",
       "        vertical-align: top;\n",
       "    }\n",
       "\n",
       "    .dataframe thead th {\n",
       "        text-align: right;\n",
       "    }\n",
       "</style>\n",
       "<table border=\"1\" class=\"dataframe\">\n",
       "  <thead>\n",
       "    <tr style=\"text-align: right;\">\n",
       "      <th></th>\n",
       "      <th>Age</th>\n",
       "      <th>MonthlyIncome</th>\n",
       "      <th>TotalWorkingYears</th>\n",
       "      <th>YearsInCurrentRole</th>\n",
       "      <th>YearsSinceLastPromotion</th>\n",
       "      <th>YearsWithCurrManager</th>\n",
       "      <th>DistanceFromHome</th>\n",
       "    </tr>\n",
       "    <tr>\n",
       "      <th>BusinessTravel</th>\n",
       "      <th></th>\n",
       "      <th></th>\n",
       "      <th></th>\n",
       "      <th></th>\n",
       "      <th></th>\n",
       "      <th></th>\n",
       "      <th></th>\n",
       "    </tr>\n",
       "  </thead>\n",
       "  <tbody>\n",
       "    <tr>\n",
       "      <th>Non-Travel</th>\n",
       "      <td>32.416667</td>\n",
       "      <td>5240.750000</td>\n",
       "      <td>7.500000</td>\n",
       "      <td>2.083333</td>\n",
       "      <td>1.416667</td>\n",
       "      <td>2.333333</td>\n",
       "      <td>15.500000</td>\n",
       "    </tr>\n",
       "    <tr>\n",
       "      <th>Travel_Frequently</th>\n",
       "      <td>32.840580</td>\n",
       "      <td>4281.434783</td>\n",
       "      <td>7.463768</td>\n",
       "      <td>2.550725</td>\n",
       "      <td>1.942029</td>\n",
       "      <td>2.710145</td>\n",
       "      <td>10.623188</td>\n",
       "    </tr>\n",
       "    <tr>\n",
       "      <th>Travel_Rarely</th>\n",
       "      <td>34.038462</td>\n",
       "      <td>4975.852564</td>\n",
       "      <td>8.647436</td>\n",
       "      <td>3.121795</td>\n",
       "      <td>1.987179</td>\n",
       "      <td>2.955128</td>\n",
       "      <td>10.262821</td>\n",
       "    </tr>\n",
       "  </tbody>\n",
       "</table>\n",
       "</div>"
      ],
      "text/plain": [
       "                         Age  MonthlyIncome  TotalWorkingYears  \\\n",
       "BusinessTravel                                                   \n",
       "Non-Travel         32.416667    5240.750000           7.500000   \n",
       "Travel_Frequently  32.840580    4281.434783           7.463768   \n",
       "Travel_Rarely      34.038462    4975.852564           8.647436   \n",
       "\n",
       "                   YearsInCurrentRole  YearsSinceLastPromotion  \\\n",
       "BusinessTravel                                                   \n",
       "Non-Travel                   2.083333                 1.416667   \n",
       "Travel_Frequently            2.550725                 1.942029   \n",
       "Travel_Rarely                3.121795                 1.987179   \n",
       "\n",
       "                   YearsWithCurrManager  DistanceFromHome  \n",
       "BusinessTravel                                             \n",
       "Non-Travel                     2.333333         15.500000  \n",
       "Travel_Frequently              2.710145         10.623188  \n",
       "Travel_Rarely                  2.955128         10.262821  "
      ]
     },
     "execution_count": 17,
     "metadata": {},
     "output_type": "execute_result"
    }
   ],
   "source": [
    "data[numbers+ ['BusinessTravel']].loc[data.Attrition==1].groupby('BusinessTravel').mean()"
   ]
  },
  {
   "cell_type": "code",
   "execution_count": 18,
   "id": "f2b1cba5",
   "metadata": {
    "colab": {
     "base_uri": "https://localhost:8080/",
     "height": 175
    },
    "id": "f2b1cba5",
    "outputId": "f19cb0ed-fe3b-4ddb-8fbb-53b55537fdf4"
   },
   "outputs": [
    {
     "data": {
      "text/html": [
       "<div>\n",
       "<style scoped>\n",
       "    .dataframe tbody tr th:only-of-type {\n",
       "        vertical-align: middle;\n",
       "    }\n",
       "\n",
       "    .dataframe tbody tr th {\n",
       "        vertical-align: top;\n",
       "    }\n",
       "\n",
       "    .dataframe thead th {\n",
       "        text-align: right;\n",
       "    }\n",
       "</style>\n",
       "<table border=\"1\" class=\"dataframe\">\n",
       "  <thead>\n",
       "    <tr style=\"text-align: right;\">\n",
       "      <th></th>\n",
       "      <th>Age</th>\n",
       "      <th>MonthlyIncome</th>\n",
       "      <th>TotalWorkingYears</th>\n",
       "      <th>YearsInCurrentRole</th>\n",
       "      <th>YearsSinceLastPromotion</th>\n",
       "      <th>YearsWithCurrManager</th>\n",
       "      <th>DistanceFromHome</th>\n",
       "    </tr>\n",
       "    <tr>\n",
       "      <th>BusinessTravel</th>\n",
       "      <th></th>\n",
       "      <th></th>\n",
       "      <th></th>\n",
       "      <th></th>\n",
       "      <th></th>\n",
       "      <th></th>\n",
       "      <th></th>\n",
       "    </tr>\n",
       "  </thead>\n",
       "  <tbody>\n",
       "    <tr>\n",
       "      <th>Non-Travel</th>\n",
       "      <td>36.985507</td>\n",
       "      <td>6350.746377</td>\n",
       "      <td>10.862319</td>\n",
       "      <td>4.550725</td>\n",
       "      <td>2.471014</td>\n",
       "      <td>4.471014</td>\n",
       "      <td>9.260870</td>\n",
       "    </tr>\n",
       "    <tr>\n",
       "      <th>Travel_Frequently</th>\n",
       "      <td>37.653846</td>\n",
       "      <td>6828.091346</td>\n",
       "      <td>12.283654</td>\n",
       "      <td>4.802885</td>\n",
       "      <td>2.475962</td>\n",
       "      <td>4.716346</td>\n",
       "      <td>8.831731</td>\n",
       "    </tr>\n",
       "    <tr>\n",
       "      <th>Travel_Rarely</th>\n",
       "      <td>37.629087</td>\n",
       "      <td>6908.818489</td>\n",
       "      <td>11.919955</td>\n",
       "      <td>4.399098</td>\n",
       "      <td>2.140924</td>\n",
       "      <td>4.269448</td>\n",
       "      <td>8.881623</td>\n",
       "    </tr>\n",
       "  </tbody>\n",
       "</table>\n",
       "</div>"
      ],
      "text/plain": [
       "                         Age  MonthlyIncome  TotalWorkingYears  \\\n",
       "BusinessTravel                                                   \n",
       "Non-Travel         36.985507    6350.746377          10.862319   \n",
       "Travel_Frequently  37.653846    6828.091346          12.283654   \n",
       "Travel_Rarely      37.629087    6908.818489          11.919955   \n",
       "\n",
       "                   YearsInCurrentRole  YearsSinceLastPromotion  \\\n",
       "BusinessTravel                                                   \n",
       "Non-Travel                   4.550725                 2.471014   \n",
       "Travel_Frequently            4.802885                 2.475962   \n",
       "Travel_Rarely                4.399098                 2.140924   \n",
       "\n",
       "                   YearsWithCurrManager  DistanceFromHome  \n",
       "BusinessTravel                                             \n",
       "Non-Travel                     4.471014          9.260870  \n",
       "Travel_Frequently              4.716346          8.831731  \n",
       "Travel_Rarely                  4.269448          8.881623  "
      ]
     },
     "execution_count": 18,
     "metadata": {},
     "output_type": "execute_result"
    }
   ],
   "source": [
    "data[numbers+ ['BusinessTravel']].loc[data.Attrition==0].groupby('BusinessTravel').mean()"
   ]
  },
  {
   "cell_type": "code",
   "execution_count": 19,
   "id": "ec76e7dc",
   "metadata": {
    "colab": {
     "base_uri": "https://localhost:8080/",
     "height": 175
    },
    "id": "ec76e7dc",
    "outputId": "694bd377-02ee-4d92-c6a5-4cd91d0fdeb9"
   },
   "outputs": [
    {
     "data": {
      "text/html": [
       "<div>\n",
       "<style scoped>\n",
       "    .dataframe tbody tr th:only-of-type {\n",
       "        vertical-align: middle;\n",
       "    }\n",
       "\n",
       "    .dataframe tbody tr th {\n",
       "        vertical-align: top;\n",
       "    }\n",
       "\n",
       "    .dataframe thead th {\n",
       "        text-align: right;\n",
       "    }\n",
       "</style>\n",
       "<table border=\"1\" class=\"dataframe\">\n",
       "  <thead>\n",
       "    <tr style=\"text-align: right;\">\n",
       "      <th>Attrition</th>\n",
       "      <th>0</th>\n",
       "      <th>1</th>\n",
       "    </tr>\n",
       "    <tr>\n",
       "      <th>BusinessTravel</th>\n",
       "      <th></th>\n",
       "      <th></th>\n",
       "    </tr>\n",
       "  </thead>\n",
       "  <tbody>\n",
       "    <tr>\n",
       "      <th>Non-Travel</th>\n",
       "      <td>138</td>\n",
       "      <td>12</td>\n",
       "    </tr>\n",
       "    <tr>\n",
       "      <th>Travel_Frequently</th>\n",
       "      <td>208</td>\n",
       "      <td>69</td>\n",
       "    </tr>\n",
       "    <tr>\n",
       "      <th>Travel_Rarely</th>\n",
       "      <td>887</td>\n",
       "      <td>156</td>\n",
       "    </tr>\n",
       "  </tbody>\n",
       "</table>\n",
       "</div>"
      ],
      "text/plain": [
       "Attrition            0    1\n",
       "BusinessTravel             \n",
       "Non-Travel         138   12\n",
       "Travel_Frequently  208   69\n",
       "Travel_Rarely      887  156"
      ]
     },
     "execution_count": 19,
     "metadata": {},
     "output_type": "execute_result"
    }
   ],
   "source": [
    "table_travel = pd.crosstab(data.BusinessTravel,columns=data.Attrition)\n",
    "table_travel"
   ]
  },
  {
   "cell_type": "code",
   "execution_count": 20,
   "id": "ba9209d2",
   "metadata": {
    "colab": {
     "base_uri": "https://localhost:8080/",
     "height": 175
    },
    "id": "ba9209d2",
    "outputId": "c96bcfe8-7eaf-4280-b5e8-44d4a49ba7f3"
   },
   "outputs": [
    {
     "data": {
      "text/html": [
       "<div>\n",
       "<style scoped>\n",
       "    .dataframe tbody tr th:only-of-type {\n",
       "        vertical-align: middle;\n",
       "    }\n",
       "\n",
       "    .dataframe tbody tr th {\n",
       "        vertical-align: top;\n",
       "    }\n",
       "\n",
       "    .dataframe thead th {\n",
       "        text-align: right;\n",
       "    }\n",
       "</style>\n",
       "<table border=\"1\" class=\"dataframe\">\n",
       "  <thead>\n",
       "    <tr style=\"text-align: right;\">\n",
       "      <th>Attrition</th>\n",
       "      <th>0</th>\n",
       "      <th>1</th>\n",
       "    </tr>\n",
       "    <tr>\n",
       "      <th>BusinessTravel</th>\n",
       "      <th></th>\n",
       "      <th></th>\n",
       "    </tr>\n",
       "  </thead>\n",
       "  <tbody>\n",
       "    <tr>\n",
       "      <th>Non-Travel</th>\n",
       "      <td>9.387755</td>\n",
       "      <td>0.816327</td>\n",
       "    </tr>\n",
       "    <tr>\n",
       "      <th>Travel_Frequently</th>\n",
       "      <td>14.149660</td>\n",
       "      <td>4.693878</td>\n",
       "    </tr>\n",
       "    <tr>\n",
       "      <th>Travel_Rarely</th>\n",
       "      <td>60.340136</td>\n",
       "      <td>10.612245</td>\n",
       "    </tr>\n",
       "  </tbody>\n",
       "</table>\n",
       "</div>"
      ],
      "text/plain": [
       "Attrition                  0          1\n",
       "BusinessTravel                         \n",
       "Non-Travel          9.387755   0.816327\n",
       "Travel_Frequently  14.149660   4.693878\n",
       "Travel_Rarely      60.340136  10.612245"
      ]
     },
     "execution_count": 20,
     "metadata": {},
     "output_type": "execute_result"
    }
   ],
   "source": [
    "table_travel/n * 100  ####################JOINT PROBABILITY###################################################### "
   ]
  },
  {
   "cell_type": "code",
   "execution_count": 21,
   "id": "6055c425",
   "metadata": {
    "colab": {
     "base_uri": "https://localhost:8080/"
    },
    "id": "6055c425",
    "outputId": "d391bdfc-0e86-4591-9732-4d5b4163cf90"
   },
   "outputs": [
    {
     "data": {
      "text/plain": [
       "BusinessTravel\n",
       "Non-Travel           0.102041\n",
       "Travel_Frequently    0.188435\n",
       "Travel_Rarely        0.709524\n",
       "dtype: float64"
      ]
     },
     "execution_count": 21,
     "metadata": {},
     "output_type": "execute_result"
    }
   ],
   "source": [
    "rowtotal_travel = table_travel.sum(axis = 1)      ################frequency table ###################\n",
    "rowtotal_travel/n"
   ]
  },
  {
   "cell_type": "code",
   "execution_count": 22,
   "id": "UI3hoYFJcZ7e",
   "metadata": {
    "colab": {
     "base_uri": "https://localhost:8080/"
    },
    "id": "UI3hoYFJcZ7e",
    "outputId": "504e6f74-93cd-436b-e5fc-dfebb539dd4c"
   },
   "outputs": [
    {
     "data": {
      "text/plain": [
       "Attrition\n",
       "0    1233\n",
       "1     237\n",
       "dtype: int64"
      ]
     },
     "execution_count": 22,
     "metadata": {},
     "output_type": "execute_result"
    }
   ],
   "source": [
    "coltotal_travel = table_travel.sum(axis = 0)\n",
    "coltotal_travel                                 "
   ]
  },
  {
   "cell_type": "code",
   "execution_count": 23,
   "id": "4a825d5a",
   "metadata": {
    "colab": {
     "base_uri": "https://localhost:8080/",
     "height": 175
    },
    "id": "4a825d5a",
    "outputId": "55155319-4e6e-4f0a-c843-ad455cff0f9c"
   },
   "outputs": [
    {
     "data": {
      "text/html": [
       "<div>\n",
       "<style scoped>\n",
       "    .dataframe tbody tr th:only-of-type {\n",
       "        vertical-align: middle;\n",
       "    }\n",
       "\n",
       "    .dataframe tbody tr th {\n",
       "        vertical-align: top;\n",
       "    }\n",
       "\n",
       "    .dataframe thead th {\n",
       "        text-align: right;\n",
       "    }\n",
       "</style>\n",
       "<table border=\"1\" class=\"dataframe\">\n",
       "  <thead>\n",
       "    <tr style=\"text-align: right;\">\n",
       "      <th>Attrition</th>\n",
       "      <th>0</th>\n",
       "      <th>1</th>\n",
       "    </tr>\n",
       "    <tr>\n",
       "      <th>BusinessTravel</th>\n",
       "      <th></th>\n",
       "      <th></th>\n",
       "    </tr>\n",
       "  </thead>\n",
       "  <tbody>\n",
       "    <tr>\n",
       "      <th>Non-Travel</th>\n",
       "      <td>0.920000</td>\n",
       "      <td>0.080000</td>\n",
       "    </tr>\n",
       "    <tr>\n",
       "      <th>Travel_Frequently</th>\n",
       "      <td>0.750903</td>\n",
       "      <td>0.249097</td>\n",
       "    </tr>\n",
       "    <tr>\n",
       "      <th>Travel_Rarely</th>\n",
       "      <td>0.850431</td>\n",
       "      <td>0.149569</td>\n",
       "    </tr>\n",
       "  </tbody>\n",
       "</table>\n",
       "</div>"
      ],
      "text/plain": [
       "Attrition                 0         1\n",
       "BusinessTravel                       \n",
       "Non-Travel         0.920000  0.080000\n",
       "Travel_Frequently  0.750903  0.249097\n",
       "Travel_Rarely      0.850431  0.149569"
      ]
     },
     "execution_count": 23,
     "metadata": {},
     "output_type": "execute_result"
    }
   ],
   "source": [
    "table_travel.div(rowtotal_travel,axis = 0)  #for given travel"
   ]
  },
  {
   "cell_type": "code",
   "execution_count": 24,
   "id": "9d41d591",
   "metadata": {
    "colab": {
     "base_uri": "https://localhost:8080/",
     "height": 175
    },
    "id": "9d41d591",
    "outputId": "b4675614-ed56-4a15-d9a0-9616bc6c39fd"
   },
   "outputs": [
    {
     "data": {
      "text/html": [
       "<div>\n",
       "<style scoped>\n",
       "    .dataframe tbody tr th:only-of-type {\n",
       "        vertical-align: middle;\n",
       "    }\n",
       "\n",
       "    .dataframe tbody tr th {\n",
       "        vertical-align: top;\n",
       "    }\n",
       "\n",
       "    .dataframe thead th {\n",
       "        text-align: right;\n",
       "    }\n",
       "</style>\n",
       "<table border=\"1\" class=\"dataframe\">\n",
       "  <thead>\n",
       "    <tr style=\"text-align: right;\">\n",
       "      <th>Attrition</th>\n",
       "      <th>0</th>\n",
       "      <th>1</th>\n",
       "    </tr>\n",
       "    <tr>\n",
       "      <th>BusinessTravel</th>\n",
       "      <th></th>\n",
       "      <th></th>\n",
       "    </tr>\n",
       "  </thead>\n",
       "  <tbody>\n",
       "    <tr>\n",
       "      <th>Non-Travel</th>\n",
       "      <td>0.111922</td>\n",
       "      <td>0.050633</td>\n",
       "    </tr>\n",
       "    <tr>\n",
       "      <th>Travel_Frequently</th>\n",
       "      <td>0.168694</td>\n",
       "      <td>0.291139</td>\n",
       "    </tr>\n",
       "    <tr>\n",
       "      <th>Travel_Rarely</th>\n",
       "      <td>0.719384</td>\n",
       "      <td>0.658228</td>\n",
       "    </tr>\n",
       "  </tbody>\n",
       "</table>\n",
       "</div>"
      ],
      "text/plain": [
       "Attrition                 0         1\n",
       "BusinessTravel                       \n",
       "Non-Travel         0.111922  0.050633\n",
       "Travel_Frequently  0.168694  0.291139\n",
       "Travel_Rarely      0.719384  0.658228"
      ]
     },
     "execution_count": 24,
     "metadata": {},
     "output_type": "execute_result"
    }
   ],
   "source": [
    "table_travel.div(coltotal_travel,axis = 1)  #for given Attrition"
   ]
  },
  {
   "cell_type": "markdown",
   "id": "721ef6f0",
   "metadata": {
    "id": "721ef6f0"
   },
   "source": [
    "# ---------------------------Department---------------------------"
   ]
  },
  {
   "cell_type": "code",
   "execution_count": 25,
   "id": "679901f4",
   "metadata": {
    "colab": {
     "base_uri": "https://localhost:8080/",
     "height": 175
    },
    "id": "679901f4",
    "outputId": "28584cf3-6bff-47b0-9d82-335b8a47b0e2"
   },
   "outputs": [
    {
     "data": {
      "text/html": [
       "<div>\n",
       "<style scoped>\n",
       "    .dataframe tbody tr th:only-of-type {\n",
       "        vertical-align: middle;\n",
       "    }\n",
       "\n",
       "    .dataframe tbody tr th {\n",
       "        vertical-align: top;\n",
       "    }\n",
       "\n",
       "    .dataframe thead th {\n",
       "        text-align: right;\n",
       "    }\n",
       "</style>\n",
       "<table border=\"1\" class=\"dataframe\">\n",
       "  <thead>\n",
       "    <tr style=\"text-align: right;\">\n",
       "      <th></th>\n",
       "      <th>Age</th>\n",
       "      <th>MonthlyIncome</th>\n",
       "      <th>TotalWorkingYears</th>\n",
       "      <th>YearsInCurrentRole</th>\n",
       "      <th>YearsSinceLastPromotion</th>\n",
       "      <th>YearsWithCurrManager</th>\n",
       "      <th>DistanceFromHome</th>\n",
       "    </tr>\n",
       "    <tr>\n",
       "      <th>Department</th>\n",
       "      <th></th>\n",
       "      <th></th>\n",
       "      <th></th>\n",
       "      <th></th>\n",
       "      <th></th>\n",
       "      <th></th>\n",
       "      <th></th>\n",
       "    </tr>\n",
       "  </thead>\n",
       "  <tbody>\n",
       "    <tr>\n",
       "      <th>Human Resources</th>\n",
       "      <td>39.627451</td>\n",
       "      <td>7345.980392</td>\n",
       "      <td>12.843137</td>\n",
       "      <td>3.901961</td>\n",
       "      <td>2.000000</td>\n",
       "      <td>4.176471</td>\n",
       "      <td>7.588235</td>\n",
       "    </tr>\n",
       "    <tr>\n",
       "      <th>Research &amp; Development</th>\n",
       "      <td>37.615942</td>\n",
       "      <td>6630.326087</td>\n",
       "      <td>11.865942</td>\n",
       "      <td>4.387681</td>\n",
       "      <td>2.179952</td>\n",
       "      <td>4.282609</td>\n",
       "      <td>8.964976</td>\n",
       "    </tr>\n",
       "    <tr>\n",
       "      <th>Sales</th>\n",
       "      <td>37.135593</td>\n",
       "      <td>7232.240113</td>\n",
       "      <td>11.714689</td>\n",
       "      <td>4.793785</td>\n",
       "      <td>2.395480</td>\n",
       "      <td>4.593220</td>\n",
       "      <td>8.991525</td>\n",
       "    </tr>\n",
       "  </tbody>\n",
       "</table>\n",
       "</div>"
      ],
      "text/plain": [
       "                              Age  MonthlyIncome  TotalWorkingYears  \\\n",
       "Department                                                            \n",
       "Human Resources         39.627451    7345.980392          12.843137   \n",
       "Research & Development  37.615942    6630.326087          11.865942   \n",
       "Sales                   37.135593    7232.240113          11.714689   \n",
       "\n",
       "                        YearsInCurrentRole  YearsSinceLastPromotion  \\\n",
       "Department                                                            \n",
       "Human Resources                   3.901961                 2.000000   \n",
       "Research & Development            4.387681                 2.179952   \n",
       "Sales                             4.793785                 2.395480   \n",
       "\n",
       "                        YearsWithCurrManager  DistanceFromHome  \n",
       "Department                                                      \n",
       "Human Resources                     4.176471          7.588235  \n",
       "Research & Development              4.282609          8.964976  \n",
       "Sales                               4.593220          8.991525  "
      ]
     },
     "execution_count": 25,
     "metadata": {},
     "output_type": "execute_result"
    }
   ],
   "source": [
    "data[numbers+ ['Department'] ].loc[data.Attrition==0].groupby('Department').mean()"
   ]
  },
  {
   "cell_type": "code",
   "execution_count": 26,
   "id": "BmA29qdzouTu",
   "metadata": {
    "colab": {
     "base_uri": "https://localhost:8080/",
     "height": 175
    },
    "id": "BmA29qdzouTu",
    "outputId": "16c5276a-167a-410e-e6be-40507d93e135"
   },
   "outputs": [
    {
     "data": {
      "text/html": [
       "<div>\n",
       "<style scoped>\n",
       "    .dataframe tbody tr th:only-of-type {\n",
       "        vertical-align: middle;\n",
       "    }\n",
       "\n",
       "    .dataframe tbody tr th {\n",
       "        vertical-align: top;\n",
       "    }\n",
       "\n",
       "    .dataframe thead th {\n",
       "        text-align: right;\n",
       "    }\n",
       "</style>\n",
       "<table border=\"1\" class=\"dataframe\">\n",
       "  <thead>\n",
       "    <tr style=\"text-align: right;\">\n",
       "      <th></th>\n",
       "      <th>Age</th>\n",
       "      <th>MonthlyIncome</th>\n",
       "      <th>TotalWorkingYears</th>\n",
       "      <th>YearsInCurrentRole</th>\n",
       "      <th>YearsSinceLastPromotion</th>\n",
       "      <th>YearsWithCurrManager</th>\n",
       "      <th>DistanceFromHome</th>\n",
       "    </tr>\n",
       "    <tr>\n",
       "      <th>Department</th>\n",
       "      <th></th>\n",
       "      <th></th>\n",
       "      <th></th>\n",
       "      <th></th>\n",
       "      <th></th>\n",
       "      <th></th>\n",
       "      <th></th>\n",
       "    </tr>\n",
       "  </thead>\n",
       "  <tbody>\n",
       "    <tr>\n",
       "      <th>Human Resources</th>\n",
       "      <td>30.083333</td>\n",
       "      <td>3715.750000</td>\n",
       "      <td>6.083333</td>\n",
       "      <td>2.000000</td>\n",
       "      <td>0.833333</td>\n",
       "      <td>1.500000</td>\n",
       "      <td>13.416667</td>\n",
       "    </tr>\n",
       "    <tr>\n",
       "      <th>Research &amp; Development</th>\n",
       "      <td>33.473684</td>\n",
       "      <td>4108.075188</td>\n",
       "      <td>8.082707</td>\n",
       "      <td>2.706767</td>\n",
       "      <td>1.872180</td>\n",
       "      <td>2.849624</td>\n",
       "      <td>10.263158</td>\n",
       "    </tr>\n",
       "    <tr>\n",
       "      <th>Sales</th>\n",
       "      <td>34.260870</td>\n",
       "      <td>5908.456522</td>\n",
       "      <td>8.760870</td>\n",
       "      <td>3.304348</td>\n",
       "      <td>2.195652</td>\n",
       "      <td>3.032609</td>\n",
       "      <td>10.804348</td>\n",
       "    </tr>\n",
       "  </tbody>\n",
       "</table>\n",
       "</div>"
      ],
      "text/plain": [
       "                              Age  MonthlyIncome  TotalWorkingYears  \\\n",
       "Department                                                            \n",
       "Human Resources         30.083333    3715.750000           6.083333   \n",
       "Research & Development  33.473684    4108.075188           8.082707   \n",
       "Sales                   34.260870    5908.456522           8.760870   \n",
       "\n",
       "                        YearsInCurrentRole  YearsSinceLastPromotion  \\\n",
       "Department                                                            \n",
       "Human Resources                   2.000000                 0.833333   \n",
       "Research & Development            2.706767                 1.872180   \n",
       "Sales                             3.304348                 2.195652   \n",
       "\n",
       "                        YearsWithCurrManager  DistanceFromHome  \n",
       "Department                                                      \n",
       "Human Resources                     1.500000         13.416667  \n",
       "Research & Development              2.849624         10.263158  \n",
       "Sales                               3.032609         10.804348  "
      ]
     },
     "execution_count": 26,
     "metadata": {},
     "output_type": "execute_result"
    }
   ],
   "source": [
    "data[numbers+ ['Department'] ].loc[data.Attrition==1].groupby('Department').mean()"
   ]
  },
  {
   "cell_type": "code",
   "execution_count": 27,
   "id": "30e9f80b",
   "metadata": {
    "colab": {
     "base_uri": "https://localhost:8080/",
     "height": 175
    },
    "id": "30e9f80b",
    "outputId": "447adae4-3bbe-4ad5-d24b-1c22470cd1bd"
   },
   "outputs": [
    {
     "data": {
      "text/html": [
       "<div>\n",
       "<style scoped>\n",
       "    .dataframe tbody tr th:only-of-type {\n",
       "        vertical-align: middle;\n",
       "    }\n",
       "\n",
       "    .dataframe tbody tr th {\n",
       "        vertical-align: top;\n",
       "    }\n",
       "\n",
       "    .dataframe thead th {\n",
       "        text-align: right;\n",
       "    }\n",
       "</style>\n",
       "<table border=\"1\" class=\"dataframe\">\n",
       "  <thead>\n",
       "    <tr style=\"text-align: right;\">\n",
       "      <th>Attrition</th>\n",
       "      <th>0</th>\n",
       "      <th>1</th>\n",
       "    </tr>\n",
       "    <tr>\n",
       "      <th>Department</th>\n",
       "      <th></th>\n",
       "      <th></th>\n",
       "    </tr>\n",
       "  </thead>\n",
       "  <tbody>\n",
       "    <tr>\n",
       "      <th>Human Resources</th>\n",
       "      <td>51</td>\n",
       "      <td>12</td>\n",
       "    </tr>\n",
       "    <tr>\n",
       "      <th>Research &amp; Development</th>\n",
       "      <td>828</td>\n",
       "      <td>133</td>\n",
       "    </tr>\n",
       "    <tr>\n",
       "      <th>Sales</th>\n",
       "      <td>354</td>\n",
       "      <td>92</td>\n",
       "    </tr>\n",
       "  </tbody>\n",
       "</table>\n",
       "</div>"
      ],
      "text/plain": [
       "Attrition                 0    1\n",
       "Department                      \n",
       "Human Resources          51   12\n",
       "Research & Development  828  133\n",
       "Sales                   354   92"
      ]
     },
     "execution_count": 27,
     "metadata": {},
     "output_type": "execute_result"
    }
   ],
   "source": [
    "table_depart = pd.crosstab(data.Department,columns= data.Attrition)              ###########Total Frequency count######\n",
    "table_depart"
   ]
  },
  {
   "cell_type": "code",
   "execution_count": 28,
   "id": "930fb1b3",
   "metadata": {
    "colab": {
     "base_uri": "https://localhost:8080/",
     "height": 175
    },
    "id": "930fb1b3",
    "outputId": "a84b7a8a-63c0-40b3-a4c2-617d740dc319"
   },
   "outputs": [
    {
     "data": {
      "text/html": [
       "<div>\n",
       "<style scoped>\n",
       "    .dataframe tbody tr th:only-of-type {\n",
       "        vertical-align: middle;\n",
       "    }\n",
       "\n",
       "    .dataframe tbody tr th {\n",
       "        vertical-align: top;\n",
       "    }\n",
       "\n",
       "    .dataframe thead th {\n",
       "        text-align: right;\n",
       "    }\n",
       "</style>\n",
       "<table border=\"1\" class=\"dataframe\">\n",
       "  <thead>\n",
       "    <tr style=\"text-align: right;\">\n",
       "      <th>Attrition</th>\n",
       "      <th>0</th>\n",
       "      <th>1</th>\n",
       "    </tr>\n",
       "    <tr>\n",
       "      <th>Department</th>\n",
       "      <th></th>\n",
       "      <th></th>\n",
       "    </tr>\n",
       "  </thead>\n",
       "  <tbody>\n",
       "    <tr>\n",
       "      <th>Human Resources</th>\n",
       "      <td>3.469388</td>\n",
       "      <td>0.816327</td>\n",
       "    </tr>\n",
       "    <tr>\n",
       "      <th>Research &amp; Development</th>\n",
       "      <td>56.326531</td>\n",
       "      <td>9.047619</td>\n",
       "    </tr>\n",
       "    <tr>\n",
       "      <th>Sales</th>\n",
       "      <td>24.081633</td>\n",
       "      <td>6.258503</td>\n",
       "    </tr>\n",
       "  </tbody>\n",
       "</table>\n",
       "</div>"
      ],
      "text/plain": [
       "Attrition                       0         1\n",
       "Department                                 \n",
       "Human Resources          3.469388  0.816327\n",
       "Research & Development  56.326531  9.047619\n",
       "Sales                   24.081633  6.258503"
      ]
     },
     "execution_count": 28,
     "metadata": {},
     "output_type": "execute_result"
    }
   ],
   "source": [
    "table_depart/n * 100               #joint Percentage of attrition in department"
   ]
  },
  {
   "cell_type": "code",
   "execution_count": 29,
   "id": "dada606b",
   "metadata": {
    "colab": {
     "base_uri": "https://localhost:8080/"
    },
    "id": "dada606b",
    "outputId": "5dc94be5-666f-4be2-fbc4-b4572e236a90"
   },
   "outputs": [
    {
     "data": {
      "text/plain": [
       "Department\n",
       "Human Resources            63\n",
       "Research & Development    961\n",
       "Sales                     446\n",
       "dtype: int64"
      ]
     },
     "execution_count": 29,
     "metadata": {},
     "output_type": "execute_result"
    }
   ],
   "source": [
    "rowtotal_depart = table_depart.sum(axis = 1)\n",
    "rowtotal_depart"
   ]
  },
  {
   "cell_type": "code",
   "execution_count": 30,
   "id": "48f31764",
   "metadata": {
    "colab": {
     "base_uri": "https://localhost:8080/"
    },
    "id": "48f31764",
    "outputId": "2e6320a9-0cc2-4c68-d976-cd89e668ad5e"
   },
   "outputs": [
    {
     "data": {
      "text/plain": [
       "Attrition\n",
       "0    1233\n",
       "1     237\n",
       "dtype: int64"
      ]
     },
     "execution_count": 30,
     "metadata": {},
     "output_type": "execute_result"
    }
   ],
   "source": [
    "coltotal_depart = table_depart.sum(axis = 0)\n",
    "coltotal_depart"
   ]
  },
  {
   "cell_type": "code",
   "execution_count": 31,
   "id": "2fa51151",
   "metadata": {
    "colab": {
     "base_uri": "https://localhost:8080/",
     "height": 175
    },
    "id": "2fa51151",
    "outputId": "49cc7474-cc5f-412f-c4ce-fdefec105c2c"
   },
   "outputs": [
    {
     "data": {
      "text/html": [
       "<div>\n",
       "<style scoped>\n",
       "    .dataframe tbody tr th:only-of-type {\n",
       "        vertical-align: middle;\n",
       "    }\n",
       "\n",
       "    .dataframe tbody tr th {\n",
       "        vertical-align: top;\n",
       "    }\n",
       "\n",
       "    .dataframe thead th {\n",
       "        text-align: right;\n",
       "    }\n",
       "</style>\n",
       "<table border=\"1\" class=\"dataframe\">\n",
       "  <thead>\n",
       "    <tr style=\"text-align: right;\">\n",
       "      <th>Attrition</th>\n",
       "      <th>0</th>\n",
       "      <th>1</th>\n",
       "    </tr>\n",
       "    <tr>\n",
       "      <th>Department</th>\n",
       "      <th></th>\n",
       "      <th></th>\n",
       "    </tr>\n",
       "  </thead>\n",
       "  <tbody>\n",
       "    <tr>\n",
       "      <th>Human Resources</th>\n",
       "      <td>0.809524</td>\n",
       "      <td>0.190476</td>\n",
       "    </tr>\n",
       "    <tr>\n",
       "      <th>Research &amp; Development</th>\n",
       "      <td>0.861602</td>\n",
       "      <td>0.138398</td>\n",
       "    </tr>\n",
       "    <tr>\n",
       "      <th>Sales</th>\n",
       "      <td>0.793722</td>\n",
       "      <td>0.206278</td>\n",
       "    </tr>\n",
       "  </tbody>\n",
       "</table>\n",
       "</div>"
      ],
      "text/plain": [
       "Attrition                      0         1\n",
       "Department                                \n",
       "Human Resources         0.809524  0.190476\n",
       "Research & Development  0.861602  0.138398\n",
       "Sales                   0.793722  0.206278"
      ]
     },
     "execution_count": 31,
     "metadata": {},
     "output_type": "execute_result"
    }
   ],
   "source": [
    "table_depart.div(rowtotal_depart,axis = 0)  #for given department"
   ]
  },
  {
   "cell_type": "code",
   "execution_count": 32,
   "id": "23709564",
   "metadata": {
    "colab": {
     "base_uri": "https://localhost:8080/",
     "height": 175
    },
    "id": "23709564",
    "outputId": "57125b5a-89dc-4e2d-f4d3-9f72d194aee7"
   },
   "outputs": [
    {
     "data": {
      "text/html": [
       "<div>\n",
       "<style scoped>\n",
       "    .dataframe tbody tr th:only-of-type {\n",
       "        vertical-align: middle;\n",
       "    }\n",
       "\n",
       "    .dataframe tbody tr th {\n",
       "        vertical-align: top;\n",
       "    }\n",
       "\n",
       "    .dataframe thead th {\n",
       "        text-align: right;\n",
       "    }\n",
       "</style>\n",
       "<table border=\"1\" class=\"dataframe\">\n",
       "  <thead>\n",
       "    <tr style=\"text-align: right;\">\n",
       "      <th>Attrition</th>\n",
       "      <th>0</th>\n",
       "      <th>1</th>\n",
       "    </tr>\n",
       "    <tr>\n",
       "      <th>Department</th>\n",
       "      <th></th>\n",
       "      <th></th>\n",
       "    </tr>\n",
       "  </thead>\n",
       "  <tbody>\n",
       "    <tr>\n",
       "      <th>Human Resources</th>\n",
       "      <td>0.041363</td>\n",
       "      <td>0.050633</td>\n",
       "    </tr>\n",
       "    <tr>\n",
       "      <th>Research &amp; Development</th>\n",
       "      <td>0.671533</td>\n",
       "      <td>0.561181</td>\n",
       "    </tr>\n",
       "    <tr>\n",
       "      <th>Sales</th>\n",
       "      <td>0.287105</td>\n",
       "      <td>0.388186</td>\n",
       "    </tr>\n",
       "  </tbody>\n",
       "</table>\n",
       "</div>"
      ],
      "text/plain": [
       "Attrition                      0         1\n",
       "Department                                \n",
       "Human Resources         0.041363  0.050633\n",
       "Research & Development  0.671533  0.561181\n",
       "Sales                   0.287105  0.388186"
      ]
     },
     "execution_count": 32,
     "metadata": {},
     "output_type": "execute_result"
    }
   ],
   "source": [
    "table_depart.div(coltotal_depart,axis = 1) # for given attrition"
   ]
  },
  {
   "cell_type": "markdown",
   "id": "ffc7e20f",
   "metadata": {
    "id": "ffc7e20f"
   },
   "source": [
    "# ---------------------------EducationField---------------------------"
   ]
  },
  {
   "cell_type": "code",
   "execution_count": 33,
   "id": "dcb7e0c5",
   "metadata": {
    "colab": {
     "base_uri": "https://localhost:8080/",
     "height": 269
    },
    "id": "dcb7e0c5",
    "outputId": "b5f4c344-80d7-4591-feab-8728071ff6d8"
   },
   "outputs": [
    {
     "data": {
      "text/html": [
       "<div>\n",
       "<style scoped>\n",
       "    .dataframe tbody tr th:only-of-type {\n",
       "        vertical-align: middle;\n",
       "    }\n",
       "\n",
       "    .dataframe tbody tr th {\n",
       "        vertical-align: top;\n",
       "    }\n",
       "\n",
       "    .dataframe thead th {\n",
       "        text-align: right;\n",
       "    }\n",
       "</style>\n",
       "<table border=\"1\" class=\"dataframe\">\n",
       "  <thead>\n",
       "    <tr style=\"text-align: right;\">\n",
       "      <th></th>\n",
       "      <th>Age</th>\n",
       "      <th>MonthlyIncome</th>\n",
       "      <th>TotalWorkingYears</th>\n",
       "      <th>YearsInCurrentRole</th>\n",
       "      <th>YearsSinceLastPromotion</th>\n",
       "      <th>YearsWithCurrManager</th>\n",
       "      <th>DistanceFromHome</th>\n",
       "    </tr>\n",
       "    <tr>\n",
       "      <th>EducationField</th>\n",
       "      <th></th>\n",
       "      <th></th>\n",
       "      <th></th>\n",
       "      <th></th>\n",
       "      <th></th>\n",
       "      <th></th>\n",
       "      <th></th>\n",
       "    </tr>\n",
       "  </thead>\n",
       "  <tbody>\n",
       "    <tr>\n",
       "      <th>Human Resources</th>\n",
       "      <td>39.400000</td>\n",
       "      <td>8579.950000</td>\n",
       "      <td>14.050000</td>\n",
       "      <td>4.400000</td>\n",
       "      <td>2.050000</td>\n",
       "      <td>4.250000</td>\n",
       "      <td>6.600000</td>\n",
       "    </tr>\n",
       "    <tr>\n",
       "      <th>Life Sciences</th>\n",
       "      <td>37.553191</td>\n",
       "      <td>6775.437137</td>\n",
       "      <td>11.725338</td>\n",
       "      <td>4.584139</td>\n",
       "      <td>2.168279</td>\n",
       "      <td>4.353965</td>\n",
       "      <td>8.754352</td>\n",
       "    </tr>\n",
       "    <tr>\n",
       "      <th>Marketing</th>\n",
       "      <td>38.919355</td>\n",
       "      <td>7569.774194</td>\n",
       "      <td>12.758065</td>\n",
       "      <td>4.814516</td>\n",
       "      <td>2.435484</td>\n",
       "      <td>4.919355</td>\n",
       "      <td>9.451613</td>\n",
       "    </tr>\n",
       "    <tr>\n",
       "      <th>Medical</th>\n",
       "      <td>37.379052</td>\n",
       "      <td>6800.805486</td>\n",
       "      <td>12.027431</td>\n",
       "      <td>4.269327</td>\n",
       "      <td>2.341646</td>\n",
       "      <td>4.244389</td>\n",
       "      <td>9.087282</td>\n",
       "    </tr>\n",
       "    <tr>\n",
       "      <th>Other</th>\n",
       "      <td>35.830986</td>\n",
       "      <td>6422.704225</td>\n",
       "      <td>10.929577</td>\n",
       "      <td>4.084507</td>\n",
       "      <td>1.619718</td>\n",
       "      <td>4.098592</td>\n",
       "      <td>8.661972</td>\n",
       "    </tr>\n",
       "    <tr>\n",
       "      <th>Technical Degree</th>\n",
       "      <td>37.510000</td>\n",
       "      <td>6284.810000</td>\n",
       "      <td>11.030000</td>\n",
       "      <td>4.720000</td>\n",
       "      <td>2.370000</td>\n",
       "      <td>4.460000</td>\n",
       "      <td>9.040000</td>\n",
       "    </tr>\n",
       "  </tbody>\n",
       "</table>\n",
       "</div>"
      ],
      "text/plain": [
       "                        Age  MonthlyIncome  TotalWorkingYears  \\\n",
       "EducationField                                                  \n",
       "Human Resources   39.400000    8579.950000          14.050000   \n",
       "Life Sciences     37.553191    6775.437137          11.725338   \n",
       "Marketing         38.919355    7569.774194          12.758065   \n",
       "Medical           37.379052    6800.805486          12.027431   \n",
       "Other             35.830986    6422.704225          10.929577   \n",
       "Technical Degree  37.510000    6284.810000          11.030000   \n",
       "\n",
       "                  YearsInCurrentRole  YearsSinceLastPromotion  \\\n",
       "EducationField                                                  \n",
       "Human Resources             4.400000                 2.050000   \n",
       "Life Sciences               4.584139                 2.168279   \n",
       "Marketing                   4.814516                 2.435484   \n",
       "Medical                     4.269327                 2.341646   \n",
       "Other                       4.084507                 1.619718   \n",
       "Technical Degree            4.720000                 2.370000   \n",
       "\n",
       "                  YearsWithCurrManager  DistanceFromHome  \n",
       "EducationField                                            \n",
       "Human Resources               4.250000          6.600000  \n",
       "Life Sciences                 4.353965          8.754352  \n",
       "Marketing                     4.919355          9.451613  \n",
       "Medical                       4.244389          9.087282  \n",
       "Other                         4.098592          8.661972  \n",
       "Technical Degree              4.460000          9.040000  "
      ]
     },
     "execution_count": 33,
     "metadata": {},
     "output_type": "execute_result"
    }
   ],
   "source": [
    "data[numbers+ ['EducationField'] ].loc[data.Attrition==0].groupby('EducationField').mean()"
   ]
  },
  {
   "cell_type": "code",
   "execution_count": 34,
   "id": "9qUD7rlpoy5S",
   "metadata": {
    "colab": {
     "base_uri": "https://localhost:8080/",
     "height": 269
    },
    "id": "9qUD7rlpoy5S",
    "outputId": "1e5762ee-4fc8-421c-beea-6cbe2f33fabb"
   },
   "outputs": [
    {
     "data": {
      "text/html": [
       "<div>\n",
       "<style scoped>\n",
       "    .dataframe tbody tr th:only-of-type {\n",
       "        vertical-align: middle;\n",
       "    }\n",
       "\n",
       "    .dataframe tbody tr th {\n",
       "        vertical-align: top;\n",
       "    }\n",
       "\n",
       "    .dataframe thead th {\n",
       "        text-align: right;\n",
       "    }\n",
       "</style>\n",
       "<table border=\"1\" class=\"dataframe\">\n",
       "  <thead>\n",
       "    <tr style=\"text-align: right;\">\n",
       "      <th></th>\n",
       "      <th>Age</th>\n",
       "      <th>MonthlyIncome</th>\n",
       "      <th>TotalWorkingYears</th>\n",
       "      <th>YearsInCurrentRole</th>\n",
       "      <th>YearsSinceLastPromotion</th>\n",
       "      <th>YearsWithCurrManager</th>\n",
       "      <th>DistanceFromHome</th>\n",
       "    </tr>\n",
       "    <tr>\n",
       "      <th>EducationField</th>\n",
       "      <th></th>\n",
       "      <th></th>\n",
       "      <th></th>\n",
       "      <th></th>\n",
       "      <th></th>\n",
       "      <th></th>\n",
       "      <th></th>\n",
       "    </tr>\n",
       "  </thead>\n",
       "  <tbody>\n",
       "    <tr>\n",
       "      <th>Human Resources</th>\n",
       "      <td>30.285714</td>\n",
       "      <td>3416.000000</td>\n",
       "      <td>4.571429</td>\n",
       "      <td>1.142857</td>\n",
       "      <td>0.428571</td>\n",
       "      <td>0.857143</td>\n",
       "      <td>16.000000</td>\n",
       "    </tr>\n",
       "    <tr>\n",
       "      <th>Life Sciences</th>\n",
       "      <td>34.516854</td>\n",
       "      <td>4650.022472</td>\n",
       "      <td>8.460674</td>\n",
       "      <td>2.707865</td>\n",
       "      <td>2.235955</td>\n",
       "      <td>2.887640</td>\n",
       "      <td>10.123596</td>\n",
       "    </tr>\n",
       "    <tr>\n",
       "      <th>Marketing</th>\n",
       "      <td>34.400000</td>\n",
       "      <td>6564.942857</td>\n",
       "      <td>8.657143</td>\n",
       "      <td>3.342857</td>\n",
       "      <td>1.571429</td>\n",
       "      <td>2.857143</td>\n",
       "      <td>12.428571</td>\n",
       "    </tr>\n",
       "    <tr>\n",
       "      <th>Medical</th>\n",
       "      <td>33.396825</td>\n",
       "      <td>4659.269841</td>\n",
       "      <td>8.619048</td>\n",
       "      <td>2.936508</td>\n",
       "      <td>2.000000</td>\n",
       "      <td>2.904762</td>\n",
       "      <td>11.047619</td>\n",
       "    </tr>\n",
       "    <tr>\n",
       "      <th>Other</th>\n",
       "      <td>32.363636</td>\n",
       "      <td>3805.000000</td>\n",
       "      <td>6.636364</td>\n",
       "      <td>3.272727</td>\n",
       "      <td>1.909091</td>\n",
       "      <td>3.000000</td>\n",
       "      <td>10.636364</td>\n",
       "    </tr>\n",
       "    <tr>\n",
       "      <th>Technical Degree</th>\n",
       "      <td>31.781250</td>\n",
       "      <td>4112.968750</td>\n",
       "      <td>7.812500</td>\n",
       "      <td>3.156250</td>\n",
       "      <td>1.781250</td>\n",
       "      <td>3.031250</td>\n",
       "      <td>8.093750</td>\n",
       "    </tr>\n",
       "  </tbody>\n",
       "</table>\n",
       "</div>"
      ],
      "text/plain": [
       "                        Age  MonthlyIncome  TotalWorkingYears  \\\n",
       "EducationField                                                  \n",
       "Human Resources   30.285714    3416.000000           4.571429   \n",
       "Life Sciences     34.516854    4650.022472           8.460674   \n",
       "Marketing         34.400000    6564.942857           8.657143   \n",
       "Medical           33.396825    4659.269841           8.619048   \n",
       "Other             32.363636    3805.000000           6.636364   \n",
       "Technical Degree  31.781250    4112.968750           7.812500   \n",
       "\n",
       "                  YearsInCurrentRole  YearsSinceLastPromotion  \\\n",
       "EducationField                                                  \n",
       "Human Resources             1.142857                 0.428571   \n",
       "Life Sciences               2.707865                 2.235955   \n",
       "Marketing                   3.342857                 1.571429   \n",
       "Medical                     2.936508                 2.000000   \n",
       "Other                       3.272727                 1.909091   \n",
       "Technical Degree            3.156250                 1.781250   \n",
       "\n",
       "                  YearsWithCurrManager  DistanceFromHome  \n",
       "EducationField                                            \n",
       "Human Resources               0.857143         16.000000  \n",
       "Life Sciences                 2.887640         10.123596  \n",
       "Marketing                     2.857143         12.428571  \n",
       "Medical                       2.904762         11.047619  \n",
       "Other                         3.000000         10.636364  \n",
       "Technical Degree              3.031250          8.093750  "
      ]
     },
     "execution_count": 34,
     "metadata": {},
     "output_type": "execute_result"
    }
   ],
   "source": [
    "data[numbers+ ['EducationField'] ].loc[data.Attrition==1].groupby('EducationField').mean()"
   ]
  },
  {
   "cell_type": "code",
   "execution_count": 35,
   "id": "fee427aa",
   "metadata": {
    "colab": {
     "base_uri": "https://localhost:8080/",
     "height": 269
    },
    "id": "fee427aa",
    "outputId": "99fd50f7-342c-438d-e9e4-12652ad05d16"
   },
   "outputs": [
    {
     "data": {
      "text/html": [
       "<div>\n",
       "<style scoped>\n",
       "    .dataframe tbody tr th:only-of-type {\n",
       "        vertical-align: middle;\n",
       "    }\n",
       "\n",
       "    .dataframe tbody tr th {\n",
       "        vertical-align: top;\n",
       "    }\n",
       "\n",
       "    .dataframe thead th {\n",
       "        text-align: right;\n",
       "    }\n",
       "</style>\n",
       "<table border=\"1\" class=\"dataframe\">\n",
       "  <thead>\n",
       "    <tr style=\"text-align: right;\">\n",
       "      <th>Attrition</th>\n",
       "      <th>0</th>\n",
       "      <th>1</th>\n",
       "    </tr>\n",
       "    <tr>\n",
       "      <th>EducationField</th>\n",
       "      <th></th>\n",
       "      <th></th>\n",
       "    </tr>\n",
       "  </thead>\n",
       "  <tbody>\n",
       "    <tr>\n",
       "      <th>Human Resources</th>\n",
       "      <td>20</td>\n",
       "      <td>7</td>\n",
       "    </tr>\n",
       "    <tr>\n",
       "      <th>Life Sciences</th>\n",
       "      <td>517</td>\n",
       "      <td>89</td>\n",
       "    </tr>\n",
       "    <tr>\n",
       "      <th>Marketing</th>\n",
       "      <td>124</td>\n",
       "      <td>35</td>\n",
       "    </tr>\n",
       "    <tr>\n",
       "      <th>Medical</th>\n",
       "      <td>401</td>\n",
       "      <td>63</td>\n",
       "    </tr>\n",
       "    <tr>\n",
       "      <th>Other</th>\n",
       "      <td>71</td>\n",
       "      <td>11</td>\n",
       "    </tr>\n",
       "    <tr>\n",
       "      <th>Technical Degree</th>\n",
       "      <td>100</td>\n",
       "      <td>32</td>\n",
       "    </tr>\n",
       "  </tbody>\n",
       "</table>\n",
       "</div>"
      ],
      "text/plain": [
       "Attrition           0   1\n",
       "EducationField           \n",
       "Human Resources    20   7\n",
       "Life Sciences     517  89\n",
       "Marketing         124  35\n",
       "Medical           401  63\n",
       "Other              71  11\n",
       "Technical Degree  100  32"
      ]
     },
     "execution_count": 35,
     "metadata": {},
     "output_type": "execute_result"
    }
   ],
   "source": [
    "table_education  = pd.crosstab(data.EducationField,columns= data.Attrition)\n",
    "table_education"
   ]
  },
  {
   "cell_type": "code",
   "execution_count": 36,
   "id": "07c6e906",
   "metadata": {
    "colab": {
     "base_uri": "https://localhost:8080/",
     "height": 269
    },
    "id": "07c6e906",
    "outputId": "c5df3433-8720-49a0-c3e2-10f6bb7e7a9d"
   },
   "outputs": [
    {
     "data": {
      "text/html": [
       "<div>\n",
       "<style scoped>\n",
       "    .dataframe tbody tr th:only-of-type {\n",
       "        vertical-align: middle;\n",
       "    }\n",
       "\n",
       "    .dataframe tbody tr th {\n",
       "        vertical-align: top;\n",
       "    }\n",
       "\n",
       "    .dataframe thead th {\n",
       "        text-align: right;\n",
       "    }\n",
       "</style>\n",
       "<table border=\"1\" class=\"dataframe\">\n",
       "  <thead>\n",
       "    <tr style=\"text-align: right;\">\n",
       "      <th>Attrition</th>\n",
       "      <th>0</th>\n",
       "      <th>1</th>\n",
       "    </tr>\n",
       "    <tr>\n",
       "      <th>EducationField</th>\n",
       "      <th></th>\n",
       "      <th></th>\n",
       "    </tr>\n",
       "  </thead>\n",
       "  <tbody>\n",
       "    <tr>\n",
       "      <th>Human Resources</th>\n",
       "      <td>1.360544</td>\n",
       "      <td>0.476190</td>\n",
       "    </tr>\n",
       "    <tr>\n",
       "      <th>Life Sciences</th>\n",
       "      <td>35.170068</td>\n",
       "      <td>6.054422</td>\n",
       "    </tr>\n",
       "    <tr>\n",
       "      <th>Marketing</th>\n",
       "      <td>8.435374</td>\n",
       "      <td>2.380952</td>\n",
       "    </tr>\n",
       "    <tr>\n",
       "      <th>Medical</th>\n",
       "      <td>27.278912</td>\n",
       "      <td>4.285714</td>\n",
       "    </tr>\n",
       "    <tr>\n",
       "      <th>Other</th>\n",
       "      <td>4.829932</td>\n",
       "      <td>0.748299</td>\n",
       "    </tr>\n",
       "    <tr>\n",
       "      <th>Technical Degree</th>\n",
       "      <td>6.802721</td>\n",
       "      <td>2.176871</td>\n",
       "    </tr>\n",
       "  </tbody>\n",
       "</table>\n",
       "</div>"
      ],
      "text/plain": [
       "Attrition                 0         1\n",
       "EducationField                       \n",
       "Human Resources    1.360544  0.476190\n",
       "Life Sciences     35.170068  6.054422\n",
       "Marketing          8.435374  2.380952\n",
       "Medical           27.278912  4.285714\n",
       "Other              4.829932  0.748299\n",
       "Technical Degree   6.802721  2.176871"
      ]
     },
     "execution_count": 36,
     "metadata": {},
     "output_type": "execute_result"
    }
   ],
   "source": [
    "table_education /n * 100               #joint percentage "
   ]
  },
  {
   "cell_type": "code",
   "execution_count": 37,
   "id": "0ebd153f",
   "metadata": {
    "colab": {
     "base_uri": "https://localhost:8080/"
    },
    "id": "0ebd153f",
    "outputId": "9b609eba-c3fc-4226-9eec-5c265f70b494"
   },
   "outputs": [
    {
     "data": {
      "text/plain": [
       "EducationField\n",
       "Human Resources      27\n",
       "Life Sciences       606\n",
       "Marketing           159\n",
       "Medical             464\n",
       "Other                82\n",
       "Technical Degree    132\n",
       "dtype: int64"
      ]
     },
     "execution_count": 37,
     "metadata": {},
     "output_type": "execute_result"
    }
   ],
   "source": [
    "rowtotal_education = table_education.sum(axis = 1)\n",
    "rowtotal_education "
   ]
  },
  {
   "cell_type": "code",
   "execution_count": 38,
   "id": "979b70a8",
   "metadata": {
    "colab": {
     "base_uri": "https://localhost:8080/"
    },
    "id": "979b70a8",
    "outputId": "81bc187e-3953-4f41-d44e-1c188c87a2ee"
   },
   "outputs": [
    {
     "data": {
      "text/plain": [
       "Attrition\n",
       "0    1233\n",
       "1     237\n",
       "dtype: int64"
      ]
     },
     "execution_count": 38,
     "metadata": {},
     "output_type": "execute_result"
    }
   ],
   "source": [
    "coltotal_education = table_education.sum(axis = 0)\n",
    "coltotal_education "
   ]
  },
  {
   "cell_type": "code",
   "execution_count": 39,
   "id": "91bea025",
   "metadata": {
    "colab": {
     "base_uri": "https://localhost:8080/",
     "height": 269
    },
    "id": "91bea025",
    "outputId": "7df91806-cd6d-4ec7-a3e8-1faa3c5f4455"
   },
   "outputs": [
    {
     "data": {
      "text/html": [
       "<div>\n",
       "<style scoped>\n",
       "    .dataframe tbody tr th:only-of-type {\n",
       "        vertical-align: middle;\n",
       "    }\n",
       "\n",
       "    .dataframe tbody tr th {\n",
       "        vertical-align: top;\n",
       "    }\n",
       "\n",
       "    .dataframe thead th {\n",
       "        text-align: right;\n",
       "    }\n",
       "</style>\n",
       "<table border=\"1\" class=\"dataframe\">\n",
       "  <thead>\n",
       "    <tr style=\"text-align: right;\">\n",
       "      <th>Attrition</th>\n",
       "      <th>0</th>\n",
       "      <th>1</th>\n",
       "    </tr>\n",
       "    <tr>\n",
       "      <th>EducationField</th>\n",
       "      <th></th>\n",
       "      <th></th>\n",
       "    </tr>\n",
       "  </thead>\n",
       "  <tbody>\n",
       "    <tr>\n",
       "      <th>Human Resources</th>\n",
       "      <td>0.740741</td>\n",
       "      <td>0.259259</td>\n",
       "    </tr>\n",
       "    <tr>\n",
       "      <th>Life Sciences</th>\n",
       "      <td>0.853135</td>\n",
       "      <td>0.146865</td>\n",
       "    </tr>\n",
       "    <tr>\n",
       "      <th>Marketing</th>\n",
       "      <td>0.779874</td>\n",
       "      <td>0.220126</td>\n",
       "    </tr>\n",
       "    <tr>\n",
       "      <th>Medical</th>\n",
       "      <td>0.864224</td>\n",
       "      <td>0.135776</td>\n",
       "    </tr>\n",
       "    <tr>\n",
       "      <th>Other</th>\n",
       "      <td>0.865854</td>\n",
       "      <td>0.134146</td>\n",
       "    </tr>\n",
       "    <tr>\n",
       "      <th>Technical Degree</th>\n",
       "      <td>0.757576</td>\n",
       "      <td>0.242424</td>\n",
       "    </tr>\n",
       "  </tbody>\n",
       "</table>\n",
       "</div>"
      ],
      "text/plain": [
       "Attrition                0         1\n",
       "EducationField                      \n",
       "Human Resources   0.740741  0.259259\n",
       "Life Sciences     0.853135  0.146865\n",
       "Marketing         0.779874  0.220126\n",
       "Medical           0.864224  0.135776\n",
       "Other             0.865854  0.134146\n",
       "Technical Degree  0.757576  0.242424"
      ]
     },
     "execution_count": 39,
     "metadata": {},
     "output_type": "execute_result"
    }
   ],
   "source": [
    "table_education.div(rowtotal_education,axis = 0)  #for given educationField"
   ]
  },
  {
   "cell_type": "code",
   "execution_count": 40,
   "id": "eb634384",
   "metadata": {
    "colab": {
     "base_uri": "https://localhost:8080/",
     "height": 269
    },
    "id": "eb634384",
    "outputId": "acd3fe58-3e7b-4985-d474-3e110bde0ef2"
   },
   "outputs": [
    {
     "data": {
      "text/html": [
       "<div>\n",
       "<style scoped>\n",
       "    .dataframe tbody tr th:only-of-type {\n",
       "        vertical-align: middle;\n",
       "    }\n",
       "\n",
       "    .dataframe tbody tr th {\n",
       "        vertical-align: top;\n",
       "    }\n",
       "\n",
       "    .dataframe thead th {\n",
       "        text-align: right;\n",
       "    }\n",
       "</style>\n",
       "<table border=\"1\" class=\"dataframe\">\n",
       "  <thead>\n",
       "    <tr style=\"text-align: right;\">\n",
       "      <th>Attrition</th>\n",
       "      <th>0</th>\n",
       "      <th>1</th>\n",
       "    </tr>\n",
       "    <tr>\n",
       "      <th>EducationField</th>\n",
       "      <th></th>\n",
       "      <th></th>\n",
       "    </tr>\n",
       "  </thead>\n",
       "  <tbody>\n",
       "    <tr>\n",
       "      <th>Human Resources</th>\n",
       "      <td>0.016221</td>\n",
       "      <td>0.029536</td>\n",
       "    </tr>\n",
       "    <tr>\n",
       "      <th>Life Sciences</th>\n",
       "      <td>0.419303</td>\n",
       "      <td>0.375527</td>\n",
       "    </tr>\n",
       "    <tr>\n",
       "      <th>Marketing</th>\n",
       "      <td>0.100568</td>\n",
       "      <td>0.147679</td>\n",
       "    </tr>\n",
       "    <tr>\n",
       "      <th>Medical</th>\n",
       "      <td>0.325223</td>\n",
       "      <td>0.265823</td>\n",
       "    </tr>\n",
       "    <tr>\n",
       "      <th>Other</th>\n",
       "      <td>0.057583</td>\n",
       "      <td>0.046414</td>\n",
       "    </tr>\n",
       "    <tr>\n",
       "      <th>Technical Degree</th>\n",
       "      <td>0.081103</td>\n",
       "      <td>0.135021</td>\n",
       "    </tr>\n",
       "  </tbody>\n",
       "</table>\n",
       "</div>"
      ],
      "text/plain": [
       "Attrition                0         1\n",
       "EducationField                      \n",
       "Human Resources   0.016221  0.029536\n",
       "Life Sciences     0.419303  0.375527\n",
       "Marketing         0.100568  0.147679\n",
       "Medical           0.325223  0.265823\n",
       "Other             0.057583  0.046414\n",
       "Technical Degree  0.081103  0.135021"
      ]
     },
     "execution_count": 40,
     "metadata": {},
     "output_type": "execute_result"
    }
   ],
   "source": [
    "table_education.div(coltotal_education,axis = 1) # for given attrition"
   ]
  },
  {
   "cell_type": "markdown",
   "id": "d9b0efe0",
   "metadata": {
    "id": "d9b0efe0"
   },
   "source": [
    "# ---------------------------Gender---------------------------"
   ]
  },
  {
   "cell_type": "code",
   "execution_count": 41,
   "id": "X_yEVGQ9o88W",
   "metadata": {
    "colab": {
     "base_uri": "https://localhost:8080/",
     "height": 143
    },
    "id": "X_yEVGQ9o88W",
    "outputId": "cffb9256-2c16-49b9-b5f1-a47af44710c4"
   },
   "outputs": [
    {
     "data": {
      "text/html": [
       "<div>\n",
       "<style scoped>\n",
       "    .dataframe tbody tr th:only-of-type {\n",
       "        vertical-align: middle;\n",
       "    }\n",
       "\n",
       "    .dataframe tbody tr th {\n",
       "        vertical-align: top;\n",
       "    }\n",
       "\n",
       "    .dataframe thead th {\n",
       "        text-align: right;\n",
       "    }\n",
       "</style>\n",
       "<table border=\"1\" class=\"dataframe\">\n",
       "  <thead>\n",
       "    <tr style=\"text-align: right;\">\n",
       "      <th></th>\n",
       "      <th>Age</th>\n",
       "      <th>MonthlyIncome</th>\n",
       "      <th>TotalWorkingYears</th>\n",
       "      <th>YearsInCurrentRole</th>\n",
       "      <th>YearsSinceLastPromotion</th>\n",
       "      <th>YearsWithCurrManager</th>\n",
       "      <th>DistanceFromHome</th>\n",
       "    </tr>\n",
       "    <tr>\n",
       "      <th>Gender</th>\n",
       "      <th></th>\n",
       "      <th></th>\n",
       "      <th></th>\n",
       "      <th></th>\n",
       "      <th></th>\n",
       "      <th></th>\n",
       "      <th></th>\n",
       "    </tr>\n",
       "  </thead>\n",
       "  <tbody>\n",
       "    <tr>\n",
       "      <th>Female</th>\n",
       "      <td>38.155689</td>\n",
       "      <td>7019.429142</td>\n",
       "      <td>12.327345</td>\n",
       "      <td>4.604790</td>\n",
       "      <td>2.339321</td>\n",
       "      <td>4.433134</td>\n",
       "      <td>8.914172</td>\n",
       "    </tr>\n",
       "    <tr>\n",
       "      <th>Male</th>\n",
       "      <td>37.154372</td>\n",
       "      <td>6704.964481</td>\n",
       "      <td>11.545082</td>\n",
       "      <td>4.401639</td>\n",
       "      <td>2.162568</td>\n",
       "      <td>4.322404</td>\n",
       "      <td>8.916667</td>\n",
       "    </tr>\n",
       "  </tbody>\n",
       "</table>\n",
       "</div>"
      ],
      "text/plain": [
       "              Age  MonthlyIncome  TotalWorkingYears  YearsInCurrentRole  \\\n",
       "Gender                                                                    \n",
       "Female  38.155689    7019.429142          12.327345            4.604790   \n",
       "Male    37.154372    6704.964481          11.545082            4.401639   \n",
       "\n",
       "        YearsSinceLastPromotion  YearsWithCurrManager  DistanceFromHome  \n",
       "Gender                                                                   \n",
       "Female                 2.339321              4.433134          8.914172  \n",
       "Male                   2.162568              4.322404          8.916667  "
      ]
     },
     "execution_count": 41,
     "metadata": {},
     "output_type": "execute_result"
    }
   ],
   "source": [
    "data[numbers+ ['Gender'] ].loc[data.Attrition==0].groupby('Gender').mean()"
   ]
  },
  {
   "cell_type": "code",
   "execution_count": 42,
   "id": "au99JaFFo_NX",
   "metadata": {
    "colab": {
     "base_uri": "https://localhost:8080/",
     "height": 143
    },
    "id": "au99JaFFo_NX",
    "outputId": "7feee24a-d15e-4f25-ceac-33b9090b4d24"
   },
   "outputs": [
    {
     "data": {
      "text/html": [
       "<div>\n",
       "<style scoped>\n",
       "    .dataframe tbody tr th:only-of-type {\n",
       "        vertical-align: middle;\n",
       "    }\n",
       "\n",
       "    .dataframe tbody tr th {\n",
       "        vertical-align: top;\n",
       "    }\n",
       "\n",
       "    .dataframe thead th {\n",
       "        text-align: right;\n",
       "    }\n",
       "</style>\n",
       "<table border=\"1\" class=\"dataframe\">\n",
       "  <thead>\n",
       "    <tr style=\"text-align: right;\">\n",
       "      <th></th>\n",
       "      <th>Age</th>\n",
       "      <th>MonthlyIncome</th>\n",
       "      <th>TotalWorkingYears</th>\n",
       "      <th>YearsInCurrentRole</th>\n",
       "      <th>YearsSinceLastPromotion</th>\n",
       "      <th>YearsWithCurrManager</th>\n",
       "      <th>DistanceFromHome</th>\n",
       "    </tr>\n",
       "    <tr>\n",
       "      <th>Gender</th>\n",
       "      <th></th>\n",
       "      <th></th>\n",
       "      <th></th>\n",
       "      <th></th>\n",
       "      <th></th>\n",
       "      <th></th>\n",
       "      <th></th>\n",
       "    </tr>\n",
       "  </thead>\n",
       "  <tbody>\n",
       "    <tr>\n",
       "      <th>Female</th>\n",
       "      <td>32.574713</td>\n",
       "      <td>4769.735632</td>\n",
       "      <td>8.264368</td>\n",
       "      <td>3.310345</td>\n",
       "      <td>2.034483</td>\n",
       "      <td>3.241379</td>\n",
       "      <td>10.919540</td>\n",
       "    </tr>\n",
       "    <tr>\n",
       "      <th>Male</th>\n",
       "      <td>34.206667</td>\n",
       "      <td>4797.160000</td>\n",
       "      <td>8.233333</td>\n",
       "      <td>2.666667</td>\n",
       "      <td>1.893333</td>\n",
       "      <td>2.626667</td>\n",
       "      <td>10.466667</td>\n",
       "    </tr>\n",
       "  </tbody>\n",
       "</table>\n",
       "</div>"
      ],
      "text/plain": [
       "              Age  MonthlyIncome  TotalWorkingYears  YearsInCurrentRole  \\\n",
       "Gender                                                                    \n",
       "Female  32.574713    4769.735632           8.264368            3.310345   \n",
       "Male    34.206667    4797.160000           8.233333            2.666667   \n",
       "\n",
       "        YearsSinceLastPromotion  YearsWithCurrManager  DistanceFromHome  \n",
       "Gender                                                                   \n",
       "Female                 2.034483              3.241379         10.919540  \n",
       "Male                   1.893333              2.626667         10.466667  "
      ]
     },
     "execution_count": 42,
     "metadata": {},
     "output_type": "execute_result"
    }
   ],
   "source": [
    "data[numbers+ ['Gender'] ].loc[data.Attrition==1].groupby('Gender').mean()"
   ]
  },
  {
   "cell_type": "code",
   "execution_count": 43,
   "id": "41bef462",
   "metadata": {
    "colab": {
     "base_uri": "https://localhost:8080/",
     "height": 143
    },
    "id": "41bef462",
    "outputId": "a29210dc-3192-46bf-9bb6-dee280f6f080"
   },
   "outputs": [
    {
     "data": {
      "text/html": [
       "<div>\n",
       "<style scoped>\n",
       "    .dataframe tbody tr th:only-of-type {\n",
       "        vertical-align: middle;\n",
       "    }\n",
       "\n",
       "    .dataframe tbody tr th {\n",
       "        vertical-align: top;\n",
       "    }\n",
       "\n",
       "    .dataframe thead th {\n",
       "        text-align: right;\n",
       "    }\n",
       "</style>\n",
       "<table border=\"1\" class=\"dataframe\">\n",
       "  <thead>\n",
       "    <tr style=\"text-align: right;\">\n",
       "      <th>Attrition</th>\n",
       "      <th>0</th>\n",
       "      <th>1</th>\n",
       "    </tr>\n",
       "    <tr>\n",
       "      <th>Gender</th>\n",
       "      <th></th>\n",
       "      <th></th>\n",
       "    </tr>\n",
       "  </thead>\n",
       "  <tbody>\n",
       "    <tr>\n",
       "      <th>Female</th>\n",
       "      <td>501</td>\n",
       "      <td>87</td>\n",
       "    </tr>\n",
       "    <tr>\n",
       "      <th>Male</th>\n",
       "      <td>732</td>\n",
       "      <td>150</td>\n",
       "    </tr>\n",
       "  </tbody>\n",
       "</table>\n",
       "</div>"
      ],
      "text/plain": [
       "Attrition    0    1\n",
       "Gender             \n",
       "Female     501   87\n",
       "Male       732  150"
      ]
     },
     "execution_count": 43,
     "metadata": {},
     "output_type": "execute_result"
    }
   ],
   "source": [
    "table_gender  = pd.crosstab(data.Gender,columns= data.Attrition)\n",
    "table_gender"
   ]
  },
  {
   "cell_type": "code",
   "execution_count": 44,
   "id": "af4ce3c5",
   "metadata": {
    "colab": {
     "base_uri": "https://localhost:8080/",
     "height": 143
    },
    "id": "af4ce3c5",
    "outputId": "3e59d2a7-1884-40cd-f362-15651c50e948"
   },
   "outputs": [
    {
     "data": {
      "text/html": [
       "<div>\n",
       "<style scoped>\n",
       "    .dataframe tbody tr th:only-of-type {\n",
       "        vertical-align: middle;\n",
       "    }\n",
       "\n",
       "    .dataframe tbody tr th {\n",
       "        vertical-align: top;\n",
       "    }\n",
       "\n",
       "    .dataframe thead th {\n",
       "        text-align: right;\n",
       "    }\n",
       "</style>\n",
       "<table border=\"1\" class=\"dataframe\">\n",
       "  <thead>\n",
       "    <tr style=\"text-align: right;\">\n",
       "      <th>Attrition</th>\n",
       "      <th>0</th>\n",
       "      <th>1</th>\n",
       "    </tr>\n",
       "    <tr>\n",
       "      <th>Gender</th>\n",
       "      <th></th>\n",
       "      <th></th>\n",
       "    </tr>\n",
       "  </thead>\n",
       "  <tbody>\n",
       "    <tr>\n",
       "      <th>Female</th>\n",
       "      <td>0.340816</td>\n",
       "      <td>0.059184</td>\n",
       "    </tr>\n",
       "    <tr>\n",
       "      <th>Male</th>\n",
       "      <td>0.497959</td>\n",
       "      <td>0.102041</td>\n",
       "    </tr>\n",
       "  </tbody>\n",
       "</table>\n",
       "</div>"
      ],
      "text/plain": [
       "Attrition         0         1\n",
       "Gender                       \n",
       "Female     0.340816  0.059184\n",
       "Male       0.497959  0.102041"
      ]
     },
     "execution_count": 44,
     "metadata": {},
     "output_type": "execute_result"
    }
   ],
   "source": [
    "table_gender/n \n",
    "\n",
    "#joint probability"
   ]
  },
  {
   "cell_type": "code",
   "execution_count": 45,
   "id": "04291ca9",
   "metadata": {
    "colab": {
     "base_uri": "https://localhost:8080/"
    },
    "id": "04291ca9",
    "outputId": "6f23aa6c-3b24-440c-b66b-0214d2375140"
   },
   "outputs": [
    {
     "data": {
      "text/plain": [
       "Gender\n",
       "Female    588\n",
       "Male      882\n",
       "dtype: int64"
      ]
     },
     "execution_count": 45,
     "metadata": {},
     "output_type": "execute_result"
    }
   ],
   "source": [
    "rowtotal_gender = table_gender.sum(axis = 1)\n",
    "rowtotal_gender  "
   ]
  },
  {
   "cell_type": "code",
   "execution_count": 46,
   "id": "4867e6e4",
   "metadata": {
    "colab": {
     "base_uri": "https://localhost:8080/"
    },
    "id": "4867e6e4",
    "outputId": "e6ea4aca-bee1-4360-bd7b-57a72cabb51f"
   },
   "outputs": [
    {
     "data": {
      "text/plain": [
       "Attrition\n",
       "0    1233\n",
       "1     237\n",
       "dtype: int64"
      ]
     },
     "execution_count": 46,
     "metadata": {},
     "output_type": "execute_result"
    }
   ],
   "source": [
    "coltotal_gender = table_gender.sum(axis = 0)\n",
    "coltotal_gender  "
   ]
  },
  {
   "cell_type": "code",
   "execution_count": 47,
   "id": "4d376d68",
   "metadata": {
    "colab": {
     "base_uri": "https://localhost:8080/",
     "height": 143
    },
    "id": "4d376d68",
    "outputId": "73545c0c-3945-4c38-c90f-a7180588deff"
   },
   "outputs": [
    {
     "data": {
      "text/html": [
       "<div>\n",
       "<style scoped>\n",
       "    .dataframe tbody tr th:only-of-type {\n",
       "        vertical-align: middle;\n",
       "    }\n",
       "\n",
       "    .dataframe tbody tr th {\n",
       "        vertical-align: top;\n",
       "    }\n",
       "\n",
       "    .dataframe thead th {\n",
       "        text-align: right;\n",
       "    }\n",
       "</style>\n",
       "<table border=\"1\" class=\"dataframe\">\n",
       "  <thead>\n",
       "    <tr style=\"text-align: right;\">\n",
       "      <th>Attrition</th>\n",
       "      <th>0</th>\n",
       "      <th>1</th>\n",
       "    </tr>\n",
       "    <tr>\n",
       "      <th>Gender</th>\n",
       "      <th></th>\n",
       "      <th></th>\n",
       "    </tr>\n",
       "  </thead>\n",
       "  <tbody>\n",
       "    <tr>\n",
       "      <th>Female</th>\n",
       "      <td>0.852041</td>\n",
       "      <td>0.147959</td>\n",
       "    </tr>\n",
       "    <tr>\n",
       "      <th>Male</th>\n",
       "      <td>0.829932</td>\n",
       "      <td>0.170068</td>\n",
       "    </tr>\n",
       "  </tbody>\n",
       "</table>\n",
       "</div>"
      ],
      "text/plain": [
       "Attrition         0         1\n",
       "Gender                       \n",
       "Female     0.852041  0.147959\n",
       "Male       0.829932  0.170068"
      ]
     },
     "execution_count": 47,
     "metadata": {},
     "output_type": "execute_result"
    }
   ],
   "source": [
    "table_gender.div(rowtotal_gender,axis = 0)  #from given gender"
   ]
  },
  {
   "cell_type": "code",
   "execution_count": 48,
   "id": "ef7546e2",
   "metadata": {
    "colab": {
     "base_uri": "https://localhost:8080/",
     "height": 143
    },
    "id": "ef7546e2",
    "outputId": "c1599d8d-6012-4882-f9c1-3cd3c241a841"
   },
   "outputs": [
    {
     "data": {
      "text/html": [
       "<div>\n",
       "<style scoped>\n",
       "    .dataframe tbody tr th:only-of-type {\n",
       "        vertical-align: middle;\n",
       "    }\n",
       "\n",
       "    .dataframe tbody tr th {\n",
       "        vertical-align: top;\n",
       "    }\n",
       "\n",
       "    .dataframe thead th {\n",
       "        text-align: right;\n",
       "    }\n",
       "</style>\n",
       "<table border=\"1\" class=\"dataframe\">\n",
       "  <thead>\n",
       "    <tr style=\"text-align: right;\">\n",
       "      <th>Attrition</th>\n",
       "      <th>0</th>\n",
       "      <th>1</th>\n",
       "    </tr>\n",
       "    <tr>\n",
       "      <th>Gender</th>\n",
       "      <th></th>\n",
       "      <th></th>\n",
       "    </tr>\n",
       "  </thead>\n",
       "  <tbody>\n",
       "    <tr>\n",
       "      <th>Female</th>\n",
       "      <td>0.406326</td>\n",
       "      <td>0.367089</td>\n",
       "    </tr>\n",
       "    <tr>\n",
       "      <th>Male</th>\n",
       "      <td>0.593674</td>\n",
       "      <td>0.632911</td>\n",
       "    </tr>\n",
       "  </tbody>\n",
       "</table>\n",
       "</div>"
      ],
      "text/plain": [
       "Attrition         0         1\n",
       "Gender                       \n",
       "Female     0.406326  0.367089\n",
       "Male       0.593674  0.632911"
      ]
     },
     "execution_count": 48,
     "metadata": {},
     "output_type": "execute_result"
    }
   ],
   "source": [
    "table_gender.div(coltotal_gender,axis = 1)  #from given Attrition"
   ]
  },
  {
   "cell_type": "markdown",
   "id": "ef244c3c",
   "metadata": {
    "id": "ef244c3c"
   },
   "source": [
    "# ---------------------------MaritalStatus---------------------------"
   ]
  },
  {
   "cell_type": "code",
   "execution_count": 49,
   "id": "52c11faa",
   "metadata": {
    "colab": {
     "base_uri": "https://localhost:8080/",
     "height": 175
    },
    "id": "52c11faa",
    "outputId": "56e6d95c-e2cb-430d-d72c-a0ec5cfae6f9"
   },
   "outputs": [
    {
     "data": {
      "text/html": [
       "<div>\n",
       "<style scoped>\n",
       "    .dataframe tbody tr th:only-of-type {\n",
       "        vertical-align: middle;\n",
       "    }\n",
       "\n",
       "    .dataframe tbody tr th {\n",
       "        vertical-align: top;\n",
       "    }\n",
       "\n",
       "    .dataframe thead th {\n",
       "        text-align: right;\n",
       "    }\n",
       "</style>\n",
       "<table border=\"1\" class=\"dataframe\">\n",
       "  <thead>\n",
       "    <tr style=\"text-align: right;\">\n",
       "      <th></th>\n",
       "      <th>Age</th>\n",
       "      <th>MonthlyIncome</th>\n",
       "      <th>TotalWorkingYears</th>\n",
       "      <th>YearsInCurrentRole</th>\n",
       "      <th>YearsSinceLastPromotion</th>\n",
       "      <th>YearsWithCurrManager</th>\n",
       "      <th>DistanceFromHome</th>\n",
       "    </tr>\n",
       "    <tr>\n",
       "      <th>MaritalStatus</th>\n",
       "      <th></th>\n",
       "      <th></th>\n",
       "      <th></th>\n",
       "      <th></th>\n",
       "      <th></th>\n",
       "      <th></th>\n",
       "      <th></th>\n",
       "    </tr>\n",
       "  </thead>\n",
       "  <tbody>\n",
       "    <tr>\n",
       "      <th>Divorced</th>\n",
       "      <td>37.704082</td>\n",
       "      <td>7071.455782</td>\n",
       "      <td>12.153061</td>\n",
       "      <td>4.578231</td>\n",
       "      <td>2.238095</td>\n",
       "      <td>4.496599</td>\n",
       "      <td>8.925170</td>\n",
       "    </tr>\n",
       "    <tr>\n",
       "      <th>Married</th>\n",
       "      <td>38.076401</td>\n",
       "      <td>6969.779287</td>\n",
       "      <td>11.988115</td>\n",
       "      <td>4.640068</td>\n",
       "      <td>2.359932</td>\n",
       "      <td>4.361630</td>\n",
       "      <td>9.222411</td>\n",
       "    </tr>\n",
       "    <tr>\n",
       "      <th>Single</th>\n",
       "      <td>36.574286</td>\n",
       "      <td>6401.600000</td>\n",
       "      <td>11.408571</td>\n",
       "      <td>4.142857</td>\n",
       "      <td>2.020000</td>\n",
       "      <td>4.268571</td>\n",
       "      <td>8.391429</td>\n",
       "    </tr>\n",
       "  </tbody>\n",
       "</table>\n",
       "</div>"
      ],
      "text/plain": [
       "                     Age  MonthlyIncome  TotalWorkingYears  \\\n",
       "MaritalStatus                                                \n",
       "Divorced       37.704082    7071.455782          12.153061   \n",
       "Married        38.076401    6969.779287          11.988115   \n",
       "Single         36.574286    6401.600000          11.408571   \n",
       "\n",
       "               YearsInCurrentRole  YearsSinceLastPromotion  \\\n",
       "MaritalStatus                                                \n",
       "Divorced                 4.578231                 2.238095   \n",
       "Married                  4.640068                 2.359932   \n",
       "Single                   4.142857                 2.020000   \n",
       "\n",
       "               YearsWithCurrManager  DistanceFromHome  \n",
       "MaritalStatus                                          \n",
       "Divorced                   4.496599          8.925170  \n",
       "Married                    4.361630          9.222411  \n",
       "Single                     4.268571          8.391429  "
      ]
     },
     "execution_count": 49,
     "metadata": {},
     "output_type": "execute_result"
    }
   ],
   "source": [
    "data[numbers+ ['MaritalStatus'] ].loc[data.Attrition==0].groupby('MaritalStatus').mean()"
   ]
  },
  {
   "cell_type": "code",
   "execution_count": 50,
   "id": "lXwnJloqpJtS",
   "metadata": {
    "colab": {
     "base_uri": "https://localhost:8080/",
     "height": 175
    },
    "id": "lXwnJloqpJtS",
    "outputId": "4fb8531d-f212-404c-9572-6b1c7fd98044"
   },
   "outputs": [
    {
     "data": {
      "text/html": [
       "<div>\n",
       "<style scoped>\n",
       "    .dataframe tbody tr th:only-of-type {\n",
       "        vertical-align: middle;\n",
       "    }\n",
       "\n",
       "    .dataframe tbody tr th {\n",
       "        vertical-align: top;\n",
       "    }\n",
       "\n",
       "    .dataframe thead th {\n",
       "        text-align: right;\n",
       "    }\n",
       "</style>\n",
       "<table border=\"1\" class=\"dataframe\">\n",
       "  <thead>\n",
       "    <tr style=\"text-align: right;\">\n",
       "      <th></th>\n",
       "      <th>Age</th>\n",
       "      <th>MonthlyIncome</th>\n",
       "      <th>TotalWorkingYears</th>\n",
       "      <th>YearsInCurrentRole</th>\n",
       "      <th>YearsSinceLastPromotion</th>\n",
       "      <th>YearsWithCurrManager</th>\n",
       "      <th>DistanceFromHome</th>\n",
       "    </tr>\n",
       "    <tr>\n",
       "      <th>MaritalStatus</th>\n",
       "      <th></th>\n",
       "      <th></th>\n",
       "      <th></th>\n",
       "      <th></th>\n",
       "      <th></th>\n",
       "      <th></th>\n",
       "      <th></th>\n",
       "    </tr>\n",
       "  </thead>\n",
       "  <tbody>\n",
       "    <tr>\n",
       "      <th>Divorced</th>\n",
       "      <td>35.575758</td>\n",
       "      <td>4245.696970</td>\n",
       "      <td>8.727273</td>\n",
       "      <td>2.363636</td>\n",
       "      <td>1.424242</td>\n",
       "      <td>1.727273</td>\n",
       "      <td>10.757576</td>\n",
       "    </tr>\n",
       "    <tr>\n",
       "      <th>Married</th>\n",
       "      <td>35.523810</td>\n",
       "      <td>5558.821429</td>\n",
       "      <td>9.940476</td>\n",
       "      <td>3.416667</td>\n",
       "      <td>2.500000</td>\n",
       "      <td>3.476190</td>\n",
       "      <td>11.119048</td>\n",
       "    </tr>\n",
       "    <tr>\n",
       "      <th>Single</th>\n",
       "      <td>31.725000</td>\n",
       "      <td>4395.766667</td>\n",
       "      <td>6.925000</td>\n",
       "      <td>2.691667</td>\n",
       "      <td>1.700000</td>\n",
       "      <td>2.725000</td>\n",
       "      <td>10.258333</td>\n",
       "    </tr>\n",
       "  </tbody>\n",
       "</table>\n",
       "</div>"
      ],
      "text/plain": [
       "                     Age  MonthlyIncome  TotalWorkingYears  \\\n",
       "MaritalStatus                                                \n",
       "Divorced       35.575758    4245.696970           8.727273   \n",
       "Married        35.523810    5558.821429           9.940476   \n",
       "Single         31.725000    4395.766667           6.925000   \n",
       "\n",
       "               YearsInCurrentRole  YearsSinceLastPromotion  \\\n",
       "MaritalStatus                                                \n",
       "Divorced                 2.363636                 1.424242   \n",
       "Married                  3.416667                 2.500000   \n",
       "Single                   2.691667                 1.700000   \n",
       "\n",
       "               YearsWithCurrManager  DistanceFromHome  \n",
       "MaritalStatus                                          \n",
       "Divorced                   1.727273         10.757576  \n",
       "Married                    3.476190         11.119048  \n",
       "Single                     2.725000         10.258333  "
      ]
     },
     "execution_count": 50,
     "metadata": {},
     "output_type": "execute_result"
    }
   ],
   "source": [
    "data[numbers+ ['MaritalStatus'] ].loc[data.Attrition==1].groupby('MaritalStatus').mean()"
   ]
  },
  {
   "cell_type": "code",
   "execution_count": 51,
   "id": "4df3131d",
   "metadata": {
    "colab": {
     "base_uri": "https://localhost:8080/",
     "height": 175
    },
    "id": "4df3131d",
    "outputId": "f02ced22-dbf9-4de3-8a59-44cfcf8b512b"
   },
   "outputs": [
    {
     "data": {
      "text/html": [
       "<div>\n",
       "<style scoped>\n",
       "    .dataframe tbody tr th:only-of-type {\n",
       "        vertical-align: middle;\n",
       "    }\n",
       "\n",
       "    .dataframe tbody tr th {\n",
       "        vertical-align: top;\n",
       "    }\n",
       "\n",
       "    .dataframe thead th {\n",
       "        text-align: right;\n",
       "    }\n",
       "</style>\n",
       "<table border=\"1\" class=\"dataframe\">\n",
       "  <thead>\n",
       "    <tr style=\"text-align: right;\">\n",
       "      <th>Attrition</th>\n",
       "      <th>0</th>\n",
       "      <th>1</th>\n",
       "    </tr>\n",
       "    <tr>\n",
       "      <th>MaritalStatus</th>\n",
       "      <th></th>\n",
       "      <th></th>\n",
       "    </tr>\n",
       "  </thead>\n",
       "  <tbody>\n",
       "    <tr>\n",
       "      <th>Divorced</th>\n",
       "      <td>294</td>\n",
       "      <td>33</td>\n",
       "    </tr>\n",
       "    <tr>\n",
       "      <th>Married</th>\n",
       "      <td>589</td>\n",
       "      <td>84</td>\n",
       "    </tr>\n",
       "    <tr>\n",
       "      <th>Single</th>\n",
       "      <td>350</td>\n",
       "      <td>120</td>\n",
       "    </tr>\n",
       "  </tbody>\n",
       "</table>\n",
       "</div>"
      ],
      "text/plain": [
       "Attrition        0    1\n",
       "MaritalStatus          \n",
       "Divorced       294   33\n",
       "Married        589   84\n",
       "Single         350  120"
      ]
     },
     "execution_count": 51,
     "metadata": {},
     "output_type": "execute_result"
    }
   ],
   "source": [
    "table_marstat = pd.crosstab(data.MaritalStatus,columns = data.Attrition)\n",
    "table_marstat"
   ]
  },
  {
   "cell_type": "code",
   "execution_count": 52,
   "id": "82a5a872",
   "metadata": {
    "colab": {
     "base_uri": "https://localhost:8080/",
     "height": 175
    },
    "id": "82a5a872",
    "outputId": "027aea9f-2e41-42c7-85ba-f786eeb21429"
   },
   "outputs": [
    {
     "data": {
      "text/html": [
       "<div>\n",
       "<style scoped>\n",
       "    .dataframe tbody tr th:only-of-type {\n",
       "        vertical-align: middle;\n",
       "    }\n",
       "\n",
       "    .dataframe tbody tr th {\n",
       "        vertical-align: top;\n",
       "    }\n",
       "\n",
       "    .dataframe thead th {\n",
       "        text-align: right;\n",
       "    }\n",
       "</style>\n",
       "<table border=\"1\" class=\"dataframe\">\n",
       "  <thead>\n",
       "    <tr style=\"text-align: right;\">\n",
       "      <th>Attrition</th>\n",
       "      <th>0</th>\n",
       "      <th>1</th>\n",
       "    </tr>\n",
       "    <tr>\n",
       "      <th>MaritalStatus</th>\n",
       "      <th></th>\n",
       "      <th></th>\n",
       "    </tr>\n",
       "  </thead>\n",
       "  <tbody>\n",
       "    <tr>\n",
       "      <th>Divorced</th>\n",
       "      <td>20.000000</td>\n",
       "      <td>2.244898</td>\n",
       "    </tr>\n",
       "    <tr>\n",
       "      <th>Married</th>\n",
       "      <td>40.068027</td>\n",
       "      <td>5.714286</td>\n",
       "    </tr>\n",
       "    <tr>\n",
       "      <th>Single</th>\n",
       "      <td>23.809524</td>\n",
       "      <td>8.163265</td>\n",
       "    </tr>\n",
       "  </tbody>\n",
       "</table>\n",
       "</div>"
      ],
      "text/plain": [
       "Attrition              0         1\n",
       "MaritalStatus                     \n",
       "Divorced       20.000000  2.244898\n",
       "Married        40.068027  5.714286\n",
       "Single         23.809524  8.163265"
      ]
     },
     "execution_count": 52,
     "metadata": {},
     "output_type": "execute_result"
    }
   ],
   "source": [
    "table_marstat/n * 100 #JOINT PROBABILITY"
   ]
  },
  {
   "cell_type": "code",
   "execution_count": 53,
   "id": "cba9a6ac",
   "metadata": {
    "colab": {
     "base_uri": "https://localhost:8080/"
    },
    "id": "cba9a6ac",
    "outputId": "64d9e23d-3ca9-4665-e5cd-18e8c782c2f7"
   },
   "outputs": [
    {
     "data": {
      "text/plain": [
       "MaritalStatus\n",
       "Divorced    0.222449\n",
       "Married     0.457823\n",
       "Single      0.319728\n",
       "dtype: float64"
      ]
     },
     "execution_count": 53,
     "metadata": {},
     "output_type": "execute_result"
    }
   ],
   "source": [
    "rowtotal_marstat = table_marstat.sum(axis = 1)\n",
    "rowtotal_marstat/n"
   ]
  },
  {
   "cell_type": "code",
   "execution_count": 54,
   "id": "499052f1",
   "metadata": {
    "colab": {
     "base_uri": "https://localhost:8080/"
    },
    "id": "499052f1",
    "outputId": "2d67e062-4fb4-4076-93ff-2b341d000f8b"
   },
   "outputs": [
    {
     "data": {
      "text/plain": [
       "Attrition\n",
       "0    1233\n",
       "1     237\n",
       "dtype: int64"
      ]
     },
     "execution_count": 54,
     "metadata": {},
     "output_type": "execute_result"
    }
   ],
   "source": [
    "coltotal_marstat = table_marstat.sum(axis = 0)\n",
    "coltotal_marstat"
   ]
  },
  {
   "cell_type": "code",
   "execution_count": 55,
   "id": "d676e3d1",
   "metadata": {
    "colab": {
     "base_uri": "https://localhost:8080/",
     "height": 175
    },
    "id": "d676e3d1",
    "outputId": "acf3e34a-788e-4518-9fff-f45b282d2bee"
   },
   "outputs": [
    {
     "data": {
      "text/html": [
       "<div>\n",
       "<style scoped>\n",
       "    .dataframe tbody tr th:only-of-type {\n",
       "        vertical-align: middle;\n",
       "    }\n",
       "\n",
       "    .dataframe tbody tr th {\n",
       "        vertical-align: top;\n",
       "    }\n",
       "\n",
       "    .dataframe thead th {\n",
       "        text-align: right;\n",
       "    }\n",
       "</style>\n",
       "<table border=\"1\" class=\"dataframe\">\n",
       "  <thead>\n",
       "    <tr style=\"text-align: right;\">\n",
       "      <th>Attrition</th>\n",
       "      <th>0</th>\n",
       "      <th>1</th>\n",
       "    </tr>\n",
       "    <tr>\n",
       "      <th>MaritalStatus</th>\n",
       "      <th></th>\n",
       "      <th></th>\n",
       "    </tr>\n",
       "  </thead>\n",
       "  <tbody>\n",
       "    <tr>\n",
       "      <th>Divorced</th>\n",
       "      <td>0.899083</td>\n",
       "      <td>0.100917</td>\n",
       "    </tr>\n",
       "    <tr>\n",
       "      <th>Married</th>\n",
       "      <td>0.875186</td>\n",
       "      <td>0.124814</td>\n",
       "    </tr>\n",
       "    <tr>\n",
       "      <th>Single</th>\n",
       "      <td>0.744681</td>\n",
       "      <td>0.255319</td>\n",
       "    </tr>\n",
       "  </tbody>\n",
       "</table>\n",
       "</div>"
      ],
      "text/plain": [
       "Attrition             0         1\n",
       "MaritalStatus                    \n",
       "Divorced       0.899083  0.100917\n",
       "Married        0.875186  0.124814\n",
       "Single         0.744681  0.255319"
      ]
     },
     "execution_count": 55,
     "metadata": {},
     "output_type": "execute_result"
    }
   ],
   "source": [
    "table_marstat.div(rowtotal_marstat,axis = 0)  #for given marital status"
   ]
  },
  {
   "cell_type": "code",
   "execution_count": 56,
   "id": "55a75378",
   "metadata": {
    "colab": {
     "base_uri": "https://localhost:8080/",
     "height": 175
    },
    "id": "55a75378",
    "outputId": "83b83ef0-844c-43a9-d04d-f59674659153"
   },
   "outputs": [
    {
     "data": {
      "text/html": [
       "<div>\n",
       "<style scoped>\n",
       "    .dataframe tbody tr th:only-of-type {\n",
       "        vertical-align: middle;\n",
       "    }\n",
       "\n",
       "    .dataframe tbody tr th {\n",
       "        vertical-align: top;\n",
       "    }\n",
       "\n",
       "    .dataframe thead th {\n",
       "        text-align: right;\n",
       "    }\n",
       "</style>\n",
       "<table border=\"1\" class=\"dataframe\">\n",
       "  <thead>\n",
       "    <tr style=\"text-align: right;\">\n",
       "      <th>Attrition</th>\n",
       "      <th>0</th>\n",
       "      <th>1</th>\n",
       "    </tr>\n",
       "    <tr>\n",
       "      <th>MaritalStatus</th>\n",
       "      <th></th>\n",
       "      <th></th>\n",
       "    </tr>\n",
       "  </thead>\n",
       "  <tbody>\n",
       "    <tr>\n",
       "      <th>Divorced</th>\n",
       "      <td>0.238443</td>\n",
       "      <td>0.139241</td>\n",
       "    </tr>\n",
       "    <tr>\n",
       "      <th>Married</th>\n",
       "      <td>0.477697</td>\n",
       "      <td>0.354430</td>\n",
       "    </tr>\n",
       "    <tr>\n",
       "      <th>Single</th>\n",
       "      <td>0.283861</td>\n",
       "      <td>0.506329</td>\n",
       "    </tr>\n",
       "  </tbody>\n",
       "</table>\n",
       "</div>"
      ],
      "text/plain": [
       "Attrition             0         1\n",
       "MaritalStatus                    \n",
       "Divorced       0.238443  0.139241\n",
       "Married        0.477697  0.354430\n",
       "Single         0.283861  0.506329"
      ]
     },
     "execution_count": 56,
     "metadata": {},
     "output_type": "execute_result"
    }
   ],
   "source": [
    "table_marstat.div(coltotal_marstat,axis = 1)  #from given attrition"
   ]
  },
  {
   "cell_type": "markdown",
   "id": "b8b40972",
   "metadata": {
    "id": "b8b40972"
   },
   "source": [
    "# ---------------------------OverTime---------------------------"
   ]
  },
  {
   "cell_type": "code",
   "execution_count": 57,
   "id": "ef4c8377",
   "metadata": {
    "colab": {
     "base_uri": "https://localhost:8080/",
     "height": 143
    },
    "id": "ef4c8377",
    "outputId": "f1016bfb-ab0d-4d73-ef0b-5a58e70f78e5"
   },
   "outputs": [
    {
     "data": {
      "text/html": [
       "<div>\n",
       "<style scoped>\n",
       "    .dataframe tbody tr th:only-of-type {\n",
       "        vertical-align: middle;\n",
       "    }\n",
       "\n",
       "    .dataframe tbody tr th {\n",
       "        vertical-align: top;\n",
       "    }\n",
       "\n",
       "    .dataframe thead th {\n",
       "        text-align: right;\n",
       "    }\n",
       "</style>\n",
       "<table border=\"1\" class=\"dataframe\">\n",
       "  <thead>\n",
       "    <tr style=\"text-align: right;\">\n",
       "      <th></th>\n",
       "      <th>Age</th>\n",
       "      <th>MonthlyIncome</th>\n",
       "      <th>TotalWorkingYears</th>\n",
       "      <th>YearsInCurrentRole</th>\n",
       "      <th>YearsSinceLastPromotion</th>\n",
       "      <th>YearsWithCurrManager</th>\n",
       "      <th>DistanceFromHome</th>\n",
       "    </tr>\n",
       "    <tr>\n",
       "      <th>OverTime</th>\n",
       "      <th></th>\n",
       "      <th></th>\n",
       "      <th></th>\n",
       "      <th></th>\n",
       "      <th></th>\n",
       "      <th></th>\n",
       "      <th></th>\n",
       "    </tr>\n",
       "  </thead>\n",
       "  <tbody>\n",
       "    <tr>\n",
       "      <th>No</th>\n",
       "      <td>37.130297</td>\n",
       "      <td>6669.690678</td>\n",
       "      <td>11.525424</td>\n",
       "      <td>4.448093</td>\n",
       "      <td>2.237288</td>\n",
       "      <td>4.372881</td>\n",
       "      <td>8.942797</td>\n",
       "    </tr>\n",
       "    <tr>\n",
       "      <th>Yes</th>\n",
       "      <td>38.968858</td>\n",
       "      <td>7365.328720</td>\n",
       "      <td>12.965398</td>\n",
       "      <td>4.602076</td>\n",
       "      <td>2.224913</td>\n",
       "      <td>4.349481</td>\n",
       "      <td>8.826990</td>\n",
       "    </tr>\n",
       "  </tbody>\n",
       "</table>\n",
       "</div>"
      ],
      "text/plain": [
       "                Age  MonthlyIncome  TotalWorkingYears  YearsInCurrentRole  \\\n",
       "OverTime                                                                    \n",
       "No        37.130297    6669.690678          11.525424            4.448093   \n",
       "Yes       38.968858    7365.328720          12.965398            4.602076   \n",
       "\n",
       "          YearsSinceLastPromotion  YearsWithCurrManager  DistanceFromHome  \n",
       "OverTime                                                                   \n",
       "No                       2.237288              4.372881          8.942797  \n",
       "Yes                      2.224913              4.349481          8.826990  "
      ]
     },
     "execution_count": 57,
     "metadata": {},
     "output_type": "execute_result"
    }
   ],
   "source": [
    "data[numbers+ ['OverTime'] ].loc[data.Attrition==0].groupby('OverTime').mean()"
   ]
  },
  {
   "cell_type": "code",
   "execution_count": 58,
   "id": "g_mCxx80pRGe",
   "metadata": {
    "colab": {
     "base_uri": "https://localhost:8080/",
     "height": 143
    },
    "id": "g_mCxx80pRGe",
    "outputId": "5ef890cf-bede-4635-e88a-af2805d0d36a"
   },
   "outputs": [
    {
     "data": {
      "text/html": [
       "<div>\n",
       "<style scoped>\n",
       "    .dataframe tbody tr th:only-of-type {\n",
       "        vertical-align: middle;\n",
       "    }\n",
       "\n",
       "    .dataframe tbody tr th {\n",
       "        vertical-align: top;\n",
       "    }\n",
       "\n",
       "    .dataframe thead th {\n",
       "        text-align: right;\n",
       "    }\n",
       "</style>\n",
       "<table border=\"1\" class=\"dataframe\">\n",
       "  <thead>\n",
       "    <tr style=\"text-align: right;\">\n",
       "      <th></th>\n",
       "      <th>Age</th>\n",
       "      <th>MonthlyIncome</th>\n",
       "      <th>TotalWorkingYears</th>\n",
       "      <th>YearsInCurrentRole</th>\n",
       "      <th>YearsSinceLastPromotion</th>\n",
       "      <th>YearsWithCurrManager</th>\n",
       "      <th>DistanceFromHome</th>\n",
       "    </tr>\n",
       "    <tr>\n",
       "      <th>OverTime</th>\n",
       "      <th></th>\n",
       "      <th></th>\n",
       "      <th></th>\n",
       "      <th></th>\n",
       "      <th></th>\n",
       "      <th></th>\n",
       "      <th></th>\n",
       "    </tr>\n",
       "  </thead>\n",
       "  <tbody>\n",
       "    <tr>\n",
       "      <th>No</th>\n",
       "      <td>33.609091</td>\n",
       "      <td>4899.318182</td>\n",
       "      <td>8.572727</td>\n",
       "      <td>3.000000</td>\n",
       "      <td>2.000000</td>\n",
       "      <td>2.872727</td>\n",
       "      <td>10.090909</td>\n",
       "    </tr>\n",
       "    <tr>\n",
       "      <th>Yes</th>\n",
       "      <td>33.606299</td>\n",
       "      <td>4689.889764</td>\n",
       "      <td>7.960630</td>\n",
       "      <td>2.818898</td>\n",
       "      <td>1.897638</td>\n",
       "      <td>2.834646</td>\n",
       "      <td>11.102362</td>\n",
       "    </tr>\n",
       "  </tbody>\n",
       "</table>\n",
       "</div>"
      ],
      "text/plain": [
       "                Age  MonthlyIncome  TotalWorkingYears  YearsInCurrentRole  \\\n",
       "OverTime                                                                    \n",
       "No        33.609091    4899.318182           8.572727            3.000000   \n",
       "Yes       33.606299    4689.889764           7.960630            2.818898   \n",
       "\n",
       "          YearsSinceLastPromotion  YearsWithCurrManager  DistanceFromHome  \n",
       "OverTime                                                                   \n",
       "No                       2.000000              2.872727         10.090909  \n",
       "Yes                      1.897638              2.834646         11.102362  "
      ]
     },
     "execution_count": 58,
     "metadata": {},
     "output_type": "execute_result"
    }
   ],
   "source": [
    "\n",
    "data[numbers+ ['OverTime'] ].loc[data.Attrition==1].groupby('OverTime').mean()"
   ]
  },
  {
   "cell_type": "code",
   "execution_count": 59,
   "id": "96ba891e",
   "metadata": {
    "colab": {
     "base_uri": "https://localhost:8080/",
     "height": 143
    },
    "id": "96ba891e",
    "outputId": "176aa3c7-cc4e-4f7e-98c5-2451e5b4c26b"
   },
   "outputs": [
    {
     "data": {
      "text/html": [
       "<div>\n",
       "<style scoped>\n",
       "    .dataframe tbody tr th:only-of-type {\n",
       "        vertical-align: middle;\n",
       "    }\n",
       "\n",
       "    .dataframe tbody tr th {\n",
       "        vertical-align: top;\n",
       "    }\n",
       "\n",
       "    .dataframe thead th {\n",
       "        text-align: right;\n",
       "    }\n",
       "</style>\n",
       "<table border=\"1\" class=\"dataframe\">\n",
       "  <thead>\n",
       "    <tr style=\"text-align: right;\">\n",
       "      <th>Attrition</th>\n",
       "      <th>0</th>\n",
       "      <th>1</th>\n",
       "    </tr>\n",
       "    <tr>\n",
       "      <th>OverTime</th>\n",
       "      <th></th>\n",
       "      <th></th>\n",
       "    </tr>\n",
       "  </thead>\n",
       "  <tbody>\n",
       "    <tr>\n",
       "      <th>No</th>\n",
       "      <td>944</td>\n",
       "      <td>110</td>\n",
       "    </tr>\n",
       "    <tr>\n",
       "      <th>Yes</th>\n",
       "      <td>289</td>\n",
       "      <td>127</td>\n",
       "    </tr>\n",
       "  </tbody>\n",
       "</table>\n",
       "</div>"
      ],
      "text/plain": [
       "Attrition    0    1\n",
       "OverTime           \n",
       "No         944  110\n",
       "Yes        289  127"
      ]
     },
     "execution_count": 59,
     "metadata": {},
     "output_type": "execute_result"
    }
   ],
   "source": [
    "table_overtime = pd.crosstab(data.OverTime,columns = data.Attrition)\n",
    "table_overtime"
   ]
  },
  {
   "cell_type": "code",
   "execution_count": 60,
   "id": "c4d4fc43",
   "metadata": {
    "colab": {
     "base_uri": "https://localhost:8080/",
     "height": 143
    },
    "id": "c4d4fc43",
    "outputId": "2ca5acd0-2946-4631-c168-47c1c71e6441"
   },
   "outputs": [
    {
     "data": {
      "text/html": [
       "<div>\n",
       "<style scoped>\n",
       "    .dataframe tbody tr th:only-of-type {\n",
       "        vertical-align: middle;\n",
       "    }\n",
       "\n",
       "    .dataframe tbody tr th {\n",
       "        vertical-align: top;\n",
       "    }\n",
       "\n",
       "    .dataframe thead th {\n",
       "        text-align: right;\n",
       "    }\n",
       "</style>\n",
       "<table border=\"1\" class=\"dataframe\">\n",
       "  <thead>\n",
       "    <tr style=\"text-align: right;\">\n",
       "      <th>Attrition</th>\n",
       "      <th>0</th>\n",
       "      <th>1</th>\n",
       "    </tr>\n",
       "    <tr>\n",
       "      <th>OverTime</th>\n",
       "      <th></th>\n",
       "      <th></th>\n",
       "    </tr>\n",
       "  </thead>\n",
       "  <tbody>\n",
       "    <tr>\n",
       "      <th>No</th>\n",
       "      <td>64.217687</td>\n",
       "      <td>7.482993</td>\n",
       "    </tr>\n",
       "    <tr>\n",
       "      <th>Yes</th>\n",
       "      <td>19.659864</td>\n",
       "      <td>8.639456</td>\n",
       "    </tr>\n",
       "  </tbody>\n",
       "</table>\n",
       "</div>"
      ],
      "text/plain": [
       "Attrition          0         1\n",
       "OverTime                      \n",
       "No         64.217687  7.482993\n",
       "Yes        19.659864  8.639456"
      ]
     },
     "execution_count": 60,
     "metadata": {},
     "output_type": "execute_result"
    }
   ],
   "source": [
    "table_overtime/n *100 #joint probability"
   ]
  },
  {
   "cell_type": "code",
   "execution_count": 61,
   "id": "a2df8b6c",
   "metadata": {
    "colab": {
     "base_uri": "https://localhost:8080/"
    },
    "id": "a2df8b6c",
    "outputId": "816bd8e3-456d-4bf6-c601-5d10e9f1c76d"
   },
   "outputs": [
    {
     "data": {
      "text/plain": [
       "OverTime\n",
       "No     0.717007\n",
       "Yes    0.282993\n",
       "dtype: float64"
      ]
     },
     "execution_count": 61,
     "metadata": {},
     "output_type": "execute_result"
    }
   ],
   "source": [
    "rowtotal_overtime = table_overtime.sum(axis = 1)\n",
    "rowtotal_overtime/n"
   ]
  },
  {
   "cell_type": "code",
   "execution_count": 62,
   "id": "420e0ac5",
   "metadata": {
    "colab": {
     "base_uri": "https://localhost:8080/"
    },
    "id": "420e0ac5",
    "outputId": "232c3d9f-3555-4f26-f7fb-699ad06ce8c8"
   },
   "outputs": [
    {
     "data": {
      "text/plain": [
       "Attrition\n",
       "0    1233\n",
       "1     237\n",
       "dtype: int64"
      ]
     },
     "execution_count": 62,
     "metadata": {},
     "output_type": "execute_result"
    }
   ],
   "source": [
    "coltotal_overtime = table_overtime.sum(axis = 0)\n",
    "coltotal_overtime"
   ]
  },
  {
   "cell_type": "code",
   "execution_count": 63,
   "id": "11d2813e",
   "metadata": {
    "colab": {
     "base_uri": "https://localhost:8080/",
     "height": 143
    },
    "id": "11d2813e",
    "outputId": "2f281640-a549-44f5-c1eb-7bc380bce2c6"
   },
   "outputs": [
    {
     "data": {
      "text/html": [
       "<div>\n",
       "<style scoped>\n",
       "    .dataframe tbody tr th:only-of-type {\n",
       "        vertical-align: middle;\n",
       "    }\n",
       "\n",
       "    .dataframe tbody tr th {\n",
       "        vertical-align: top;\n",
       "    }\n",
       "\n",
       "    .dataframe thead th {\n",
       "        text-align: right;\n",
       "    }\n",
       "</style>\n",
       "<table border=\"1\" class=\"dataframe\">\n",
       "  <thead>\n",
       "    <tr style=\"text-align: right;\">\n",
       "      <th>Attrition</th>\n",
       "      <th>0</th>\n",
       "      <th>1</th>\n",
       "    </tr>\n",
       "    <tr>\n",
       "      <th>OverTime</th>\n",
       "      <th></th>\n",
       "      <th></th>\n",
       "    </tr>\n",
       "  </thead>\n",
       "  <tbody>\n",
       "    <tr>\n",
       "      <th>No</th>\n",
       "      <td>0.895636</td>\n",
       "      <td>0.104364</td>\n",
       "    </tr>\n",
       "    <tr>\n",
       "      <th>Yes</th>\n",
       "      <td>0.694712</td>\n",
       "      <td>0.305288</td>\n",
       "    </tr>\n",
       "  </tbody>\n",
       "</table>\n",
       "</div>"
      ],
      "text/plain": [
       "Attrition         0         1\n",
       "OverTime                     \n",
       "No         0.895636  0.104364\n",
       "Yes        0.694712  0.305288"
      ]
     },
     "execution_count": 63,
     "metadata": {},
     "output_type": "execute_result"
    }
   ],
   "source": [
    "\n",
    "table_overtime.div(rowtotal_overtime,axis = 0) #probability for given overtime"
   ]
  },
  {
   "cell_type": "code",
   "execution_count": 64,
   "id": "b78cb17f",
   "metadata": {
    "colab": {
     "base_uri": "https://localhost:8080/",
     "height": 143
    },
    "id": "b78cb17f",
    "outputId": "b28d0830-f0f9-4098-c024-5b00d34c4ad6"
   },
   "outputs": [
    {
     "data": {
      "text/html": [
       "<div>\n",
       "<style scoped>\n",
       "    .dataframe tbody tr th:only-of-type {\n",
       "        vertical-align: middle;\n",
       "    }\n",
       "\n",
       "    .dataframe tbody tr th {\n",
       "        vertical-align: top;\n",
       "    }\n",
       "\n",
       "    .dataframe thead th {\n",
       "        text-align: right;\n",
       "    }\n",
       "</style>\n",
       "<table border=\"1\" class=\"dataframe\">\n",
       "  <thead>\n",
       "    <tr style=\"text-align: right;\">\n",
       "      <th>Attrition</th>\n",
       "      <th>0</th>\n",
       "      <th>1</th>\n",
       "    </tr>\n",
       "    <tr>\n",
       "      <th>OverTime</th>\n",
       "      <th></th>\n",
       "      <th></th>\n",
       "    </tr>\n",
       "  </thead>\n",
       "  <tbody>\n",
       "    <tr>\n",
       "      <th>No</th>\n",
       "      <td>0.765612</td>\n",
       "      <td>0.464135</td>\n",
       "    </tr>\n",
       "    <tr>\n",
       "      <th>Yes</th>\n",
       "      <td>0.234388</td>\n",
       "      <td>0.535865</td>\n",
       "    </tr>\n",
       "  </tbody>\n",
       "</table>\n",
       "</div>"
      ],
      "text/plain": [
       "Attrition         0         1\n",
       "OverTime                     \n",
       "No         0.765612  0.464135\n",
       "Yes        0.234388  0.535865"
      ]
     },
     "execution_count": 64,
     "metadata": {},
     "output_type": "execute_result"
    }
   ],
   "source": [
    "table_overtime.div(coltotal_overtime,axis = 1) #probability for given attrition"
   ]
  },
  {
   "cell_type": "markdown",
   "id": "e36d7629",
   "metadata": {
    "id": "e36d7629"
   },
   "source": [
    "# -------------------------------------------------------------------------------\n",
    "# -------------------------------------------------------------------------------"
   ]
  },
  {
   "cell_type": "code",
   "execution_count": 65,
   "id": "e63f42cc",
   "metadata": {
    "colab": {
     "base_uri": "https://localhost:8080/"
    },
    "id": "e63f42cc",
    "outputId": "e5d41316-52d7-4803-f8d8-e4f7d32b9e25"
   },
   "outputs": [
    {
     "data": {
      "text/plain": [
       "['EnvironmentSatisfaction',\n",
       " 'JobSatisfaction',\n",
       " 'WorkLifeBalance',\n",
       " 'JobLevel',\n",
       " 'JobInvolvement']"
      ]
     },
     "execution_count": 65,
     "metadata": {},
     "output_type": "execute_result"
    }
   ],
   "source": [
    "ratings"
   ]
  },
  {
   "cell_type": "markdown",
   "id": "Mf8DWzQ4p9br",
   "metadata": {
    "id": "Mf8DWzQ4p9br"
   },
   "source": [
    "# <center>---------------------------EnvironmentSatisfaction---------------------------"
   ]
  },
  {
   "cell_type": "code",
   "execution_count": 66,
   "id": "2x8q80XGpyQA",
   "metadata": {
    "colab": {
     "base_uri": "https://localhost:8080/",
     "height": 206
    },
    "id": "2x8q80XGpyQA",
    "outputId": "65b0322d-fb68-4d8f-e99b-fd46819d9331"
   },
   "outputs": [
    {
     "data": {
      "text/html": [
       "<div>\n",
       "<style scoped>\n",
       "    .dataframe tbody tr th:only-of-type {\n",
       "        vertical-align: middle;\n",
       "    }\n",
       "\n",
       "    .dataframe tbody tr th {\n",
       "        vertical-align: top;\n",
       "    }\n",
       "\n",
       "    .dataframe thead th {\n",
       "        text-align: right;\n",
       "    }\n",
       "</style>\n",
       "<table border=\"1\" class=\"dataframe\">\n",
       "  <thead>\n",
       "    <tr style=\"text-align: right;\">\n",
       "      <th></th>\n",
       "      <th>Age</th>\n",
       "      <th>MonthlyIncome</th>\n",
       "      <th>TotalWorkingYears</th>\n",
       "      <th>YearsInCurrentRole</th>\n",
       "      <th>YearsSinceLastPromotion</th>\n",
       "      <th>YearsWithCurrManager</th>\n",
       "      <th>DistanceFromHome</th>\n",
       "    </tr>\n",
       "    <tr>\n",
       "      <th>EnvironmentSatisfaction</th>\n",
       "      <th></th>\n",
       "      <th></th>\n",
       "      <th></th>\n",
       "      <th></th>\n",
       "      <th></th>\n",
       "      <th></th>\n",
       "      <th></th>\n",
       "    </tr>\n",
       "  </thead>\n",
       "  <tbody>\n",
       "    <tr>\n",
       "      <th>1</th>\n",
       "      <td>37.981132</td>\n",
       "      <td>7236.891509</td>\n",
       "      <td>12.547170</td>\n",
       "      <td>4.372642</td>\n",
       "      <td>2.132075</td>\n",
       "      <td>4.556604</td>\n",
       "      <td>8.768868</td>\n",
       "    </tr>\n",
       "    <tr>\n",
       "      <th>2</th>\n",
       "      <td>37.122951</td>\n",
       "      <td>6459.995902</td>\n",
       "      <td>11.319672</td>\n",
       "      <td>4.553279</td>\n",
       "      <td>2.368852</td>\n",
       "      <td>4.422131</td>\n",
       "      <td>9.397541</td>\n",
       "    </tr>\n",
       "    <tr>\n",
       "      <th>3</th>\n",
       "      <td>37.455243</td>\n",
       "      <td>6851.104859</td>\n",
       "      <td>11.782609</td>\n",
       "      <td>4.572890</td>\n",
       "      <td>2.296675</td>\n",
       "      <td>4.301790</td>\n",
       "      <td>8.936061</td>\n",
       "    </tr>\n",
       "    <tr>\n",
       "      <th>4</th>\n",
       "      <td>37.715026</td>\n",
       "      <td>6827.787565</td>\n",
       "      <td>11.911917</td>\n",
       "      <td>4.411917</td>\n",
       "      <td>2.142487</td>\n",
       "      <td>4.295337</td>\n",
       "      <td>8.670984</td>\n",
       "    </tr>\n",
       "  </tbody>\n",
       "</table>\n",
       "</div>"
      ],
      "text/plain": [
       "                               Age  MonthlyIncome  TotalWorkingYears  \\\n",
       "EnvironmentSatisfaction                                                \n",
       "1                        37.981132    7236.891509          12.547170   \n",
       "2                        37.122951    6459.995902          11.319672   \n",
       "3                        37.455243    6851.104859          11.782609   \n",
       "4                        37.715026    6827.787565          11.911917   \n",
       "\n",
       "                         YearsInCurrentRole  YearsSinceLastPromotion  \\\n",
       "EnvironmentSatisfaction                                                \n",
       "1                                  4.372642                 2.132075   \n",
       "2                                  4.553279                 2.368852   \n",
       "3                                  4.572890                 2.296675   \n",
       "4                                  4.411917                 2.142487   \n",
       "\n",
       "                         YearsWithCurrManager  DistanceFromHome  \n",
       "EnvironmentSatisfaction                                          \n",
       "1                                    4.556604          8.768868  \n",
       "2                                    4.422131          9.397541  \n",
       "3                                    4.301790          8.936061  \n",
       "4                                    4.295337          8.670984  "
      ]
     },
     "execution_count": 66,
     "metadata": {},
     "output_type": "execute_result"
    }
   ],
   "source": [
    "data[numbers+ ['EnvironmentSatisfaction'] ].loc[data.Attrition==0].groupby('EnvironmentSatisfaction').mean()"
   ]
  },
  {
   "cell_type": "code",
   "execution_count": 67,
   "id": "Zh4jxhz6px_e",
   "metadata": {
    "colab": {
     "base_uri": "https://localhost:8080/",
     "height": 206
    },
    "id": "Zh4jxhz6px_e",
    "outputId": "1ef3939f-2488-4ffe-a228-2049df8dae0c"
   },
   "outputs": [
    {
     "data": {
      "text/html": [
       "<div>\n",
       "<style scoped>\n",
       "    .dataframe tbody tr th:only-of-type {\n",
       "        vertical-align: middle;\n",
       "    }\n",
       "\n",
       "    .dataframe tbody tr th {\n",
       "        vertical-align: top;\n",
       "    }\n",
       "\n",
       "    .dataframe thead th {\n",
       "        text-align: right;\n",
       "    }\n",
       "</style>\n",
       "<table border=\"1\" class=\"dataframe\">\n",
       "  <thead>\n",
       "    <tr style=\"text-align: right;\">\n",
       "      <th></th>\n",
       "      <th>Age</th>\n",
       "      <th>MonthlyIncome</th>\n",
       "      <th>TotalWorkingYears</th>\n",
       "      <th>YearsInCurrentRole</th>\n",
       "      <th>YearsSinceLastPromotion</th>\n",
       "      <th>YearsWithCurrManager</th>\n",
       "      <th>DistanceFromHome</th>\n",
       "    </tr>\n",
       "    <tr>\n",
       "      <th>EnvironmentSatisfaction</th>\n",
       "      <th></th>\n",
       "      <th></th>\n",
       "      <th></th>\n",
       "      <th></th>\n",
       "      <th></th>\n",
       "      <th></th>\n",
       "      <th></th>\n",
       "    </tr>\n",
       "  </thead>\n",
       "  <tbody>\n",
       "    <tr>\n",
       "      <th>1</th>\n",
       "      <td>34.541667</td>\n",
       "      <td>5186.527778</td>\n",
       "      <td>9.111111</td>\n",
       "      <td>2.777778</td>\n",
       "      <td>1.527778</td>\n",
       "      <td>2.791667</td>\n",
       "      <td>10.361111</td>\n",
       "    </tr>\n",
       "    <tr>\n",
       "      <th>2</th>\n",
       "      <td>33.023256</td>\n",
       "      <td>5283.511628</td>\n",
       "      <td>8.279070</td>\n",
       "      <td>3.069767</td>\n",
       "      <td>1.976744</td>\n",
       "      <td>2.837209</td>\n",
       "      <td>10.744186</td>\n",
       "    </tr>\n",
       "    <tr>\n",
       "      <th>3</th>\n",
       "      <td>32.467742</td>\n",
       "      <td>4156.935484</td>\n",
       "      <td>7.048387</td>\n",
       "      <td>3.016129</td>\n",
       "      <td>1.887097</td>\n",
       "      <td>3.080645</td>\n",
       "      <td>10.693548</td>\n",
       "    </tr>\n",
       "    <tr>\n",
       "      <th>4</th>\n",
       "      <td>34.083333</td>\n",
       "      <td>4603.166667</td>\n",
       "      <td>8.416667</td>\n",
       "      <td>2.816667</td>\n",
       "      <td>2.483333</td>\n",
       "      <td>2.700000</td>\n",
       "      <td>10.816667</td>\n",
       "    </tr>\n",
       "  </tbody>\n",
       "</table>\n",
       "</div>"
      ],
      "text/plain": [
       "                               Age  MonthlyIncome  TotalWorkingYears  \\\n",
       "EnvironmentSatisfaction                                                \n",
       "1                        34.541667    5186.527778           9.111111   \n",
       "2                        33.023256    5283.511628           8.279070   \n",
       "3                        32.467742    4156.935484           7.048387   \n",
       "4                        34.083333    4603.166667           8.416667   \n",
       "\n",
       "                         YearsInCurrentRole  YearsSinceLastPromotion  \\\n",
       "EnvironmentSatisfaction                                                \n",
       "1                                  2.777778                 1.527778   \n",
       "2                                  3.069767                 1.976744   \n",
       "3                                  3.016129                 1.887097   \n",
       "4                                  2.816667                 2.483333   \n",
       "\n",
       "                         YearsWithCurrManager  DistanceFromHome  \n",
       "EnvironmentSatisfaction                                          \n",
       "1                                    2.791667         10.361111  \n",
       "2                                    2.837209         10.744186  \n",
       "3                                    3.080645         10.693548  \n",
       "4                                    2.700000         10.816667  "
      ]
     },
     "execution_count": 67,
     "metadata": {},
     "output_type": "execute_result"
    }
   ],
   "source": [
    "data[numbers+ ['EnvironmentSatisfaction'] ].loc[data.Attrition==1].groupby('EnvironmentSatisfaction').mean()"
   ]
  },
  {
   "cell_type": "code",
   "execution_count": 68,
   "id": "e8568ab2",
   "metadata": {
    "colab": {
     "base_uri": "https://localhost:8080/",
     "height": 206
    },
    "id": "e8568ab2",
    "outputId": "0d7f27e4-9304-4e45-dd20-9ce04b815898"
   },
   "outputs": [
    {
     "data": {
      "text/html": [
       "<div>\n",
       "<style scoped>\n",
       "    .dataframe tbody tr th:only-of-type {\n",
       "        vertical-align: middle;\n",
       "    }\n",
       "\n",
       "    .dataframe tbody tr th {\n",
       "        vertical-align: top;\n",
       "    }\n",
       "\n",
       "    .dataframe thead th {\n",
       "        text-align: right;\n",
       "    }\n",
       "</style>\n",
       "<table border=\"1\" class=\"dataframe\">\n",
       "  <thead>\n",
       "    <tr style=\"text-align: right;\">\n",
       "      <th>Attrition</th>\n",
       "      <th>0</th>\n",
       "      <th>1</th>\n",
       "    </tr>\n",
       "    <tr>\n",
       "      <th>EnvironmentSatisfaction</th>\n",
       "      <th></th>\n",
       "      <th></th>\n",
       "    </tr>\n",
       "  </thead>\n",
       "  <tbody>\n",
       "    <tr>\n",
       "      <th>1</th>\n",
       "      <td>212</td>\n",
       "      <td>72</td>\n",
       "    </tr>\n",
       "    <tr>\n",
       "      <th>2</th>\n",
       "      <td>244</td>\n",
       "      <td>43</td>\n",
       "    </tr>\n",
       "    <tr>\n",
       "      <th>3</th>\n",
       "      <td>391</td>\n",
       "      <td>62</td>\n",
       "    </tr>\n",
       "    <tr>\n",
       "      <th>4</th>\n",
       "      <td>386</td>\n",
       "      <td>60</td>\n",
       "    </tr>\n",
       "  </tbody>\n",
       "</table>\n",
       "</div>"
      ],
      "text/plain": [
       "Attrition                  0   1\n",
       "EnvironmentSatisfaction         \n",
       "1                        212  72\n",
       "2                        244  43\n",
       "3                        391  62\n",
       "4                        386  60"
      ]
     },
     "execution_count": 68,
     "metadata": {},
     "output_type": "execute_result"
    }
   ],
   "source": [
    "table_env= pd.crosstab(data.EnvironmentSatisfaction,columns = data.Attrition)\n",
    "table_env"
   ]
  },
  {
   "cell_type": "code",
   "execution_count": 69,
   "id": "854481e5",
   "metadata": {
    "id": "854481e5"
   },
   "outputs": [],
   "source": [
    "rowtotal_env = table_env.sum(axis = 1)\n",
    "coltotal_env = table_env.sum(axis = 0)"
   ]
  },
  {
   "cell_type": "code",
   "execution_count": 70,
   "id": "cc9e38ca",
   "metadata": {
    "colab": {
     "base_uri": "https://localhost:8080/",
     "height": 206
    },
    "id": "cc9e38ca",
    "outputId": "a181ac03-1fbe-4d39-b2f8-d663154915b2"
   },
   "outputs": [
    {
     "data": {
      "text/html": [
       "<div>\n",
       "<style scoped>\n",
       "    .dataframe tbody tr th:only-of-type {\n",
       "        vertical-align: middle;\n",
       "    }\n",
       "\n",
       "    .dataframe tbody tr th {\n",
       "        vertical-align: top;\n",
       "    }\n",
       "\n",
       "    .dataframe thead th {\n",
       "        text-align: right;\n",
       "    }\n",
       "</style>\n",
       "<table border=\"1\" class=\"dataframe\">\n",
       "  <thead>\n",
       "    <tr style=\"text-align: right;\">\n",
       "      <th>Attrition</th>\n",
       "      <th>0</th>\n",
       "      <th>1</th>\n",
       "    </tr>\n",
       "    <tr>\n",
       "      <th>EnvironmentSatisfaction</th>\n",
       "      <th></th>\n",
       "      <th></th>\n",
       "    </tr>\n",
       "  </thead>\n",
       "  <tbody>\n",
       "    <tr>\n",
       "      <th>1</th>\n",
       "      <td>0.746479</td>\n",
       "      <td>0.253521</td>\n",
       "    </tr>\n",
       "    <tr>\n",
       "      <th>2</th>\n",
       "      <td>0.850174</td>\n",
       "      <td>0.149826</td>\n",
       "    </tr>\n",
       "    <tr>\n",
       "      <th>3</th>\n",
       "      <td>0.863135</td>\n",
       "      <td>0.136865</td>\n",
       "    </tr>\n",
       "    <tr>\n",
       "      <th>4</th>\n",
       "      <td>0.865471</td>\n",
       "      <td>0.134529</td>\n",
       "    </tr>\n",
       "  </tbody>\n",
       "</table>\n",
       "</div>"
      ],
      "text/plain": [
       "Attrition                       0         1\n",
       "EnvironmentSatisfaction                    \n",
       "1                        0.746479  0.253521\n",
       "2                        0.850174  0.149826\n",
       "3                        0.863135  0.136865\n",
       "4                        0.865471  0.134529"
      ]
     },
     "execution_count": 70,
     "metadata": {},
     "output_type": "execute_result"
    }
   ],
   "source": [
    "table_env.div(rowtotal_env,axis = 0)"
   ]
  },
  {
   "cell_type": "code",
   "execution_count": 71,
   "id": "c021298d",
   "metadata": {
    "colab": {
     "base_uri": "https://localhost:8080/",
     "height": 206
    },
    "id": "c021298d",
    "outputId": "385da952-e0f8-436a-ce6c-26b8ea401740"
   },
   "outputs": [
    {
     "data": {
      "text/html": [
       "<div>\n",
       "<style scoped>\n",
       "    .dataframe tbody tr th:only-of-type {\n",
       "        vertical-align: middle;\n",
       "    }\n",
       "\n",
       "    .dataframe tbody tr th {\n",
       "        vertical-align: top;\n",
       "    }\n",
       "\n",
       "    .dataframe thead th {\n",
       "        text-align: right;\n",
       "    }\n",
       "</style>\n",
       "<table border=\"1\" class=\"dataframe\">\n",
       "  <thead>\n",
       "    <tr style=\"text-align: right;\">\n",
       "      <th>Attrition</th>\n",
       "      <th>0</th>\n",
       "      <th>1</th>\n",
       "    </tr>\n",
       "    <tr>\n",
       "      <th>EnvironmentSatisfaction</th>\n",
       "      <th></th>\n",
       "      <th></th>\n",
       "    </tr>\n",
       "  </thead>\n",
       "  <tbody>\n",
       "    <tr>\n",
       "      <th>1</th>\n",
       "      <td>0.171938</td>\n",
       "      <td>0.303797</td>\n",
       "    </tr>\n",
       "    <tr>\n",
       "      <th>2</th>\n",
       "      <td>0.197891</td>\n",
       "      <td>0.181435</td>\n",
       "    </tr>\n",
       "    <tr>\n",
       "      <th>3</th>\n",
       "      <td>0.317113</td>\n",
       "      <td>0.261603</td>\n",
       "    </tr>\n",
       "    <tr>\n",
       "      <th>4</th>\n",
       "      <td>0.313058</td>\n",
       "      <td>0.253165</td>\n",
       "    </tr>\n",
       "  </tbody>\n",
       "</table>\n",
       "</div>"
      ],
      "text/plain": [
       "Attrition                       0         1\n",
       "EnvironmentSatisfaction                    \n",
       "1                        0.171938  0.303797\n",
       "2                        0.197891  0.181435\n",
       "3                        0.317113  0.261603\n",
       "4                        0.313058  0.253165"
      ]
     },
     "execution_count": 71,
     "metadata": {},
     "output_type": "execute_result"
    }
   ],
   "source": [
    "table_env.div(coltotal_env,axis = 1)"
   ]
  },
  {
   "cell_type": "markdown",
   "id": "74c7952b",
   "metadata": {
    "id": "74c7952b"
   },
   "source": [
    "# <center>--------------------------- JobSatisfaction ---------------------------"
   ]
  },
  {
   "cell_type": "code",
   "execution_count": 72,
   "id": "85Xqr8sRqU2V",
   "metadata": {
    "colab": {
     "base_uri": "https://localhost:8080/",
     "height": 206
    },
    "id": "85Xqr8sRqU2V",
    "outputId": "e4adae54-3dad-4ba8-9b55-f761399c5ad6"
   },
   "outputs": [
    {
     "data": {
      "text/html": [
       "<div>\n",
       "<style scoped>\n",
       "    .dataframe tbody tr th:only-of-type {\n",
       "        vertical-align: middle;\n",
       "    }\n",
       "\n",
       "    .dataframe tbody tr th {\n",
       "        vertical-align: top;\n",
       "    }\n",
       "\n",
       "    .dataframe thead th {\n",
       "        text-align: right;\n",
       "    }\n",
       "</style>\n",
       "<table border=\"1\" class=\"dataframe\">\n",
       "  <thead>\n",
       "    <tr style=\"text-align: right;\">\n",
       "      <th></th>\n",
       "      <th>Age</th>\n",
       "      <th>MonthlyIncome</th>\n",
       "      <th>TotalWorkingYears</th>\n",
       "      <th>YearsInCurrentRole</th>\n",
       "      <th>YearsSinceLastPromotion</th>\n",
       "      <th>YearsWithCurrManager</th>\n",
       "      <th>DistanceFromHome</th>\n",
       "    </tr>\n",
       "    <tr>\n",
       "      <th>JobSatisfaction</th>\n",
       "      <th></th>\n",
       "      <th></th>\n",
       "      <th></th>\n",
       "      <th></th>\n",
       "      <th></th>\n",
       "      <th></th>\n",
       "      <th></th>\n",
       "    </tr>\n",
       "  </thead>\n",
       "  <tbody>\n",
       "    <tr>\n",
       "      <th>1</th>\n",
       "      <td>38.008969</td>\n",
       "      <td>7096.901345</td>\n",
       "      <td>12.430493</td>\n",
       "      <td>4.713004</td>\n",
       "      <td>2.551570</td>\n",
       "      <td>4.825112</td>\n",
       "      <td>8.730942</td>\n",
       "    </tr>\n",
       "    <tr>\n",
       "      <th>2</th>\n",
       "      <td>37.700855</td>\n",
       "      <td>6834.893162</td>\n",
       "      <td>12.162393</td>\n",
       "      <td>4.371795</td>\n",
       "      <td>2.230769</td>\n",
       "      <td>4.294872</td>\n",
       "      <td>8.559829</td>\n",
       "    </tr>\n",
       "    <tr>\n",
       "      <th>3</th>\n",
       "      <td>37.647696</td>\n",
       "      <td>6853.311653</td>\n",
       "      <td>11.737127</td>\n",
       "      <td>4.650407</td>\n",
       "      <td>2.176152</td>\n",
       "      <td>4.327913</td>\n",
       "      <td>9.262873</td>\n",
       "    </tr>\n",
       "    <tr>\n",
       "      <th>4</th>\n",
       "      <td>37.157248</td>\n",
       "      <td>6668.113022</td>\n",
       "      <td>11.493857</td>\n",
       "      <td>4.272727</td>\n",
       "      <td>2.115479</td>\n",
       "      <td>4.194103</td>\n",
       "      <td>8.906634</td>\n",
       "    </tr>\n",
       "  </tbody>\n",
       "</table>\n",
       "</div>"
      ],
      "text/plain": [
       "                       Age  MonthlyIncome  TotalWorkingYears  \\\n",
       "JobSatisfaction                                                \n",
       "1                38.008969    7096.901345          12.430493   \n",
       "2                37.700855    6834.893162          12.162393   \n",
       "3                37.647696    6853.311653          11.737127   \n",
       "4                37.157248    6668.113022          11.493857   \n",
       "\n",
       "                 YearsInCurrentRole  YearsSinceLastPromotion  \\\n",
       "JobSatisfaction                                                \n",
       "1                          4.713004                 2.551570   \n",
       "2                          4.371795                 2.230769   \n",
       "3                          4.650407                 2.176152   \n",
       "4                          4.272727                 2.115479   \n",
       "\n",
       "                 YearsWithCurrManager  DistanceFromHome  \n",
       "JobSatisfaction                                          \n",
       "1                            4.825112          8.730942  \n",
       "2                            4.294872          8.559829  \n",
       "3                            4.327913          9.262873  \n",
       "4                            4.194103          8.906634  "
      ]
     },
     "execution_count": 72,
     "metadata": {},
     "output_type": "execute_result"
    }
   ],
   "source": [
    "data[numbers+ ['JobSatisfaction'] ].loc[data.Attrition==0].groupby('JobSatisfaction').mean()"
   ]
  },
  {
   "cell_type": "code",
   "execution_count": 73,
   "id": "O1LzJyqLqUe6",
   "metadata": {
    "colab": {
     "base_uri": "https://localhost:8080/",
     "height": 206
    },
    "id": "O1LzJyqLqUe6",
    "outputId": "5902d3fc-8961-4b77-bc68-645ac1f24e70"
   },
   "outputs": [
    {
     "data": {
      "text/html": [
       "<div>\n",
       "<style scoped>\n",
       "    .dataframe tbody tr th:only-of-type {\n",
       "        vertical-align: middle;\n",
       "    }\n",
       "\n",
       "    .dataframe tbody tr th {\n",
       "        vertical-align: top;\n",
       "    }\n",
       "\n",
       "    .dataframe thead th {\n",
       "        text-align: right;\n",
       "    }\n",
       "</style>\n",
       "<table border=\"1\" class=\"dataframe\">\n",
       "  <thead>\n",
       "    <tr style=\"text-align: right;\">\n",
       "      <th></th>\n",
       "      <th>Age</th>\n",
       "      <th>MonthlyIncome</th>\n",
       "      <th>TotalWorkingYears</th>\n",
       "      <th>YearsInCurrentRole</th>\n",
       "      <th>YearsSinceLastPromotion</th>\n",
       "      <th>YearsWithCurrManager</th>\n",
       "      <th>DistanceFromHome</th>\n",
       "    </tr>\n",
       "    <tr>\n",
       "      <th>JobSatisfaction</th>\n",
       "      <th></th>\n",
       "      <th></th>\n",
       "      <th></th>\n",
       "      <th></th>\n",
       "      <th></th>\n",
       "      <th></th>\n",
       "      <th></th>\n",
       "    </tr>\n",
       "  </thead>\n",
       "  <tbody>\n",
       "    <tr>\n",
       "      <th>1</th>\n",
       "      <td>33.227273</td>\n",
       "      <td>4752.803030</td>\n",
       "      <td>8.833333</td>\n",
       "      <td>2.803030</td>\n",
       "      <td>1.515152</td>\n",
       "      <td>2.893939</td>\n",
       "      <td>10.742424</td>\n",
       "    </tr>\n",
       "    <tr>\n",
       "      <th>2</th>\n",
       "      <td>33.347826</td>\n",
       "      <td>4962.760870</td>\n",
       "      <td>7.282609</td>\n",
       "      <td>2.934783</td>\n",
       "      <td>2.043478</td>\n",
       "      <td>2.956522</td>\n",
       "      <td>11.869565</td>\n",
       "    </tr>\n",
       "    <tr>\n",
       "      <th>3</th>\n",
       "      <td>33.863014</td>\n",
       "      <td>4595.986301</td>\n",
       "      <td>7.917808</td>\n",
       "      <td>2.438356</td>\n",
       "      <td>1.945205</td>\n",
       "      <td>2.547945</td>\n",
       "      <td>10.205479</td>\n",
       "    </tr>\n",
       "    <tr>\n",
       "      <th>4</th>\n",
       "      <td>33.961538</td>\n",
       "      <td>4943.500000</td>\n",
       "      <td>8.807692</td>\n",
       "      <td>3.653846</td>\n",
       "      <td>2.403846</td>\n",
       "      <td>3.134615</td>\n",
       "      <td>10.000000</td>\n",
       "    </tr>\n",
       "  </tbody>\n",
       "</table>\n",
       "</div>"
      ],
      "text/plain": [
       "                       Age  MonthlyIncome  TotalWorkingYears  \\\n",
       "JobSatisfaction                                                \n",
       "1                33.227273    4752.803030           8.833333   \n",
       "2                33.347826    4962.760870           7.282609   \n",
       "3                33.863014    4595.986301           7.917808   \n",
       "4                33.961538    4943.500000           8.807692   \n",
       "\n",
       "                 YearsInCurrentRole  YearsSinceLastPromotion  \\\n",
       "JobSatisfaction                                                \n",
       "1                          2.803030                 1.515152   \n",
       "2                          2.934783                 2.043478   \n",
       "3                          2.438356                 1.945205   \n",
       "4                          3.653846                 2.403846   \n",
       "\n",
       "                 YearsWithCurrManager  DistanceFromHome  \n",
       "JobSatisfaction                                          \n",
       "1                            2.893939         10.742424  \n",
       "2                            2.956522         11.869565  \n",
       "3                            2.547945         10.205479  \n",
       "4                            3.134615         10.000000  "
      ]
     },
     "execution_count": 73,
     "metadata": {},
     "output_type": "execute_result"
    }
   ],
   "source": [
    "data[numbers+ ['JobSatisfaction'] ].loc[data.Attrition==1].groupby('JobSatisfaction').mean()"
   ]
  },
  {
   "cell_type": "code",
   "execution_count": 74,
   "id": "3b61dcef",
   "metadata": {
    "colab": {
     "base_uri": "https://localhost:8080/",
     "height": 206
    },
    "id": "3b61dcef",
    "outputId": "c88c1a13-b412-47df-9913-8f187b0cbb2d"
   },
   "outputs": [
    {
     "data": {
      "text/html": [
       "<div>\n",
       "<style scoped>\n",
       "    .dataframe tbody tr th:only-of-type {\n",
       "        vertical-align: middle;\n",
       "    }\n",
       "\n",
       "    .dataframe tbody tr th {\n",
       "        vertical-align: top;\n",
       "    }\n",
       "\n",
       "    .dataframe thead th {\n",
       "        text-align: right;\n",
       "    }\n",
       "</style>\n",
       "<table border=\"1\" class=\"dataframe\">\n",
       "  <thead>\n",
       "    <tr style=\"text-align: right;\">\n",
       "      <th>Attrition</th>\n",
       "      <th>0</th>\n",
       "      <th>1</th>\n",
       "    </tr>\n",
       "    <tr>\n",
       "      <th>JobSatisfaction</th>\n",
       "      <th></th>\n",
       "      <th></th>\n",
       "    </tr>\n",
       "  </thead>\n",
       "  <tbody>\n",
       "    <tr>\n",
       "      <th>1</th>\n",
       "      <td>223</td>\n",
       "      <td>66</td>\n",
       "    </tr>\n",
       "    <tr>\n",
       "      <th>2</th>\n",
       "      <td>234</td>\n",
       "      <td>46</td>\n",
       "    </tr>\n",
       "    <tr>\n",
       "      <th>3</th>\n",
       "      <td>369</td>\n",
       "      <td>73</td>\n",
       "    </tr>\n",
       "    <tr>\n",
       "      <th>4</th>\n",
       "      <td>407</td>\n",
       "      <td>52</td>\n",
       "    </tr>\n",
       "  </tbody>\n",
       "</table>\n",
       "</div>"
      ],
      "text/plain": [
       "Attrition          0   1\n",
       "JobSatisfaction         \n",
       "1                223  66\n",
       "2                234  46\n",
       "3                369  73\n",
       "4                407  52"
      ]
     },
     "execution_count": 74,
     "metadata": {},
     "output_type": "execute_result"
    }
   ],
   "source": [
    "table_jobsat= pd.crosstab(data.JobSatisfaction,columns = data.Attrition)\n",
    "table_jobsat"
   ]
  },
  {
   "cell_type": "code",
   "execution_count": 75,
   "id": "e7a8a47b",
   "metadata": {
    "id": "e7a8a47b"
   },
   "outputs": [],
   "source": [
    "rowtotal_jobsat = table_jobsat.sum(axis = 1)\n",
    "coltotal_jobsat = table_jobsat.sum(axis = 0)"
   ]
  },
  {
   "cell_type": "code",
   "execution_count": 76,
   "id": "e749bd35",
   "metadata": {
    "colab": {
     "base_uri": "https://localhost:8080/",
     "height": 206
    },
    "id": "e749bd35",
    "outputId": "5785e659-1324-46a9-865d-fee20e35e29f"
   },
   "outputs": [
    {
     "data": {
      "text/html": [
       "<div>\n",
       "<style scoped>\n",
       "    .dataframe tbody tr th:only-of-type {\n",
       "        vertical-align: middle;\n",
       "    }\n",
       "\n",
       "    .dataframe tbody tr th {\n",
       "        vertical-align: top;\n",
       "    }\n",
       "\n",
       "    .dataframe thead th {\n",
       "        text-align: right;\n",
       "    }\n",
       "</style>\n",
       "<table border=\"1\" class=\"dataframe\">\n",
       "  <thead>\n",
       "    <tr style=\"text-align: right;\">\n",
       "      <th>Attrition</th>\n",
       "      <th>0</th>\n",
       "      <th>1</th>\n",
       "    </tr>\n",
       "    <tr>\n",
       "      <th>JobSatisfaction</th>\n",
       "      <th></th>\n",
       "      <th></th>\n",
       "    </tr>\n",
       "  </thead>\n",
       "  <tbody>\n",
       "    <tr>\n",
       "      <th>1</th>\n",
       "      <td>0.771626</td>\n",
       "      <td>0.228374</td>\n",
       "    </tr>\n",
       "    <tr>\n",
       "      <th>2</th>\n",
       "      <td>0.835714</td>\n",
       "      <td>0.164286</td>\n",
       "    </tr>\n",
       "    <tr>\n",
       "      <th>3</th>\n",
       "      <td>0.834842</td>\n",
       "      <td>0.165158</td>\n",
       "    </tr>\n",
       "    <tr>\n",
       "      <th>4</th>\n",
       "      <td>0.886710</td>\n",
       "      <td>0.113290</td>\n",
       "    </tr>\n",
       "  </tbody>\n",
       "</table>\n",
       "</div>"
      ],
      "text/plain": [
       "Attrition               0         1\n",
       "JobSatisfaction                    \n",
       "1                0.771626  0.228374\n",
       "2                0.835714  0.164286\n",
       "3                0.834842  0.165158\n",
       "4                0.886710  0.113290"
      ]
     },
     "execution_count": 76,
     "metadata": {},
     "output_type": "execute_result"
    }
   ],
   "source": [
    "table_jobsat.div(rowtotal_jobsat,axis = 0)"
   ]
  },
  {
   "cell_type": "code",
   "execution_count": 77,
   "id": "24bba8b9",
   "metadata": {
    "colab": {
     "base_uri": "https://localhost:8080/",
     "height": 206
    },
    "id": "24bba8b9",
    "outputId": "adc31386-79d6-49f5-98aa-a5c231a275e0"
   },
   "outputs": [
    {
     "data": {
      "text/html": [
       "<div>\n",
       "<style scoped>\n",
       "    .dataframe tbody tr th:only-of-type {\n",
       "        vertical-align: middle;\n",
       "    }\n",
       "\n",
       "    .dataframe tbody tr th {\n",
       "        vertical-align: top;\n",
       "    }\n",
       "\n",
       "    .dataframe thead th {\n",
       "        text-align: right;\n",
       "    }\n",
       "</style>\n",
       "<table border=\"1\" class=\"dataframe\">\n",
       "  <thead>\n",
       "    <tr style=\"text-align: right;\">\n",
       "      <th>Attrition</th>\n",
       "      <th>0</th>\n",
       "      <th>1</th>\n",
       "    </tr>\n",
       "    <tr>\n",
       "      <th>JobSatisfaction</th>\n",
       "      <th></th>\n",
       "      <th></th>\n",
       "    </tr>\n",
       "  </thead>\n",
       "  <tbody>\n",
       "    <tr>\n",
       "      <th>1</th>\n",
       "      <td>0.180860</td>\n",
       "      <td>0.278481</td>\n",
       "    </tr>\n",
       "    <tr>\n",
       "      <th>2</th>\n",
       "      <td>0.189781</td>\n",
       "      <td>0.194093</td>\n",
       "    </tr>\n",
       "    <tr>\n",
       "      <th>3</th>\n",
       "      <td>0.299270</td>\n",
       "      <td>0.308017</td>\n",
       "    </tr>\n",
       "    <tr>\n",
       "      <th>4</th>\n",
       "      <td>0.330089</td>\n",
       "      <td>0.219409</td>\n",
       "    </tr>\n",
       "  </tbody>\n",
       "</table>\n",
       "</div>"
      ],
      "text/plain": [
       "Attrition               0         1\n",
       "JobSatisfaction                    \n",
       "1                0.180860  0.278481\n",
       "2                0.189781  0.194093\n",
       "3                0.299270  0.308017\n",
       "4                0.330089  0.219409"
      ]
     },
     "execution_count": 77,
     "metadata": {},
     "output_type": "execute_result"
    }
   ],
   "source": [
    "table_jobsat.div(coltotal_jobsat,axis = 1)"
   ]
  },
  {
   "cell_type": "markdown",
   "id": "fe389923",
   "metadata": {
    "id": "fe389923"
   },
   "source": [
    "# <center>--------------------------- WorkLifeBalance ---------------------------"
   ]
  },
  {
   "cell_type": "code",
   "execution_count": 78,
   "id": "1245025b",
   "metadata": {
    "colab": {
     "base_uri": "https://localhost:8080/",
     "height": 296
    },
    "id": "1245025b",
    "outputId": "edb15fb0-5a21-49f3-f62a-b17ea6655e67"
   },
   "outputs": [
    {
     "data": {
      "text/plain": [
       "<AxesSubplot:xlabel='WorkLifeBalance', ylabel='count'>"
      ]
     },
     "execution_count": 78,
     "metadata": {},
     "output_type": "execute_result"
    },
    {
     "data": {
      "image/png": "[encoded data removed]",
      "text/plain": [
       "<Figure size 432x288 with 1 Axes>"
      ]
     },
     "metadata": {
      "needs_background": "light"
     },
     "output_type": "display_data"
    }
   ],
   "source": [
    "sns.countplot(x=data[data['Attrition']==1].WorkLifeBalance)\n"
   ]
  },
  {
   "cell_type": "code",
   "execution_count": 79,
   "id": "VpmmH4U4qhDv",
   "metadata": {
    "colab": {
     "base_uri": "https://localhost:8080/",
     "height": 206
    },
    "id": "VpmmH4U4qhDv",
    "outputId": "047439f7-bc5b-4eaf-bd8b-bffff94471d2"
   },
   "outputs": [
    {
     "data": {
      "text/html": [
       "<div>\n",
       "<style scoped>\n",
       "    .dataframe tbody tr th:only-of-type {\n",
       "        vertical-align: middle;\n",
       "    }\n",
       "\n",
       "    .dataframe tbody tr th {\n",
       "        vertical-align: top;\n",
       "    }\n",
       "\n",
       "    .dataframe thead th {\n",
       "        text-align: right;\n",
       "    }\n",
       "</style>\n",
       "<table border=\"1\" class=\"dataframe\">\n",
       "  <thead>\n",
       "    <tr style=\"text-align: right;\">\n",
       "      <th></th>\n",
       "      <th>Age</th>\n",
       "      <th>MonthlyIncome</th>\n",
       "      <th>TotalWorkingYears</th>\n",
       "      <th>YearsInCurrentRole</th>\n",
       "      <th>YearsSinceLastPromotion</th>\n",
       "      <th>YearsWithCurrManager</th>\n",
       "      <th>DistanceFromHome</th>\n",
       "    </tr>\n",
       "    <tr>\n",
       "      <th>WorkLifeBalance</th>\n",
       "      <th></th>\n",
       "      <th></th>\n",
       "      <th></th>\n",
       "      <th></th>\n",
       "      <th></th>\n",
       "      <th></th>\n",
       "      <th></th>\n",
       "    </tr>\n",
       "  </thead>\n",
       "  <tbody>\n",
       "    <tr>\n",
       "      <th>1</th>\n",
       "      <td>34.800000</td>\n",
       "      <td>4143.560000</td>\n",
       "      <td>9.000000</td>\n",
       "      <td>2.520000</td>\n",
       "      <td>2.120000</td>\n",
       "      <td>3.280000</td>\n",
       "      <td>10.080000</td>\n",
       "    </tr>\n",
       "    <tr>\n",
       "      <th>2</th>\n",
       "      <td>34.241379</td>\n",
       "      <td>4928.051724</td>\n",
       "      <td>8.189655</td>\n",
       "      <td>2.862069</td>\n",
       "      <td>2.344828</td>\n",
       "      <td>3.051724</td>\n",
       "      <td>11.982759</td>\n",
       "    </tr>\n",
       "    <tr>\n",
       "      <th>3</th>\n",
       "      <td>33.440945</td>\n",
       "      <td>5022.007874</td>\n",
       "      <td>8.149606</td>\n",
       "      <td>2.976378</td>\n",
       "      <td>1.724409</td>\n",
       "      <td>2.653543</td>\n",
       "      <td>10.496063</td>\n",
       "    </tr>\n",
       "    <tr>\n",
       "      <th>4</th>\n",
       "      <td>31.925926</td>\n",
       "      <td>3975.185185</td>\n",
       "      <td>8.111111</td>\n",
       "      <td>3.000000</td>\n",
       "      <td>1.962963</td>\n",
       "      <td>2.962963</td>\n",
       "      <td>8.888889</td>\n",
       "    </tr>\n",
       "  </tbody>\n",
       "</table>\n",
       "</div>"
      ],
      "text/plain": [
       "                       Age  MonthlyIncome  TotalWorkingYears  \\\n",
       "WorkLifeBalance                                                \n",
       "1                34.800000    4143.560000           9.000000   \n",
       "2                34.241379    4928.051724           8.189655   \n",
       "3                33.440945    5022.007874           8.149606   \n",
       "4                31.925926    3975.185185           8.111111   \n",
       "\n",
       "                 YearsInCurrentRole  YearsSinceLastPromotion  \\\n",
       "WorkLifeBalance                                                \n",
       "1                          2.520000                 2.120000   \n",
       "2                          2.862069                 2.344828   \n",
       "3                          2.976378                 1.724409   \n",
       "4                          3.000000                 1.962963   \n",
       "\n",
       "                 YearsWithCurrManager  DistanceFromHome  \n",
       "WorkLifeBalance                                          \n",
       "1                            3.280000         10.080000  \n",
       "2                            3.051724         11.982759  \n",
       "3                            2.653543         10.496063  \n",
       "4                            2.962963          8.888889  "
      ]
     },
     "execution_count": 79,
     "metadata": {},
     "output_type": "execute_result"
    }
   ],
   "source": [
    "data[numbers+ ['WorkLifeBalance'] ].loc[data.Attrition==1].groupby('WorkLifeBalance').mean()"
   ]
  },
  {
   "cell_type": "code",
   "execution_count": 80,
   "id": "03ac894d",
   "metadata": {
    "colab": {
     "base_uri": "https://localhost:8080/",
     "height": 206
    },
    "id": "03ac894d",
    "outputId": "41d43e85-12c6-4ba2-d722-725846838315"
   },
   "outputs": [
    {
     "data": {
      "text/html": [
       "<div>\n",
       "<style scoped>\n",
       "    .dataframe tbody tr th:only-of-type {\n",
       "        vertical-align: middle;\n",
       "    }\n",
       "\n",
       "    .dataframe tbody tr th {\n",
       "        vertical-align: top;\n",
       "    }\n",
       "\n",
       "    .dataframe thead th {\n",
       "        text-align: right;\n",
       "    }\n",
       "</style>\n",
       "<table border=\"1\" class=\"dataframe\">\n",
       "  <thead>\n",
       "    <tr style=\"text-align: right;\">\n",
       "      <th></th>\n",
       "      <th>Age</th>\n",
       "      <th>MonthlyIncome</th>\n",
       "      <th>TotalWorkingYears</th>\n",
       "      <th>YearsInCurrentRole</th>\n",
       "      <th>YearsSinceLastPromotion</th>\n",
       "      <th>YearsWithCurrManager</th>\n",
       "      <th>DistanceFromHome</th>\n",
       "    </tr>\n",
       "    <tr>\n",
       "      <th>WorkLifeBalance</th>\n",
       "      <th></th>\n",
       "      <th></th>\n",
       "      <th></th>\n",
       "      <th></th>\n",
       "      <th></th>\n",
       "      <th></th>\n",
       "      <th></th>\n",
       "    </tr>\n",
       "  </thead>\n",
       "  <tbody>\n",
       "    <tr>\n",
       "      <th>1</th>\n",
       "      <td>38.418182</td>\n",
       "      <td>6679.672727</td>\n",
       "      <td>11.436364</td>\n",
       "      <td>3.890909</td>\n",
       "      <td>1.690909</td>\n",
       "      <td>4.290909</td>\n",
       "      <td>9.127273</td>\n",
       "    </tr>\n",
       "    <tr>\n",
       "      <th>2</th>\n",
       "      <td>37.786713</td>\n",
       "      <td>6772.849650</td>\n",
       "      <td>12.230769</td>\n",
       "      <td>4.346154</td>\n",
       "      <td>2.286713</td>\n",
       "      <td>4.328671</td>\n",
       "      <td>8.786713</td>\n",
       "    </tr>\n",
       "    <tr>\n",
       "      <th>3</th>\n",
       "      <td>37.415144</td>\n",
       "      <td>6782.622715</td>\n",
       "      <td>11.734987</td>\n",
       "      <td>4.552219</td>\n",
       "      <td>2.241514</td>\n",
       "      <td>4.408616</td>\n",
       "      <td>9.075718</td>\n",
       "    </tr>\n",
       "    <tr>\n",
       "      <th>4</th>\n",
       "      <td>37.563492</td>\n",
       "      <td>7340.174603</td>\n",
       "      <td>11.992063</td>\n",
       "      <td>4.642857</td>\n",
       "      <td>2.309524</td>\n",
       "      <td>4.238095</td>\n",
       "      <td>8.142857</td>\n",
       "    </tr>\n",
       "  </tbody>\n",
       "</table>\n",
       "</div>"
      ],
      "text/plain": [
       "                       Age  MonthlyIncome  TotalWorkingYears  \\\n",
       "WorkLifeBalance                                                \n",
       "1                38.418182    6679.672727          11.436364   \n",
       "2                37.786713    6772.849650          12.230769   \n",
       "3                37.415144    6782.622715          11.734987   \n",
       "4                37.563492    7340.174603          11.992063   \n",
       "\n",
       "                 YearsInCurrentRole  YearsSinceLastPromotion  \\\n",
       "WorkLifeBalance                                                \n",
       "1                          3.890909                 1.690909   \n",
       "2                          4.346154                 2.286713   \n",
       "3                          4.552219                 2.241514   \n",
       "4                          4.642857                 2.309524   \n",
       "\n",
       "                 YearsWithCurrManager  DistanceFromHome  \n",
       "WorkLifeBalance                                          \n",
       "1                            4.290909          9.127273  \n",
       "2                            4.328671          8.786713  \n",
       "3                            4.408616          9.075718  \n",
       "4                            4.238095          8.142857  "
      ]
     },
     "execution_count": 80,
     "metadata": {},
     "output_type": "execute_result"
    }
   ],
   "source": [
    "data[numbers+ ['WorkLifeBalance'] ].loc[data.Attrition==0].groupby('WorkLifeBalance').mean()"
   ]
  },
  {
   "cell_type": "code",
   "execution_count": 81,
   "id": "66c62767",
   "metadata": {
    "colab": {
     "base_uri": "https://localhost:8080/",
     "height": 206
    },
    "id": "66c62767",
    "outputId": "ab8d734b-d17f-4eee-8602-2a6a55d7fe64",
    "scrolled": true
   },
   "outputs": [
    {
     "data": {
      "text/html": [
       "<div>\n",
       "<style scoped>\n",
       "    .dataframe tbody tr th:only-of-type {\n",
       "        vertical-align: middle;\n",
       "    }\n",
       "\n",
       "    .dataframe tbody tr th {\n",
       "        vertical-align: top;\n",
       "    }\n",
       "\n",
       "    .dataframe thead th {\n",
       "        text-align: right;\n",
       "    }\n",
       "</style>\n",
       "<table border=\"1\" class=\"dataframe\">\n",
       "  <thead>\n",
       "    <tr style=\"text-align: right;\">\n",
       "      <th>Attrition</th>\n",
       "      <th>0</th>\n",
       "      <th>1</th>\n",
       "    </tr>\n",
       "    <tr>\n",
       "      <th>WorkLifeBalance</th>\n",
       "      <th></th>\n",
       "      <th></th>\n",
       "    </tr>\n",
       "  </thead>\n",
       "  <tbody>\n",
       "    <tr>\n",
       "      <th>1</th>\n",
       "      <td>55</td>\n",
       "      <td>25</td>\n",
       "    </tr>\n",
       "    <tr>\n",
       "      <th>2</th>\n",
       "      <td>286</td>\n",
       "      <td>58</td>\n",
       "    </tr>\n",
       "    <tr>\n",
       "      <th>3</th>\n",
       "      <td>766</td>\n",
       "      <td>127</td>\n",
       "    </tr>\n",
       "    <tr>\n",
       "      <th>4</th>\n",
       "      <td>126</td>\n",
       "      <td>27</td>\n",
       "    </tr>\n",
       "  </tbody>\n",
       "</table>\n",
       "</div>"
      ],
      "text/plain": [
       "Attrition          0    1\n",
       "WorkLifeBalance          \n",
       "1                 55   25\n",
       "2                286   58\n",
       "3                766  127\n",
       "4                126   27"
      ]
     },
     "execution_count": 81,
     "metadata": {},
     "output_type": "execute_result"
    }
   ],
   "source": [
    "table_work= pd.crosstab(data.WorkLifeBalance,columns = data.Attrition)\n",
    "table_work\n"
   ]
  },
  {
   "cell_type": "code",
   "execution_count": 82,
   "id": "196ec7ca",
   "metadata": {
    "colab": {
     "base_uri": "https://localhost:8080/"
    },
    "id": "196ec7ca",
    "outputId": "ce55b4f0-3041-4c73-8f59-6162d0aba98e"
   },
   "outputs": [
    {
     "data": {
      "text/plain": [
       "WorkLifeBalance\n",
       "1     80\n",
       "2    344\n",
       "3    893\n",
       "4    153\n",
       "dtype: int64"
      ]
     },
     "execution_count": 82,
     "metadata": {},
     "output_type": "execute_result"
    }
   ],
   "source": [
    "rowtotal_work = table_work.sum(axis = 1)\n",
    "coltotal_work = table_work.sum(axis = 0)\n",
    "rowtotal_work"
   ]
  },
  {
   "cell_type": "code",
   "execution_count": 83,
   "id": "1b28cfc4",
   "metadata": {
    "colab": {
     "base_uri": "https://localhost:8080/",
     "height": 206
    },
    "id": "1b28cfc4",
    "outputId": "0a9bcc98-6112-4d4b-823d-70e6c27dde61"
   },
   "outputs": [
    {
     "data": {
      "text/html": [
       "<div>\n",
       "<style scoped>\n",
       "    .dataframe tbody tr th:only-of-type {\n",
       "        vertical-align: middle;\n",
       "    }\n",
       "\n",
       "    .dataframe tbody tr th {\n",
       "        vertical-align: top;\n",
       "    }\n",
       "\n",
       "    .dataframe thead th {\n",
       "        text-align: right;\n",
       "    }\n",
       "</style>\n",
       "<table border=\"1\" class=\"dataframe\">\n",
       "  <thead>\n",
       "    <tr style=\"text-align: right;\">\n",
       "      <th>Attrition</th>\n",
       "      <th>0</th>\n",
       "      <th>1</th>\n",
       "    </tr>\n",
       "    <tr>\n",
       "      <th>WorkLifeBalance</th>\n",
       "      <th></th>\n",
       "      <th></th>\n",
       "    </tr>\n",
       "  </thead>\n",
       "  <tbody>\n",
       "    <tr>\n",
       "      <th>1</th>\n",
       "      <td>0.687500</td>\n",
       "      <td>0.312500</td>\n",
       "    </tr>\n",
       "    <tr>\n",
       "      <th>2</th>\n",
       "      <td>0.831395</td>\n",
       "      <td>0.168605</td>\n",
       "    </tr>\n",
       "    <tr>\n",
       "      <th>3</th>\n",
       "      <td>0.857783</td>\n",
       "      <td>0.142217</td>\n",
       "    </tr>\n",
       "    <tr>\n",
       "      <th>4</th>\n",
       "      <td>0.823529</td>\n",
       "      <td>0.176471</td>\n",
       "    </tr>\n",
       "  </tbody>\n",
       "</table>\n",
       "</div>"
      ],
      "text/plain": [
       "Attrition               0         1\n",
       "WorkLifeBalance                    \n",
       "1                0.687500  0.312500\n",
       "2                0.831395  0.168605\n",
       "3                0.857783  0.142217\n",
       "4                0.823529  0.176471"
      ]
     },
     "execution_count": 83,
     "metadata": {},
     "output_type": "execute_result"
    }
   ],
   "source": [
    "table_work.div(rowtotal_work,axis = 0)"
   ]
  },
  {
   "cell_type": "code",
   "execution_count": 84,
   "id": "41904056",
   "metadata": {
    "colab": {
     "base_uri": "https://localhost:8080/",
     "height": 206
    },
    "id": "41904056",
    "outputId": "967404a6-5076-41ed-cdb7-5059729da0be"
   },
   "outputs": [
    {
     "data": {
      "text/html": [
       "<div>\n",
       "<style scoped>\n",
       "    .dataframe tbody tr th:only-of-type {\n",
       "        vertical-align: middle;\n",
       "    }\n",
       "\n",
       "    .dataframe tbody tr th {\n",
       "        vertical-align: top;\n",
       "    }\n",
       "\n",
       "    .dataframe thead th {\n",
       "        text-align: right;\n",
       "    }\n",
       "</style>\n",
       "<table border=\"1\" class=\"dataframe\">\n",
       "  <thead>\n",
       "    <tr style=\"text-align: right;\">\n",
       "      <th>Attrition</th>\n",
       "      <th>0</th>\n",
       "      <th>1</th>\n",
       "    </tr>\n",
       "    <tr>\n",
       "      <th>WorkLifeBalance</th>\n",
       "      <th></th>\n",
       "      <th></th>\n",
       "    </tr>\n",
       "  </thead>\n",
       "  <tbody>\n",
       "    <tr>\n",
       "      <th>1</th>\n",
       "      <td>0.044607</td>\n",
       "      <td>0.105485</td>\n",
       "    </tr>\n",
       "    <tr>\n",
       "      <th>2</th>\n",
       "      <td>0.231955</td>\n",
       "      <td>0.244726</td>\n",
       "    </tr>\n",
       "    <tr>\n",
       "      <th>3</th>\n",
       "      <td>0.621249</td>\n",
       "      <td>0.535865</td>\n",
       "    </tr>\n",
       "    <tr>\n",
       "      <th>4</th>\n",
       "      <td>0.102190</td>\n",
       "      <td>0.113924</td>\n",
       "    </tr>\n",
       "  </tbody>\n",
       "</table>\n",
       "</div>"
      ],
      "text/plain": [
       "Attrition               0         1\n",
       "WorkLifeBalance                    \n",
       "1                0.044607  0.105485\n",
       "2                0.231955  0.244726\n",
       "3                0.621249  0.535865\n",
       "4                0.102190  0.113924"
      ]
     },
     "execution_count": 84,
     "metadata": {},
     "output_type": "execute_result"
    }
   ],
   "source": [
    "table_work.div(coltotal_work,axis = 1)"
   ]
  },
  {
   "cell_type": "markdown",
   "id": "da4583d1",
   "metadata": {
    "id": "da4583d1"
   },
   "source": [
    "# <center>--------------------------- JobLevel ---------------------------"
   ]
  },
  {
   "cell_type": "code",
   "execution_count": 85,
   "id": "pGBZ6TzMqjOY",
   "metadata": {
    "colab": {
     "base_uri": "https://localhost:8080/",
     "height": 237
    },
    "id": "pGBZ6TzMqjOY",
    "outputId": "70a93ffa-630f-4bc7-985e-2bf06e2f2c3d"
   },
   "outputs": [
    {
     "data": {
      "text/html": [
       "<div>\n",
       "<style scoped>\n",
       "    .dataframe tbody tr th:only-of-type {\n",
       "        vertical-align: middle;\n",
       "    }\n",
       "\n",
       "    .dataframe tbody tr th {\n",
       "        vertical-align: top;\n",
       "    }\n",
       "\n",
       "    .dataframe thead th {\n",
       "        text-align: right;\n",
       "    }\n",
       "</style>\n",
       "<table border=\"1\" class=\"dataframe\">\n",
       "  <thead>\n",
       "    <tr style=\"text-align: right;\">\n",
       "      <th></th>\n",
       "      <th>Age</th>\n",
       "      <th>MonthlyIncome</th>\n",
       "      <th>TotalWorkingYears</th>\n",
       "      <th>YearsInCurrentRole</th>\n",
       "      <th>YearsSinceLastPromotion</th>\n",
       "      <th>YearsWithCurrManager</th>\n",
       "      <th>DistanceFromHome</th>\n",
       "    </tr>\n",
       "    <tr>\n",
       "      <th>JobLevel</th>\n",
       "      <th></th>\n",
       "      <th></th>\n",
       "      <th></th>\n",
       "      <th></th>\n",
       "      <th></th>\n",
       "      <th></th>\n",
       "      <th></th>\n",
       "    </tr>\n",
       "  </thead>\n",
       "  <tbody>\n",
       "    <tr>\n",
       "      <th>1</th>\n",
       "      <td>33.357500</td>\n",
       "      <td>2854.407500</td>\n",
       "      <td>6.262500</td>\n",
       "      <td>2.742500</td>\n",
       "      <td>1.207500</td>\n",
       "      <td>2.687500</td>\n",
       "      <td>8.330000</td>\n",
       "    </tr>\n",
       "    <tr>\n",
       "      <th>2</th>\n",
       "      <td>36.672199</td>\n",
       "      <td>5474.495851</td>\n",
       "      <td>10.512448</td>\n",
       "      <td>4.593361</td>\n",
       "      <td>1.875519</td>\n",
       "      <td>4.595436</td>\n",
       "      <td>9.344398</td>\n",
       "    </tr>\n",
       "    <tr>\n",
       "      <th>3</th>\n",
       "      <td>39.967742</td>\n",
       "      <td>9891.032258</td>\n",
       "      <td>15.026882</td>\n",
       "      <td>6.252688</td>\n",
       "      <td>3.306452</td>\n",
       "      <td>5.704301</td>\n",
       "      <td>9.204301</td>\n",
       "    </tr>\n",
       "    <tr>\n",
       "      <th>4</th>\n",
       "      <td>47.683168</td>\n",
       "      <td>15620.287129</td>\n",
       "      <td>25.603960</td>\n",
       "      <td>6.584158</td>\n",
       "      <td>4.673267</td>\n",
       "      <td>6.009901</td>\n",
       "      <td>10.138614</td>\n",
       "    </tr>\n",
       "    <tr>\n",
       "      <th>5</th>\n",
       "      <td>47.562500</td>\n",
       "      <td>19170.578125</td>\n",
       "      <td>26.156250</td>\n",
       "      <td>6.093750</td>\n",
       "      <td>4.390625</td>\n",
       "      <td>6.671875</td>\n",
       "      <td>6.578125</td>\n",
       "    </tr>\n",
       "  </tbody>\n",
       "</table>\n",
       "</div>"
      ],
      "text/plain": [
       "                Age  MonthlyIncome  TotalWorkingYears  YearsInCurrentRole  \\\n",
       "JobLevel                                                                    \n",
       "1         33.357500    2854.407500           6.262500            2.742500   \n",
       "2         36.672199    5474.495851          10.512448            4.593361   \n",
       "3         39.967742    9891.032258          15.026882            6.252688   \n",
       "4         47.683168   15620.287129          25.603960            6.584158   \n",
       "5         47.562500   19170.578125          26.156250            6.093750   \n",
       "\n",
       "          YearsSinceLastPromotion  YearsWithCurrManager  DistanceFromHome  \n",
       "JobLevel                                                                   \n",
       "1                        1.207500              2.687500          8.330000  \n",
       "2                        1.875519              4.595436          9.344398  \n",
       "3                        3.306452              5.704301          9.204301  \n",
       "4                        4.673267              6.009901         10.138614  \n",
       "5                        4.390625              6.671875          6.578125  "
      ]
     },
     "execution_count": 85,
     "metadata": {},
     "output_type": "execute_result"
    }
   ],
   "source": [
    "data[numbers+ ['JobLevel'] ].loc[data.Attrition==0].groupby('JobLevel').mean()"
   ]
  },
  {
   "cell_type": "code",
   "execution_count": 86,
   "id": "V6m3di_ZqjC9",
   "metadata": {
    "colab": {
     "base_uri": "https://localhost:8080/",
     "height": 237
    },
    "id": "V6m3di_ZqjC9",
    "outputId": "69f26bbc-4933-4044-b7a8-c0e6449ad3d4"
   },
   "outputs": [
    {
     "data": {
      "text/html": [
       "<div>\n",
       "<style scoped>\n",
       "    .dataframe tbody tr th:only-of-type {\n",
       "        vertical-align: middle;\n",
       "    }\n",
       "\n",
       "    .dataframe tbody tr th {\n",
       "        vertical-align: top;\n",
       "    }\n",
       "\n",
       "    .dataframe thead th {\n",
       "        text-align: right;\n",
       "    }\n",
       "</style>\n",
       "<table border=\"1\" class=\"dataframe\">\n",
       "  <thead>\n",
       "    <tr style=\"text-align: right;\">\n",
       "      <th></th>\n",
       "      <th>Age</th>\n",
       "      <th>MonthlyIncome</th>\n",
       "      <th>TotalWorkingYears</th>\n",
       "      <th>YearsInCurrentRole</th>\n",
       "      <th>YearsSinceLastPromotion</th>\n",
       "      <th>YearsWithCurrManager</th>\n",
       "      <th>DistanceFromHome</th>\n",
       "    </tr>\n",
       "    <tr>\n",
       "      <th>JobLevel</th>\n",
       "      <th></th>\n",
       "      <th></th>\n",
       "      <th></th>\n",
       "      <th></th>\n",
       "      <th></th>\n",
       "      <th></th>\n",
       "      <th></th>\n",
       "    </tr>\n",
       "  </thead>\n",
       "  <tbody>\n",
       "    <tr>\n",
       "      <th>1</th>\n",
       "      <td>30.195804</td>\n",
       "      <td>2598.125874</td>\n",
       "      <td>4.853147</td>\n",
       "      <td>1.874126</td>\n",
       "      <td>1.153846</td>\n",
       "      <td>1.888112</td>\n",
       "      <td>9.475524</td>\n",
       "    </tr>\n",
       "    <tr>\n",
       "      <th>2</th>\n",
       "      <td>35.923077</td>\n",
       "      <td>5759.788462</td>\n",
       "      <td>9.596154</td>\n",
       "      <td>3.192308</td>\n",
       "      <td>1.980769</td>\n",
       "      <td>3.250000</td>\n",
       "      <td>12.826923</td>\n",
       "    </tr>\n",
       "    <tr>\n",
       "      <th>3</th>\n",
       "      <td>40.781250</td>\n",
       "      <td>9388.406250</td>\n",
       "      <td>15.656250</td>\n",
       "      <td>5.312500</td>\n",
       "      <td>3.625000</td>\n",
       "      <td>5.000000</td>\n",
       "      <td>13.062500</td>\n",
       "    </tr>\n",
       "    <tr>\n",
       "      <th>4</th>\n",
       "      <td>44.600000</td>\n",
       "      <td>13150.400000</td>\n",
       "      <td>22.800000</td>\n",
       "      <td>5.600000</td>\n",
       "      <td>8.200000</td>\n",
       "      <td>7.400000</td>\n",
       "      <td>12.000000</td>\n",
       "    </tr>\n",
       "    <tr>\n",
       "      <th>5</th>\n",
       "      <td>50.200000</td>\n",
       "      <td>19463.800000</td>\n",
       "      <td>29.200000</td>\n",
       "      <td>11.200000</td>\n",
       "      <td>7.200000</td>\n",
       "      <td>8.000000</td>\n",
       "      <td>4.000000</td>\n",
       "    </tr>\n",
       "  </tbody>\n",
       "</table>\n",
       "</div>"
      ],
      "text/plain": [
       "                Age  MonthlyIncome  TotalWorkingYears  YearsInCurrentRole  \\\n",
       "JobLevel                                                                    \n",
       "1         30.195804    2598.125874           4.853147            1.874126   \n",
       "2         35.923077    5759.788462           9.596154            3.192308   \n",
       "3         40.781250    9388.406250          15.656250            5.312500   \n",
       "4         44.600000   13150.400000          22.800000            5.600000   \n",
       "5         50.200000   19463.800000          29.200000           11.200000   \n",
       "\n",
       "          YearsSinceLastPromotion  YearsWithCurrManager  DistanceFromHome  \n",
       "JobLevel                                                                   \n",
       "1                        1.153846              1.888112          9.475524  \n",
       "2                        1.980769              3.250000         12.826923  \n",
       "3                        3.625000              5.000000         13.062500  \n",
       "4                        8.200000              7.400000         12.000000  \n",
       "5                        7.200000              8.000000          4.000000  "
      ]
     },
     "execution_count": 86,
     "metadata": {},
     "output_type": "execute_result"
    }
   ],
   "source": [
    "data[numbers+ ['JobLevel'] ].loc[data.Attrition==1].groupby('JobLevel').mean()"
   ]
  },
  {
   "cell_type": "code",
   "execution_count": 88,
   "id": "ebec9bc5",
   "metadata": {
    "colab": {
     "base_uri": "https://localhost:8080/",
     "height": 483
    },
    "id": "ebec9bc5",
    "outputId": "817da410-ae4d-4a73-8911-49e71a6073c1"
   },
   "outputs": [
    {
     "data": {
      "image/png": "[encoded data removed]",
      "text/plain": [
       "<Figure size 1080x576 with 1 Axes>"
      ]
     },
     "metadata": {},
     "output_type": "display_data"
    }
   ],
   "source": [
    "mylab=data.JobSatisfaction.value_counts().index\n",
    "data.JobSatisfaction.value_counts().plot(kind='pie',figsize=(15,8),\n",
    "                                  startangle=90,shadow=True,labels=mylab,autopct='%1.1f%%',fontsize=13)\n",
    "plt.show()"
   ]
  },
  {
   "cell_type": "code",
   "execution_count": 89,
   "id": "ae01c86d",
   "metadata": {
    "colab": {
     "base_uri": "https://localhost:8080/",
     "height": 237
    },
    "id": "ae01c86d",
    "outputId": "95f4bd63-f0ca-45fe-908c-87362ad84217"
   },
   "outputs": [
    {
     "data": {
      "text/html": [
       "<div>\n",
       "<style scoped>\n",
       "    .dataframe tbody tr th:only-of-type {\n",
       "        vertical-align: middle;\n",
       "    }\n",
       "\n",
       "    .dataframe tbody tr th {\n",
       "        vertical-align: top;\n",
       "    }\n",
       "\n",
       "    .dataframe thead th {\n",
       "        text-align: right;\n",
       "    }\n",
       "</style>\n",
       "<table border=\"1\" class=\"dataframe\">\n",
       "  <thead>\n",
       "    <tr style=\"text-align: right;\">\n",
       "      <th>Attrition</th>\n",
       "      <th>0</th>\n",
       "      <th>1</th>\n",
       "    </tr>\n",
       "    <tr>\n",
       "      <th>JobLevel</th>\n",
       "      <th></th>\n",
       "      <th></th>\n",
       "    </tr>\n",
       "  </thead>\n",
       "  <tbody>\n",
       "    <tr>\n",
       "      <th>1</th>\n",
       "      <td>400</td>\n",
       "      <td>143</td>\n",
       "    </tr>\n",
       "    <tr>\n",
       "      <th>2</th>\n",
       "      <td>482</td>\n",
       "      <td>52</td>\n",
       "    </tr>\n",
       "    <tr>\n",
       "      <th>3</th>\n",
       "      <td>186</td>\n",
       "      <td>32</td>\n",
       "    </tr>\n",
       "    <tr>\n",
       "      <th>4</th>\n",
       "      <td>101</td>\n",
       "      <td>5</td>\n",
       "    </tr>\n",
       "    <tr>\n",
       "      <th>5</th>\n",
       "      <td>64</td>\n",
       "      <td>5</td>\n",
       "    </tr>\n",
       "  </tbody>\n",
       "</table>\n",
       "</div>"
      ],
      "text/plain": [
       "Attrition    0    1\n",
       "JobLevel           \n",
       "1          400  143\n",
       "2          482   52\n",
       "3          186   32\n",
       "4          101    5\n",
       "5           64    5"
      ]
     },
     "execution_count": 89,
     "metadata": {},
     "output_type": "execute_result"
    }
   ],
   "source": [
    "table_joblvl= pd.crosstab(data.JobLevel,columns = data.Attrition)\n",
    "table_joblvl"
   ]
  },
  {
   "cell_type": "code",
   "execution_count": 90,
   "id": "6c64ff52",
   "metadata": {
    "id": "6c64ff52"
   },
   "outputs": [],
   "source": [
    "rowtotal_joblvl = table_joblvl.sum(axis = 1)\n",
    "coltotal_joblvl = table_joblvl.sum(axis = 0)"
   ]
  },
  {
   "cell_type": "code",
   "execution_count": 91,
   "id": "9fba864c",
   "metadata": {
    "colab": {
     "base_uri": "https://localhost:8080/",
     "height": 237
    },
    "id": "9fba864c",
    "outputId": "209a54df-6002-426f-a8e6-279d42015264"
   },
   "outputs": [
    {
     "data": {
      "text/html": [
       "<div>\n",
       "<style scoped>\n",
       "    .dataframe tbody tr th:only-of-type {\n",
       "        vertical-align: middle;\n",
       "    }\n",
       "\n",
       "    .dataframe tbody tr th {\n",
       "        vertical-align: top;\n",
       "    }\n",
       "\n",
       "    .dataframe thead th {\n",
       "        text-align: right;\n",
       "    }\n",
       "</style>\n",
       "<table border=\"1\" class=\"dataframe\">\n",
       "  <thead>\n",
       "    <tr style=\"text-align: right;\">\n",
       "      <th>Attrition</th>\n",
       "      <th>0</th>\n",
       "      <th>1</th>\n",
       "    </tr>\n",
       "    <tr>\n",
       "      <th>JobLevel</th>\n",
       "      <th></th>\n",
       "      <th></th>\n",
       "    </tr>\n",
       "  </thead>\n",
       "  <tbody>\n",
       "    <tr>\n",
       "      <th>1</th>\n",
       "      <td>0.736648</td>\n",
       "      <td>0.263352</td>\n",
       "    </tr>\n",
       "    <tr>\n",
       "      <th>2</th>\n",
       "      <td>0.902622</td>\n",
       "      <td>0.097378</td>\n",
       "    </tr>\n",
       "    <tr>\n",
       "      <th>3</th>\n",
       "      <td>0.853211</td>\n",
       "      <td>0.146789</td>\n",
       "    </tr>\n",
       "    <tr>\n",
       "      <th>4</th>\n",
       "      <td>0.952830</td>\n",
       "      <td>0.047170</td>\n",
       "    </tr>\n",
       "    <tr>\n",
       "      <th>5</th>\n",
       "      <td>0.927536</td>\n",
       "      <td>0.072464</td>\n",
       "    </tr>\n",
       "  </tbody>\n",
       "</table>\n",
       "</div>"
      ],
      "text/plain": [
       "Attrition         0         1\n",
       "JobLevel                     \n",
       "1          0.736648  0.263352\n",
       "2          0.902622  0.097378\n",
       "3          0.853211  0.146789\n",
       "4          0.952830  0.047170\n",
       "5          0.927536  0.072464"
      ]
     },
     "execution_count": 91,
     "metadata": {},
     "output_type": "execute_result"
    }
   ],
   "source": [
    "table_joblvl.div(rowtotal_joblvl,axis = 0)"
   ]
  },
  {
   "cell_type": "code",
   "execution_count": 92,
   "id": "6c395681",
   "metadata": {
    "colab": {
     "base_uri": "https://localhost:8080/",
     "height": 237
    },
    "id": "6c395681",
    "outputId": "6ab1f67e-58f5-4027-d80f-13bbf04f31d8"
   },
   "outputs": [
    {
     "data": {
      "text/html": [
       "<div>\n",
       "<style scoped>\n",
       "    .dataframe tbody tr th:only-of-type {\n",
       "        vertical-align: middle;\n",
       "    }\n",
       "\n",
       "    .dataframe tbody tr th {\n",
       "        vertical-align: top;\n",
       "    }\n",
       "\n",
       "    .dataframe thead th {\n",
       "        text-align: right;\n",
       "    }\n",
       "</style>\n",
       "<table border=\"1\" class=\"dataframe\">\n",
       "  <thead>\n",
       "    <tr style=\"text-align: right;\">\n",
       "      <th>Attrition</th>\n",
       "      <th>0</th>\n",
       "      <th>1</th>\n",
       "    </tr>\n",
       "    <tr>\n",
       "      <th>JobLevel</th>\n",
       "      <th></th>\n",
       "      <th></th>\n",
       "    </tr>\n",
       "  </thead>\n",
       "  <tbody>\n",
       "    <tr>\n",
       "      <th>1</th>\n",
       "      <td>0.324412</td>\n",
       "      <td>0.603376</td>\n",
       "    </tr>\n",
       "    <tr>\n",
       "      <th>2</th>\n",
       "      <td>0.390916</td>\n",
       "      <td>0.219409</td>\n",
       "    </tr>\n",
       "    <tr>\n",
       "      <th>3</th>\n",
       "      <td>0.150852</td>\n",
       "      <td>0.135021</td>\n",
       "    </tr>\n",
       "    <tr>\n",
       "      <th>4</th>\n",
       "      <td>0.081914</td>\n",
       "      <td>0.021097</td>\n",
       "    </tr>\n",
       "    <tr>\n",
       "      <th>5</th>\n",
       "      <td>0.051906</td>\n",
       "      <td>0.021097</td>\n",
       "    </tr>\n",
       "  </tbody>\n",
       "</table>\n",
       "</div>"
      ],
      "text/plain": [
       "Attrition         0         1\n",
       "JobLevel                     \n",
       "1          0.324412  0.603376\n",
       "2          0.390916  0.219409\n",
       "3          0.150852  0.135021\n",
       "4          0.081914  0.021097\n",
       "5          0.051906  0.021097"
      ]
     },
     "execution_count": 92,
     "metadata": {},
     "output_type": "execute_result"
    }
   ],
   "source": [
    "table_joblvl.div(coltotal_joblvl,axis = 1)"
   ]
  },
  {
   "cell_type": "markdown",
   "id": "72ca47db",
   "metadata": {
    "id": "72ca47db"
   },
   "source": [
    "# <center>--------------------------- JobInvolvement ---------------------------"
   ]
  },
  {
   "cell_type": "code",
   "execution_count": 93,
   "id": "Xn2qGbQBqll5",
   "metadata": {
    "colab": {
     "base_uri": "https://localhost:8080/",
     "height": 206
    },
    "id": "Xn2qGbQBqll5",
    "outputId": "e9091d2c-f188-46d4-a95d-4a8a7414acea"
   },
   "outputs": [
    {
     "data": {
      "text/html": [
       "<div>\n",
       "<style scoped>\n",
       "    .dataframe tbody tr th:only-of-type {\n",
       "        vertical-align: middle;\n",
       "    }\n",
       "\n",
       "    .dataframe tbody tr th {\n",
       "        vertical-align: top;\n",
       "    }\n",
       "\n",
       "    .dataframe thead th {\n",
       "        text-align: right;\n",
       "    }\n",
       "</style>\n",
       "<table border=\"1\" class=\"dataframe\">\n",
       "  <thead>\n",
       "    <tr style=\"text-align: right;\">\n",
       "      <th></th>\n",
       "      <th>Age</th>\n",
       "      <th>MonthlyIncome</th>\n",
       "      <th>TotalWorkingYears</th>\n",
       "      <th>YearsInCurrentRole</th>\n",
       "      <th>YearsSinceLastPromotion</th>\n",
       "      <th>YearsWithCurrManager</th>\n",
       "      <th>DistanceFromHome</th>\n",
       "    </tr>\n",
       "    <tr>\n",
       "      <th>JobInvolvement</th>\n",
       "      <th></th>\n",
       "      <th></th>\n",
       "      <th></th>\n",
       "      <th></th>\n",
       "      <th></th>\n",
       "      <th></th>\n",
       "      <th></th>\n",
       "    </tr>\n",
       "  </thead>\n",
       "  <tbody>\n",
       "    <tr>\n",
       "      <th>1</th>\n",
       "      <td>37.290909</td>\n",
       "      <td>6902.981818</td>\n",
       "      <td>12.290909</td>\n",
       "      <td>4.672727</td>\n",
       "      <td>2.236364</td>\n",
       "      <td>4.345455</td>\n",
       "      <td>9.690909</td>\n",
       "    </tr>\n",
       "    <tr>\n",
       "      <th>2</th>\n",
       "      <td>37.529605</td>\n",
       "      <td>7126.309211</td>\n",
       "      <td>12.233553</td>\n",
       "      <td>4.526316</td>\n",
       "      <td>2.450658</td>\n",
       "      <td>4.444079</td>\n",
       "      <td>8.368421</td>\n",
       "    </tr>\n",
       "    <tr>\n",
       "      <th>3</th>\n",
       "      <td>37.698520</td>\n",
       "      <td>6808.263795</td>\n",
       "      <td>11.788694</td>\n",
       "      <td>4.460296</td>\n",
       "      <td>2.211306</td>\n",
       "      <td>4.301480</td>\n",
       "      <td>9.057873</td>\n",
       "    </tr>\n",
       "    <tr>\n",
       "      <th>4</th>\n",
       "      <td>36.969466</td>\n",
       "      <td>6260.809160</td>\n",
       "      <td>11.244275</td>\n",
       "      <td>4.442748</td>\n",
       "      <td>1.862595</td>\n",
       "      <td>4.572519</td>\n",
       "      <td>9.053435</td>\n",
       "    </tr>\n",
       "  </tbody>\n",
       "</table>\n",
       "</div>"
      ],
      "text/plain": [
       "                      Age  MonthlyIncome  TotalWorkingYears  \\\n",
       "JobInvolvement                                                \n",
       "1               37.290909    6902.981818          12.290909   \n",
       "2               37.529605    7126.309211          12.233553   \n",
       "3               37.698520    6808.263795          11.788694   \n",
       "4               36.969466    6260.809160          11.244275   \n",
       "\n",
       "                YearsInCurrentRole  YearsSinceLastPromotion  \\\n",
       "JobInvolvement                                                \n",
       "1                         4.672727                 2.236364   \n",
       "2                         4.526316                 2.450658   \n",
       "3                         4.460296                 2.211306   \n",
       "4                         4.442748                 1.862595   \n",
       "\n",
       "                YearsWithCurrManager  DistanceFromHome  \n",
       "JobInvolvement                                          \n",
       "1                           4.345455          9.690909  \n",
       "2                           4.444079          8.368421  \n",
       "3                           4.301480          9.057873  \n",
       "4                           4.572519          9.053435  "
      ]
     },
     "execution_count": 93,
     "metadata": {},
     "output_type": "execute_result"
    }
   ],
   "source": [
    "data[numbers+ ['JobInvolvement'] ].loc[data.Attrition==0].groupby('JobInvolvement').mean()"
   ]
  },
  {
   "cell_type": "code",
   "execution_count": 94,
   "id": "R3HN-cxfqlGb",
   "metadata": {
    "colab": {
     "base_uri": "https://localhost:8080/",
     "height": 206
    },
    "id": "R3HN-cxfqlGb",
    "outputId": "799b7a0e-2b61-4d6c-acfa-697cacd5fbe3"
   },
   "outputs": [
    {
     "data": {
      "text/html": [
       "<div>\n",
       "<style scoped>\n",
       "    .dataframe tbody tr th:only-of-type {\n",
       "        vertical-align: middle;\n",
       "    }\n",
       "\n",
       "    .dataframe tbody tr th {\n",
       "        vertical-align: top;\n",
       "    }\n",
       "\n",
       "    .dataframe thead th {\n",
       "        text-align: right;\n",
       "    }\n",
       "</style>\n",
       "<table border=\"1\" class=\"dataframe\">\n",
       "  <thead>\n",
       "    <tr style=\"text-align: right;\">\n",
       "      <th></th>\n",
       "      <th>Age</th>\n",
       "      <th>MonthlyIncome</th>\n",
       "      <th>TotalWorkingYears</th>\n",
       "      <th>YearsInCurrentRole</th>\n",
       "      <th>YearsSinceLastPromotion</th>\n",
       "      <th>YearsWithCurrManager</th>\n",
       "      <th>DistanceFromHome</th>\n",
       "    </tr>\n",
       "    <tr>\n",
       "      <th>JobInvolvement</th>\n",
       "      <th></th>\n",
       "      <th></th>\n",
       "      <th></th>\n",
       "      <th></th>\n",
       "      <th></th>\n",
       "      <th></th>\n",
       "      <th></th>\n",
       "    </tr>\n",
       "  </thead>\n",
       "  <tbody>\n",
       "    <tr>\n",
       "      <th>1</th>\n",
       "      <td>33.392857</td>\n",
       "      <td>5465.678571</td>\n",
       "      <td>9.035714</td>\n",
       "      <td>3.428571</td>\n",
       "      <td>2.285714</td>\n",
       "      <td>3.285714</td>\n",
       "      <td>10.357143</td>\n",
       "    </tr>\n",
       "    <tr>\n",
       "      <th>2</th>\n",
       "      <td>32.239437</td>\n",
       "      <td>4397.464789</td>\n",
       "      <td>7.549296</td>\n",
       "      <td>2.605634</td>\n",
       "      <td>1.422535</td>\n",
       "      <td>2.380282</td>\n",
       "      <td>10.788732</td>\n",
       "    </tr>\n",
       "    <tr>\n",
       "      <th>3</th>\n",
       "      <td>34.304000</td>\n",
       "      <td>4817.928000</td>\n",
       "      <td>8.384000</td>\n",
       "      <td>2.944000</td>\n",
       "      <td>2.160000</td>\n",
       "      <td>2.976000</td>\n",
       "      <td>10.152000</td>\n",
       "    </tr>\n",
       "    <tr>\n",
       "      <th>4</th>\n",
       "      <td>34.846154</td>\n",
       "      <td>5157.000000</td>\n",
       "      <td>9.000000</td>\n",
       "      <td>3.000000</td>\n",
       "      <td>2.000000</td>\n",
       "      <td>3.307692</td>\n",
       "      <td>15.000000</td>\n",
       "    </tr>\n",
       "  </tbody>\n",
       "</table>\n",
       "</div>"
      ],
      "text/plain": [
       "                      Age  MonthlyIncome  TotalWorkingYears  \\\n",
       "JobInvolvement                                                \n",
       "1               33.392857    5465.678571           9.035714   \n",
       "2               32.239437    4397.464789           7.549296   \n",
       "3               34.304000    4817.928000           8.384000   \n",
       "4               34.846154    5157.000000           9.000000   \n",
       "\n",
       "                YearsInCurrentRole  YearsSinceLastPromotion  \\\n",
       "JobInvolvement                                                \n",
       "1                         3.428571                 2.285714   \n",
       "2                         2.605634                 1.422535   \n",
       "3                         2.944000                 2.160000   \n",
       "4                         3.000000                 2.000000   \n",
       "\n",
       "                YearsWithCurrManager  DistanceFromHome  \n",
       "JobInvolvement                                          \n",
       "1                           3.285714         10.357143  \n",
       "2                           2.380282         10.788732  \n",
       "3                           2.976000         10.152000  \n",
       "4                           3.307692         15.000000  "
      ]
     },
     "execution_count": 94,
     "metadata": {},
     "output_type": "execute_result"
    }
   ],
   "source": [
    "data[numbers+ ['JobInvolvement'] ].loc[data.Attrition==1].groupby('JobInvolvement').mean()"
   ]
  },
  {
   "cell_type": "code",
   "execution_count": 95,
   "id": "bf9e1032",
   "metadata": {
    "colab": {
     "base_uri": "https://localhost:8080/",
     "height": 206
    },
    "id": "bf9e1032",
    "outputId": "fa5efeb5-24ff-4b0c-b634-8a0568c1255e"
   },
   "outputs": [
    {
     "data": {
      "text/html": [
       "<div>\n",
       "<style scoped>\n",
       "    .dataframe tbody tr th:only-of-type {\n",
       "        vertical-align: middle;\n",
       "    }\n",
       "\n",
       "    .dataframe tbody tr th {\n",
       "        vertical-align: top;\n",
       "    }\n",
       "\n",
       "    .dataframe thead th {\n",
       "        text-align: right;\n",
       "    }\n",
       "</style>\n",
       "<table border=\"1\" class=\"dataframe\">\n",
       "  <thead>\n",
       "    <tr style=\"text-align: right;\">\n",
       "      <th>Attrition</th>\n",
       "      <th>0</th>\n",
       "      <th>1</th>\n",
       "    </tr>\n",
       "    <tr>\n",
       "      <th>JobInvolvement</th>\n",
       "      <th></th>\n",
       "      <th></th>\n",
       "    </tr>\n",
       "  </thead>\n",
       "  <tbody>\n",
       "    <tr>\n",
       "      <th>1</th>\n",
       "      <td>55</td>\n",
       "      <td>28</td>\n",
       "    </tr>\n",
       "    <tr>\n",
       "      <th>2</th>\n",
       "      <td>304</td>\n",
       "      <td>71</td>\n",
       "    </tr>\n",
       "    <tr>\n",
       "      <th>3</th>\n",
       "      <td>743</td>\n",
       "      <td>125</td>\n",
       "    </tr>\n",
       "    <tr>\n",
       "      <th>4</th>\n",
       "      <td>131</td>\n",
       "      <td>13</td>\n",
       "    </tr>\n",
       "  </tbody>\n",
       "</table>\n",
       "</div>"
      ],
      "text/plain": [
       "Attrition         0    1\n",
       "JobInvolvement          \n",
       "1                55   28\n",
       "2               304   71\n",
       "3               743  125\n",
       "4               131   13"
      ]
     },
     "execution_count": 95,
     "metadata": {},
     "output_type": "execute_result"
    }
   ],
   "source": [
    "table_jobinv= pd.crosstab(data.JobInvolvement,columns = data.Attrition)\n",
    "table_jobinv"
   ]
  },
  {
   "cell_type": "code",
   "execution_count": 96,
   "id": "40746344",
   "metadata": {
    "id": "40746344"
   },
   "outputs": [],
   "source": [
    "rowtotal_jobinv = table_jobinv.sum(axis = 1)\n",
    "coltotal_jobinv = table_jobinv.sum(axis = 0)"
   ]
  },
  {
   "cell_type": "code",
   "execution_count": 97,
   "id": "c6929a64",
   "metadata": {
    "colab": {
     "base_uri": "https://localhost:8080/",
     "height": 206
    },
    "id": "c6929a64",
    "outputId": "863e2c41-d5af-4a75-8f6e-82070824ea6c"
   },
   "outputs": [
    {
     "data": {
      "text/html": [
       "<div>\n",
       "<style scoped>\n",
       "    .dataframe tbody tr th:only-of-type {\n",
       "        vertical-align: middle;\n",
       "    }\n",
       "\n",
       "    .dataframe tbody tr th {\n",
       "        vertical-align: top;\n",
       "    }\n",
       "\n",
       "    .dataframe thead th {\n",
       "        text-align: right;\n",
       "    }\n",
       "</style>\n",
       "<table border=\"1\" class=\"dataframe\">\n",
       "  <thead>\n",
       "    <tr style=\"text-align: right;\">\n",
       "      <th>Attrition</th>\n",
       "      <th>0</th>\n",
       "      <th>1</th>\n",
       "    </tr>\n",
       "    <tr>\n",
       "      <th>JobInvolvement</th>\n",
       "      <th></th>\n",
       "      <th></th>\n",
       "    </tr>\n",
       "  </thead>\n",
       "  <tbody>\n",
       "    <tr>\n",
       "      <th>1</th>\n",
       "      <td>0.662651</td>\n",
       "      <td>0.337349</td>\n",
       "    </tr>\n",
       "    <tr>\n",
       "      <th>2</th>\n",
       "      <td>0.810667</td>\n",
       "      <td>0.189333</td>\n",
       "    </tr>\n",
       "    <tr>\n",
       "      <th>3</th>\n",
       "      <td>0.855991</td>\n",
       "      <td>0.144009</td>\n",
       "    </tr>\n",
       "    <tr>\n",
       "      <th>4</th>\n",
       "      <td>0.909722</td>\n",
       "      <td>0.090278</td>\n",
       "    </tr>\n",
       "  </tbody>\n",
       "</table>\n",
       "</div>"
      ],
      "text/plain": [
       "Attrition              0         1\n",
       "JobInvolvement                    \n",
       "1               0.662651  0.337349\n",
       "2               0.810667  0.189333\n",
       "3               0.855991  0.144009\n",
       "4               0.909722  0.090278"
      ]
     },
     "execution_count": 97,
     "metadata": {},
     "output_type": "execute_result"
    }
   ],
   "source": [
    "table_jobinv.div(rowtotal_jobinv,axis = 0)"
   ]
  },
  {
   "cell_type": "code",
   "execution_count": 98,
   "id": "e3322e7f",
   "metadata": {
    "colab": {
     "base_uri": "https://localhost:8080/",
     "height": 206
    },
    "id": "e3322e7f",
    "outputId": "8a6097b8-f1da-4bb8-c50e-dbbf5e687a93"
   },
   "outputs": [
    {
     "data": {
      "text/html": [
       "<div>\n",
       "<style scoped>\n",
       "    .dataframe tbody tr th:only-of-type {\n",
       "        vertical-align: middle;\n",
       "    }\n",
       "\n",
       "    .dataframe tbody tr th {\n",
       "        vertical-align: top;\n",
       "    }\n",
       "\n",
       "    .dataframe thead th {\n",
       "        text-align: right;\n",
       "    }\n",
       "</style>\n",
       "<table border=\"1\" class=\"dataframe\">\n",
       "  <thead>\n",
       "    <tr style=\"text-align: right;\">\n",
       "      <th>Attrition</th>\n",
       "      <th>0</th>\n",
       "      <th>1</th>\n",
       "    </tr>\n",
       "    <tr>\n",
       "      <th>JobInvolvement</th>\n",
       "      <th></th>\n",
       "      <th></th>\n",
       "    </tr>\n",
       "  </thead>\n",
       "  <tbody>\n",
       "    <tr>\n",
       "      <th>1</th>\n",
       "      <td>0.044607</td>\n",
       "      <td>0.118143</td>\n",
       "    </tr>\n",
       "    <tr>\n",
       "      <th>2</th>\n",
       "      <td>0.246553</td>\n",
       "      <td>0.299578</td>\n",
       "    </tr>\n",
       "    <tr>\n",
       "      <th>3</th>\n",
       "      <td>0.602595</td>\n",
       "      <td>0.527426</td>\n",
       "    </tr>\n",
       "    <tr>\n",
       "      <th>4</th>\n",
       "      <td>0.106245</td>\n",
       "      <td>0.054852</td>\n",
       "    </tr>\n",
       "  </tbody>\n",
       "</table>\n",
       "</div>"
      ],
      "text/plain": [
       "Attrition              0         1\n",
       "JobInvolvement                    \n",
       "1               0.044607  0.118143\n",
       "2               0.246553  0.299578\n",
       "3               0.602595  0.527426\n",
       "4               0.106245  0.054852"
      ]
     },
     "execution_count": 98,
     "metadata": {},
     "output_type": "execute_result"
    }
   ],
   "source": [
    "table_jobinv.div(coltotal_jobinv,axis = 1)"
   ]
  },
  {
   "cell_type": "markdown",
   "id": "46a847fb",
   "metadata": {
    "id": "46a847fb"
   },
   "source": [
    "## -----------------------------------------------AGE-------------------------------"
   ]
  },
  {
   "cell_type": "code",
   "execution_count": 99,
   "id": "70501b36",
   "metadata": {
    "colab": {
     "base_uri": "https://localhost:8080/",
     "height": 296
    },
    "id": "70501b36",
    "outputId": "9744706c-aba6-464f-a6b5-560b35770732"
   },
   "outputs": [
    {
     "data": {
      "image/png": "[encoded data removed]",
      "text/plain": [
       "<Figure size 864x288 with 1 Axes>"
      ]
     },
     "metadata": {
      "needs_background": "light"
     },
     "output_type": "display_data"
    }
   ],
   "source": [
    "plt.subplots(figsize=(12,4))\n",
    "sns.countplot(x='Age',hue='Attrition',data=data,palette='colorblind')\n",
    "plt.show()"
   ]
  },
  {
   "cell_type": "code",
   "execution_count": 101,
   "id": "4cd1ee73",
   "metadata": {
    "colab": {
     "base_uri": "https://localhost:8080/",
     "height": 373
    },
    "id": "4cd1ee73",
    "outputId": "bfd0cbe6-d6af-497b-83e6-26abe24b25cf"
   },
   "outputs": [
    {
     "data": {
      "image/png": "[encoded data removed]",
      "text/plain": [
       "<Figure size 360x288 with 1 Axes>"
      ]
     },
     "metadata": {
      "needs_background": "light"
     },
     "output_type": "display_data"
    }
   ],
   "source": [
    "\n",
    "data.boxplot(column=\"Age\",\n",
    "            by=\"Attrition\",\n",
    "            grid=True,\n",
    "            figsize=(5,4),\n",
    "            rot=0)\n",
    "plt.ylabel(\"Age\",fontsize=12)\n",
    "plt.title(\"\")\n",
    "\n",
    "plt.show()\n"
   ]
  },
  {
   "cell_type": "markdown",
   "id": "9b41430e",
   "metadata": {
    "id": "9b41430e"
   },
   "source": [
    "# Monthly Income"
   ]
  },
  {
   "cell_type": "code",
   "execution_count": 102,
   "id": "62070efe",
   "metadata": {
    "colab": {
     "base_uri": "https://localhost:8080/",
     "height": 373
    },
    "id": "62070efe",
    "outputId": "dc33a446-7a01-4790-897b-98701b82ba5e"
   },
   "outputs": [
    {
     "data": {
      "image/png": "[encoded data removed]",
      "text/plain": [
       "<Figure size 360x288 with 1 Axes>"
      ]
     },
     "metadata": {
      "needs_background": "light"
     },
     "output_type": "display_data"
    }
   ],
   "source": [
    "data.boxplot(column=\"MonthlyIncome\",\n",
    "            by=\"Attrition\",\n",
    "            grid=True,\n",
    "            figsize=(5,4),\n",
    "            rot=0)\n",
    "plt.ylabel(\"Monthly Income\",fontsize=12)\n",
    "plt.title(\"\")\n",
    "\n",
    "\n",
    "plt.show()"
   ]
  },
  {
   "cell_type": "markdown",
   "id": "rh9A59U1eIQS",
   "metadata": {
    "id": "rh9A59U1eIQS"
   },
   "source": [
    "# **Total Working years**"
   ]
  },
  {
   "cell_type": "code",
   "execution_count": 103,
   "id": "CQgLzCi8eCQK",
   "metadata": {
    "colab": {
     "base_uri": "https://localhost:8080/",
     "height": 390
    },
    "id": "CQgLzCi8eCQK",
    "outputId": "5efb11be-6888-4da6-fa3d-2e76aec2329d"
   },
   "outputs": [
    {
     "data": {
      "image/png": "[encoded data removed]",
      "text/plain": [
       "<Figure size 360x288 with 1 Axes>"
      ]
     },
     "metadata": {
      "needs_background": "light"
     },
     "output_type": "display_data"
    },
    {
     "data": {
      "text/plain": [
       "<Figure size 1080x864 with 0 Axes>"
      ]
     },
     "metadata": {},
     "output_type": "display_data"
    }
   ],
   "source": [
    "data.boxplot(column=\"TotalWorkingYears\",\n",
    "            by=\"Attrition\",\n",
    "            grid=True,\n",
    "            figsize=(5,4),\n",
    "            rot=0)\n",
    "plt.title(\"\")\n",
    "\n",
    "plt.ylabel(\"Total Working Years\",fontsize=12)\n",
    "plt.figure(figsize=(15,12))\n",
    "\n",
    "plt.show()"
   ]
  },
  {
   "cell_type": "code",
   "execution_count": null,
   "id": "SSrByPEjfzTk",
   "metadata": {
    "id": "SSrByPEjfzTk"
   },
   "outputs": [],
   "source": []
  }
 ],
 "metadata": {
  "colab": {
   "collapsed_sections": [],
   "provenance": []
  },
  "kernelspec": {
   "display_name": "Python 3 (ipykernel)",
   "language": "python",
   "name": "python3"
  },
  "language_info": {
   "codemirror_mode": {
    "name": "ipython",
    "version": 3
   },
   "file_extension": ".py",
   "mimetype": "text/x-python",
   "name": "python",
   "nbconvert_exporter": "python",
   "pygments_lexer": "ipython3",
   "version": "3.9.12"
  }
 },
 "nbformat": 4,
 "nbformat_minor": 5
}
